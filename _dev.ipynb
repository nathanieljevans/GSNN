{
 "cells": [
  {
   "cell_type": "code",
   "execution_count": 4,
   "metadata": {},
   "outputs": [],
   "source": [
    "import torch\n",
    "import networkx as nx\n",
    "from torch.utils.data import Dataset, DataLoader\n",
    "import numpy as np \n",
    "from sklearn.metrics import r2_score \n",
    "\n",
    "\n",
    "import sys \n",
    "sys.path.append('../src/')\n",
    "\n",
    "from src.models.GSNN import GSNN\n",
    "from src.data.LincsDataset import LincsDataset\n",
    "\n",
    "%load_ext autoreload\n",
    "%autoreload 2"
   ]
  },
  {
   "cell_type": "code",
   "execution_count": null,
   "metadata": {},
   "outputs": [],
   "source": []
  },
  {
   "cell_type": "code",
   "execution_count": 50,
   "metadata": {},
   "outputs": [],
   "source": [
    "# edge id -->               0  1  2  3  4  5  6\n",
    "edge_index = torch.tensor([[0, 1, 2, 3, 2, 2, 3],\n",
    "                           [1, 2, 1, 1, 3, 4, 5]], dtype=torch.long)\n",
    "\n",
    "E = edge_index.size(1)\n",
    "\n",
    "# only node 0 is input node \n",
    "input_node_mask = torch.tensor([True, False, False, False, False, False])\n",
    "\n",
    "# nodes 4,5 are output nodes \n",
    "output_node_mask = torch.tensor([False, False, False, False, True, True])\n",
    "\n",
    "# shape (B, E)\n",
    "# NOTE: represents NODE inputs \n",
    "x =  torch.tensor([[1., 0., 0., 0.,0.,0.],\n",
    "                    [-1., 0., 0., 0.,0.,0.]]) \n",
    "\n",
    "B = x.size(0)\n",
    "N = torch.unique(edge_index).view(-1).size(0)\n",
    "\n",
    "# NOTE: node attrs are now handled by additional input nodes. "
   ]
  },
  {
   "cell_type": "code",
   "execution_count": 51,
   "metadata": {},
   "outputs": [
    {
     "data": {
      "image/png": "[encoded data removed]",
      "text/plain": [
       "<Figure size 640x480 with 1 Axes>"
      ]
     },
     "metadata": {},
     "output_type": "display_data"
    }
   ],
   "source": [
    "E = (E.detach().cpu().numpy().tolist() for E in edge_index.T)\n",
    "G = nx.DiGraph(E)\n",
    "\n",
    "nx.draw_networkx(G)"
   ]
  },
  {
   "cell_type": "code",
   "execution_count": 52,
   "metadata": {},
   "outputs": [],
   "source": [
    "def get_W1_indices(edge_index, channels): \n",
    "    '''\n",
    "    # how to create input layer , e.g., edge values -> node indices \n",
    "\n",
    "    # for edge in edge index \n",
    "        # for k in channels \n",
    "            #  add weight indice:    (edge_id, node_id + k)\n",
    "    '''\n",
    "    row = [] \n",
    "    col = []\n",
    "    for edge_id, (src, dst) in enumerate(edge_index.detach().cpu().numpy().T):\n",
    "        for k in range(channels): \n",
    "            row.append(edge_id)\n",
    "            col.append(dst.item() + k)\n",
    "\n",
    "    row = torch.tensor(row, dtype=torch.float32)\n",
    "    col = torch.tensor(col, dtype=torch.float32)\n",
    "    indices = torch.stack((row,col), dim=0)\n",
    "    return indices\n",
    "\n",
    "\n",
    "def get_W2_indices(function_nodes, channels): \n",
    "    '''\n",
    "    # how to create node -> node latent weight indices \n",
    "\n",
    "    # for node_id in function_nodes \n",
    "        # for k in channels: \n",
    "            # for k2 in channels: \n",
    "                # add weight indice: (node_id + k, node_id + k2)\n",
    "    '''\n",
    "    row = []\n",
    "    col = []\n",
    "    for node_id in function_nodes: \n",
    "        for k in range(channels): \n",
    "            for k2 in range(channels): \n",
    "                row.append(node_id.item() + k)\n",
    "                col.append(node_id.item() + k2)\n",
    "\n",
    "    row = torch.tensor(row, dtype=torch.float32)\n",
    "    col = torch.tensor(col, dtype=torch.float32)\n",
    "    indices = torch.stack((row,col), dim=0)\n",
    "    return indices\n",
    "\n",
    "def get_W3_indices(edge_index, function_nodes, channels): \n",
    "    '''\n",
    "    # how to create node -> edge indices \n",
    "\n",
    "    # for node_id in function_nodes \n",
    "\n",
    "        # filter to edges from node_id \n",
    "        # src, dst = edge_index\n",
    "        # out_edges = (src == node_id).nonzero()\n",
    "        # for k in channels: \n",
    "            # for out_edge_idx in out_edges: \n",
    "                # add weight indice:   (node_id + k, out_edge_idx)\n",
    "    '''\n",
    "    row = [] \n",
    "    col = []\n",
    "    for node_id in function_nodes: \n",
    "        \n",
    "        src,dst = edge_index \n",
    "        out_edges = (src == node_id).nonzero(as_tuple=True)[0]\n",
    "\n",
    "        for k in range(channels):\n",
    "            \n",
    "            for edge_id in out_edges: \n",
    "\n",
    "                row.append(node_id.item() + k)\n",
    "                col.append(edge_id.item())\n",
    "\n",
    "    row = torch.tensor(row, dtype=torch.float32)\n",
    "    col = torch.tensor(col, dtype=torch.float32)\n",
    "    indices = torch.stack((row,col), dim=0)\n",
    "    return indices\n",
    "\n",
    "def node2edge(x, edge_index): \n",
    "    '''\n",
    "    convert from node indexed attributes to edge indexed attributes\n",
    "    '''\n",
    "    src,dst = edge_index \n",
    "    return x[src] \n",
    "\n",
    "def edge2node(x, edge_index, output_node_mask): \n",
    "    ''' \n",
    "    convert from edge indexed attributes `x` to node indexed attributes\n",
    "    NOTE: only maps to output nodes (eg., in-degree = 1) to avoid collisions; all other nodes (input nodes + function nodes) will have value of 0. \n",
    "    '''\n",
    "    output_nodes = output_node_mask.nonzero(as_tuple=True)[0]\n",
    "    src, dst = edge_index \n",
    "    output_edge_mask = torch.isin(dst, output_nodes)\n",
    "\n",
    "    out = torch.zeros(output_node_mask.size(0), dtype=torch.float32, device=x.device)\n",
    "    out[dst[output_edge_mask]] = x[output_edge_mask]\n",
    "\n",
    "    return out\n",
    "\n"
   ]
  },
  {
   "cell_type": "code",
   "execution_count": 64,
   "metadata": {},
   "outputs": [],
   "source": [
    "class SparseLinear(torch.nn.Module): \n",
    "    def __init__(self, indices, dtype=torch.float32):\n",
    "        '''\n",
    "        indices: COO format \n",
    "\n",
    "        TODO: initialization values xavier ...  \n",
    "        '''\n",
    "        super().__init__() \n",
    "\n",
    "        src, dst = indices \n",
    "        self.weight = torch.nn.Parameter(torch.sparse_coo_tensor(indices=indices, values=torch.randn(indices.size(1), dtype=dtype)))\n",
    "        self.bias = torch.nn.Parameter(torch.zeros((len(dst),), dtype=dtype))\n",
    "\n",
    "    def forward(self, x): \n",
    "\n",
    "        print(x.size())\n",
    "        print(self.weight.size())\n",
    "\n",
    "        return torch.sparse.mm(self.weight, x) + self.bias\n",
    "\n",
    "    "
   ]
  },
  {
   "cell_type": "code",
   "execution_count": 77,
   "metadata": {},
   "outputs": [],
   "source": [
    "class GSNN(torch.nn.Module): \n",
    "\n",
    "    def __init__(self, edge_index, channels, input_node_mask, output_node_mask, layers, nonlin=torch.nn.ELU): \n",
    "        super().__init__()\n",
    "\n",
    "        self.layers = layers \n",
    "        self.edge_index = edge_index\n",
    "        function_nodes = (~(input_node_mask | output_node_mask)).nonzero(as_tuple=True)[0]\n",
    "\n",
    "        print(function_nodes)\n",
    "\n",
    "        self.lin1 = SparseLinear(indices=get_W1_indices(edge_index, channels))\n",
    "        self.lin2 = SparseLinear(indices=get_W2_indices(function_nodes, channels))\n",
    "        self.lin3 = SparseLinear(indices=get_W3_indices(edge_index, function_nodes, channels))\n",
    "\n",
    "        self.nonlin = nonlin() \n",
    "\n",
    "    def forward(self, x):\n",
    "        '''\n",
    "        x is `node` indexed \n",
    "        ''' \n",
    "        x0 = node2edge(x, edge_index) \n",
    "        x = x0\n",
    "\n",
    "        for l in range(self.layers): \n",
    "\n",
    "            x = self.lin1(x)\n",
    "            print('1', x.size())\n",
    "            print('1 type', x)\n",
    "            x = self.nonlin(x)\n",
    "            x = self.lin2(x)\n",
    "            print('2', x.size())\n",
    "            x = self.nonlin(x)\n",
    "            x = self.lin3(x) \n",
    "            print('3', x.size())\n",
    "            x = x + x0\n",
    "\n",
    "        x = edge2node(x, edge_index)\n",
    "        return x \n",
    "\n"
   ]
  },
  {
   "cell_type": "code",
   "execution_count": 78,
   "metadata": {},
   "outputs": [
    {
     "name": "stdout",
     "output_type": "stream",
     "text": [
      "tensor([1, 2, 3])\n"
     ]
    }
   ],
   "source": [
    "model = GSNN(edge_index, channels=2, input_node_mask=input_node_mask, output_node_mask=output_node_mask, layers=3)"
   ]
  },
  {
   "cell_type": "code",
   "execution_count": 79,
   "metadata": {},
   "outputs": [
    {
     "name": "stdout",
     "output_type": "stream",
     "text": [
      "torch.Size([7, 1])\n",
      "torch.Size([7, 7])\n",
      "1 torch.Size([7, 14])\n",
      "1 type "
     ]
    },
    {
     "name": "stdout",
     "output_type": "stream",
     "text": [
      "tensor([[0., 0., 0., 0., 0., 0., 0., 0., 0., 0., 0., 0., 0., 0.],\n",
      "        [0., 0., 0., 0., 0., 0., 0., 0., 0., 0., 0., 0., 0., 0.],\n",
      "        [0., 0., 0., 0., 0., 0., 0., 0., 0., 0., 0., 0., 0., 0.],\n",
      "        [0., 0., 0., 0., 0., 0., 0., 0., 0., 0., 0., 0., 0., 0.],\n",
      "        [0., 0., 0., 0., 0., 0., 0., 0., 0., 0., 0., 0., 0., 0.],\n",
      "        [0., 0., 0., 0., 0., 0., 0., 0., 0., 0., 0., 0., 0., 0.],\n",
      "        [0., 0., 0., 0., 0., 0., 0., 0., 0., 0., 0., 0., 0., 0.]],\n",
      "       grad_fn=<AddBackward0>)\n",
      "torch.Size([7, 14])\n",
      "torch.Size([5, 5])\n"
     ]
    },
    {
     "ename": "RuntimeError",
     "evalue": "addmm: Argument #3 (dense): Expected dim 0 size 5, got 7",
     "output_type": "error",
     "traceback": [
      "\u001b[0;31m---------------------------------------------------------------------------\u001b[0m",
      "\u001b[0;31mRuntimeError\u001b[0m                              Traceback (most recent call last)",
      "Cell \u001b[0;32mIn[79], line 1\u001b[0m\n\u001b[0;32m----> 1\u001b[0m model(x[\u001b[39m0\u001b[39;49m, :]\u001b[39m.\u001b[39;49munsqueeze(\u001b[39m-\u001b[39;49m\u001b[39m1\u001b[39;49m))\n",
      "File \u001b[0;32m~/miniconda3/envs/grcp/lib/python3.10/site-packages/torch/nn/modules/module.py:1501\u001b[0m, in \u001b[0;36mModule._call_impl\u001b[0;34m(self, *args, **kwargs)\u001b[0m\n\u001b[1;32m   1496\u001b[0m \u001b[39m# If we don't have any hooks, we want to skip the rest of the logic in\u001b[39;00m\n\u001b[1;32m   1497\u001b[0m \u001b[39m# this function, and just call forward.\u001b[39;00m\n\u001b[1;32m   1498\u001b[0m \u001b[39mif\u001b[39;00m \u001b[39mnot\u001b[39;00m (\u001b[39mself\u001b[39m\u001b[39m.\u001b[39m_backward_hooks \u001b[39mor\u001b[39;00m \u001b[39mself\u001b[39m\u001b[39m.\u001b[39m_backward_pre_hooks \u001b[39mor\u001b[39;00m \u001b[39mself\u001b[39m\u001b[39m.\u001b[39m_forward_hooks \u001b[39mor\u001b[39;00m \u001b[39mself\u001b[39m\u001b[39m.\u001b[39m_forward_pre_hooks\n\u001b[1;32m   1499\u001b[0m         \u001b[39mor\u001b[39;00m _global_backward_pre_hooks \u001b[39mor\u001b[39;00m _global_backward_hooks\n\u001b[1;32m   1500\u001b[0m         \u001b[39mor\u001b[39;00m _global_forward_hooks \u001b[39mor\u001b[39;00m _global_forward_pre_hooks):\n\u001b[0;32m-> 1501\u001b[0m     \u001b[39mreturn\u001b[39;00m forward_call(\u001b[39m*\u001b[39;49margs, \u001b[39m*\u001b[39;49m\u001b[39m*\u001b[39;49mkwargs)\n\u001b[1;32m   1502\u001b[0m \u001b[39m# Do not call functions when jit is used\u001b[39;00m\n\u001b[1;32m   1503\u001b[0m full_backward_hooks, non_full_backward_hooks \u001b[39m=\u001b[39m [], []\n",
      "Cell \u001b[0;32mIn[77], line 31\u001b[0m, in \u001b[0;36mGSNN.forward\u001b[0;34m(self, x)\u001b[0m\n\u001b[1;32m     29\u001b[0m \u001b[39mprint\u001b[39m(\u001b[39m'\u001b[39m\u001b[39m1 type\u001b[39m\u001b[39m'\u001b[39m, x)\n\u001b[1;32m     30\u001b[0m x \u001b[39m=\u001b[39m \u001b[39mself\u001b[39m\u001b[39m.\u001b[39mnonlin(x)\n\u001b[0;32m---> 31\u001b[0m x \u001b[39m=\u001b[39m \u001b[39mself\u001b[39;49m\u001b[39m.\u001b[39;49mlin2(x)\n\u001b[1;32m     32\u001b[0m \u001b[39mprint\u001b[39m(\u001b[39m'\u001b[39m\u001b[39m2\u001b[39m\u001b[39m'\u001b[39m, x\u001b[39m.\u001b[39msize())\n\u001b[1;32m     33\u001b[0m x \u001b[39m=\u001b[39m \u001b[39mself\u001b[39m\u001b[39m.\u001b[39mnonlin(x)\n",
      "File \u001b[0;32m~/miniconda3/envs/grcp/lib/python3.10/site-packages/torch/nn/modules/module.py:1501\u001b[0m, in \u001b[0;36mModule._call_impl\u001b[0;34m(self, *args, **kwargs)\u001b[0m\n\u001b[1;32m   1496\u001b[0m \u001b[39m# If we don't have any hooks, we want to skip the rest of the logic in\u001b[39;00m\n\u001b[1;32m   1497\u001b[0m \u001b[39m# this function, and just call forward.\u001b[39;00m\n\u001b[1;32m   1498\u001b[0m \u001b[39mif\u001b[39;00m \u001b[39mnot\u001b[39;00m (\u001b[39mself\u001b[39m\u001b[39m.\u001b[39m_backward_hooks \u001b[39mor\u001b[39;00m \u001b[39mself\u001b[39m\u001b[39m.\u001b[39m_backward_pre_hooks \u001b[39mor\u001b[39;00m \u001b[39mself\u001b[39m\u001b[39m.\u001b[39m_forward_hooks \u001b[39mor\u001b[39;00m \u001b[39mself\u001b[39m\u001b[39m.\u001b[39m_forward_pre_hooks\n\u001b[1;32m   1499\u001b[0m         \u001b[39mor\u001b[39;00m _global_backward_pre_hooks \u001b[39mor\u001b[39;00m _global_backward_hooks\n\u001b[1;32m   1500\u001b[0m         \u001b[39mor\u001b[39;00m _global_forward_hooks \u001b[39mor\u001b[39;00m _global_forward_pre_hooks):\n\u001b[0;32m-> 1501\u001b[0m     \u001b[39mreturn\u001b[39;00m forward_call(\u001b[39m*\u001b[39;49margs, \u001b[39m*\u001b[39;49m\u001b[39m*\u001b[39;49mkwargs)\n\u001b[1;32m   1502\u001b[0m \u001b[39m# Do not call functions when jit is used\u001b[39;00m\n\u001b[1;32m   1503\u001b[0m full_backward_hooks, non_full_backward_hooks \u001b[39m=\u001b[39m [], []\n",
      "Cell \u001b[0;32mIn[64], line 19\u001b[0m, in \u001b[0;36mSparseLinear.forward\u001b[0;34m(self, x)\u001b[0m\n\u001b[1;32m     16\u001b[0m \u001b[39mprint\u001b[39m(x\u001b[39m.\u001b[39msize())\n\u001b[1;32m     17\u001b[0m \u001b[39mprint\u001b[39m(\u001b[39mself\u001b[39m\u001b[39m.\u001b[39mweight\u001b[39m.\u001b[39msize())\n\u001b[0;32m---> 19\u001b[0m \u001b[39mreturn\u001b[39;00m torch\u001b[39m.\u001b[39;49msparse\u001b[39m.\u001b[39;49mmm(\u001b[39mself\u001b[39;49m\u001b[39m.\u001b[39;49mweight, x) \u001b[39m+\u001b[39m \u001b[39mself\u001b[39m\u001b[39m.\u001b[39mbias\n",
      "\u001b[0;31mRuntimeError\u001b[0m: addmm: Argument #3 (dense): Expected dim 0 size 5, got 7"
     ]
    }
   ],
   "source": [
    "model(x[0, :].unsqueeze(-1))"
   ]
  },
  {
   "cell_type": "code",
   "execution_count": 63,
   "metadata": {},
   "outputs": [
    {
     "data": {
      "text/plain": [
       "torch.Size([2, 6])"
      ]
     },
     "execution_count": 63,
     "metadata": {},
     "output_type": "execute_result"
    }
   ],
   "source": [
    "x.shape"
   ]
  },
  {
   "cell_type": "code",
   "execution_count": null,
   "metadata": {},
   "outputs": [],
   "source": []
  }
 ],
 "metadata": {
  "kernelspec": {
   "display_name": "grcp",
   "language": "python",
   "name": "python3"
  },
  "language_info": {
   "codemirror_mode": {
    "name": "ipython",
    "version": 3
   },
   "file_extension": ".py",
   "mimetype": "text/x-python",
   "name": "python",
   "nbconvert_exporter": "python",
   "pygments_lexer": "ipython3",
   "version": "3.10.11"
  },
  "orig_nbformat": 4
 },
 "nbformat": 4,
 "nbformat_minor": 2
}
