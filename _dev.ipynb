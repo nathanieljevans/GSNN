{
 "cells": [
  {
   "cell_type": "code",
   "execution_count": 1,
   "metadata": {},
   "outputs": [],
   "source": [
    "import torch\n",
    "import networkx as nx"
   ]
  },
  {
   "cell_type": "code",
   "execution_count": 2,
   "metadata": {},
   "outputs": [],
   "source": [
    "edge_index = torch.tensor([[0, 1, 2, 3, 2, 4],\n",
    "                           [1, 2, 3, 1, 4, 5]], dtype=torch.long)\n",
    "\n",
    "# only node 0 is an input edge\n",
    "# (E, 1)\n",
    "input_mask = torch.tensor([True, False, False, False, False, False])\n",
    "\n",
    "# only node 3 is an output node \n",
    "# (E,1)\n",
    "# this describes which edges are \"output\" edges \n",
    "# NOTE: we assme outputs are unique, e.g., two different output edges don't describe the same output\n",
    "output_mask = torch.tensor([False, False, False, False, False, True])\n",
    "\n",
    "# shape (B, E)\n",
    "x0 =  torch.tensor([[1., 0., 0., 0.,0.,0.],\n",
    "                    [-1., 0., 0., 0.,0.,0.]]) \n",
    "\n",
    "# "
   ]
  },
  {
   "cell_type": "code",
   "execution_count": 3,
   "metadata": {},
   "outputs": [
    {
     "data": {
      "image/png": "[encoded data removed]",
      "text/plain": [
       "<Figure size 640x480 with 1 Axes>"
      ]
     },
     "metadata": {},
     "output_type": "display_data"
    }
   ],
   "source": [
    "E = (E.detach().cpu().numpy().tolist() for E in edge_index.T)\n",
    "G = nx.DiGraph(E)\n",
    "\n",
    "\n",
    "nx.draw_networkx(G)"
   ]
  },
  {
   "cell_type": "code",
   "execution_count": 4,
   "metadata": {},
   "outputs": [],
   "source": [
    "def get_degree(edge_index, idx): \n",
    "    src,dst = edge_index \n",
    "    \n",
    "    out_degree = (src == idx).sum()\n",
    "    in_degree = (dst == idx).sum()\n",
    "\n",
    "    return in_degree, out_degree"
   ]
  },
  {
   "cell_type": "code",
   "execution_count": 5,
   "metadata": {},
   "outputs": [],
   "source": [
    "def get_in_out_ixs(edge_index, idx): \n",
    "    '''\n",
    "    Return the edge id (e.g., index of each edge in `edge_index` that corresponds to a given node `idx` inputs/outputs)\n",
    "    '''\n",
    "    src,dst = edge_index \n",
    "    \n",
    "    in_ixs = (dst == idx).nonzero().view(-1)\n",
    "    out_ixs= (src == idx).nonzero().view(-1)\n",
    "\n",
    "    return in_ixs, out_ixs"
   ]
  },
  {
   "cell_type": "code",
   "execution_count": 6,
   "metadata": {},
   "outputs": [],
   "source": [
    "def get_children(edge_index, idx): \n",
    "    src,dst = edge_index \n",
    "    return dst[src == idx]"
   ]
  },
  {
   "cell_type": "code",
   "execution_count": 20,
   "metadata": {},
   "outputs": [],
   "source": [
    "class Node(torch.nn.Module): \n",
    "    def __init__(self, input_channels, output_channels, in_ixs, out_ixs, idx, children, hidden_channels=2, nonlin=torch.nn.ELU, dropout=0., bias=True): \n",
    "        super().__init__()\n",
    "\n",
    "        self.in_ixs = in_ixs\n",
    "        self.out_ixs = out_ixs\n",
    "        self.idx = idx\n",
    "        self.children = children\n",
    "\n",
    "        self.nn = torch.nn.Sequential(torch.nn.Linear(input_channels, hidden_channels, bias=bias),\n",
    "                                      nonlin(), \n",
    "                                      torch.nn.BatchNorm1d(hidden_channels),\n",
    "                                      torch.nn.Dropout(dropout),\n",
    "                                      torch.nn.Linear(hidden_channels, output_channels, bias=bias))\n",
    "        \n",
    "    def forward(self, x): \n",
    "\n",
    "        x_in = x[:, self.in_ixs] # shape: (B, in_degree)\n",
    "        x_out = self.nn(x_in) # shape: (B, out_degree)\n",
    "\n",
    "        # batch the indices\n",
    "        B = x.size(0)\n",
    "        indices = (torch.arange(B).unsqueeze(-1), self.out_ixs.unsqueeze(0).repeat(B, 1))\n",
    "\n",
    "        x = torch.index_put(x, indices=indices, values=x_out)\n",
    "\n",
    "        return x"
   ]
  },
  {
   "cell_type": "code",
   "execution_count": 21,
   "metadata": {},
   "outputs": [],
   "source": [
    "class GSNN(torch.nn.Module): \n",
    "    def __init__(self, edge_index, input_mask, output_mask, hidden_channels, layers, dropout=0., nonlin=torch.nn.ELU): \n",
    "        super().__init__()\n",
    "\n",
    "        self.edge_index = edge_index \n",
    "        self.input_mask = input_mask \n",
    "        self.output_mask = output_mask\n",
    "        self.layers = layers\n",
    "\n",
    "        self.node_dict = self.build_nodes(edge_index=edge_index, \n",
    "                                          input_mask=input_mask, \n",
    "                                          output_mask=output_mask, \n",
    "                                          hidden_channels=hidden_channels, \n",
    "                                          nonlin=nonlin, \n",
    "                                          dropout=dropout)\n",
    " \n",
    "    def forward(self, x): \n",
    "        \n",
    "        # get children of \"input\" edges \n",
    "        src,dst = self.edge_index \n",
    "        function_evals = dst[self.input_mask]\n",
    "\n",
    "        for l in range(self.layers): \n",
    "            function_evals_new = []\n",
    "            for idx in function_evals: \n",
    "                x = self.node_dict[str(idx.item())](x)\n",
    "\n",
    "                # get children \n",
    "                function_evals_new.append(self.node_dict[str(idx.item())].children)\n",
    "\n",
    "            function_evals = torch.unique(torch.cat(function_evals_new, dim=-1))\n",
    "            #remove \"output\" nodes from function evals (no \"node\" key); only for prediction output\n",
    "            function_evals = function_evals[~torch.isin(function_evals, self.output_mask.nonzero())]\n",
    "\n",
    "        return x\n",
    "\n",
    "\n",
    "    def build_nodes(self, edge_index, input_mask, output_mask, hidden_channels, nonlin):\n",
    "        \n",
    "        # \"function\" nodes \n",
    "        # All nodes except the src in input edges and dst in output edges \n",
    "        src, dst = edge_index \n",
    "        function_node_ixs = torch.unique(torch.cat((src[~input_mask], dst[~output_mask]), dim=-1))\n",
    "\n",
    "        node_dict = {}\n",
    "        for i in function_node_ixs: \n",
    "            in_degree, out_degree = get_degree(edge_index, i)\n",
    "            in_ixs, out_ixs = get_in_out_ixs(edge_index, i)\n",
    "            children = get_children(edge_index, i)\n",
    "\n",
    "            node = Node(input_channels=in_degree, \n",
    "                        output_channels=out_degree, \n",
    "                        in_ixs = in_ixs, \n",
    "                        out_ixs = out_ixs,\n",
    "                        idx = i,\n",
    "                        children = children, \n",
    "                        hidden_channels=hidden_channels,\n",
    "                        nonlin = nonlin)\n",
    "            \n",
    "            node_dict[str(i.item())] = node\n",
    "        \n",
    "        return torch.nn.ModuleDict(node_dict)"
   ]
  },
  {
   "cell_type": "code",
   "execution_count": 22,
   "metadata": {},
   "outputs": [],
   "source": [
    "model = GSNN(edge_index, input_mask, output_mask, hidden_channels=2, layers=6)"
   ]
  },
  {
   "cell_type": "code",
   "execution_count": 23,
   "metadata": {},
   "outputs": [],
   "source": [
    "optim = torch.optim.Adam(model.parameters())"
   ]
  },
  {
   "cell_type": "code",
   "execution_count": 24,
   "metadata": {},
   "outputs": [
    {
     "data": {
      "text/plain": [
       "torch.Size([2, 6])"
      ]
     },
     "execution_count": 24,
     "metadata": {},
     "output_type": "execute_result"
    }
   ],
   "source": [
    "out = model(x0)\n",
    "out.shape"
   ]
  },
  {
   "cell_type": "code",
   "execution_count": 25,
   "metadata": {},
   "outputs": [
    {
     "data": {
      "text/plain": [
       "tensor([[ 1.0000, -1.0238,  0.4622, -0.0254, -0.2522,  0.7570],\n",
       "        [-1.0000,  1.0238, -0.4622,  0.0254,  0.2522, -0.7570]],\n",
       "       grad_fn=<SqueezeBackward0>)"
      ]
     },
     "execution_count": 25,
     "metadata": {},
     "output_type": "execute_result"
    }
   ],
   "source": [
    "out.squeeze()"
   ]
  },
  {
   "cell_type": "code",
   "execution_count": 26,
   "metadata": {},
   "outputs": [],
   "source": [
    "optim.zero_grad()\n",
    "loss = (out**2).mean()\n",
    "loss.backward()\n",
    "optim.step()"
   ]
  },
  {
   "cell_type": "code",
   "execution_count": null,
   "metadata": {},
   "outputs": [],
   "source": []
  },
  {
   "cell_type": "code",
   "execution_count": 272,
   "metadata": {},
   "outputs": [
    {
     "data": {
      "text/plain": [
       "tensor([1, 2, 3])"
      ]
     },
     "execution_count": 272,
     "metadata": {},
     "output_type": "execute_result"
    }
   ],
   "source": [
    "src, dst = edge_index \n",
    "function_nodes = torch.unique(torch.cat((src[~input_mask], dst[~output_mask]), dim=-1))\n",
    "function_nodes"
   ]
  },
  {
   "cell_type": "code",
   "execution_count": null,
   "metadata": {},
   "outputs": [],
   "source": []
  }
 ],
 "metadata": {
  "kernelspec": {
   "display_name": "grcp",
   "language": "python",
   "name": "python3"
  },
  "language_info": {
   "codemirror_mode": {
    "name": "ipython",
    "version": 3
   },
   "file_extension": ".py",
   "mimetype": "text/x-python",
   "name": "python",
   "nbconvert_exporter": "python",
   "pygments_lexer": "ipython3",
   "version": "3.10.11"
  },
  "orig_nbformat": 4
 },
 "nbformat": 4,
 "nbformat_minor": 2
}
