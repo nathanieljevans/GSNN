{
 "cells": [
  {
   "cell_type": "code",
   "execution_count": 1,
   "metadata": {},
   "outputs": [],
   "source": [
    "import torch\n",
    "import networkx as nx\n",
    "from torch.utils.data import Dataset, DataLoader\n",
    "import numpy as np \n",
    "from sklearn.metrics import r2_score \n",
    "import time \n",
    "\n",
    "import sys \n",
    "sys.path.append('../src/')\n",
    "\n",
    "from src.models.GSNN import GSNN\n",
    "from src.data.LincsDataset import LincsDataset\n",
    "\n",
    "%load_ext autoreload\n",
    "%autoreload 2"
   ]
  },
  {
   "cell_type": "code",
   "execution_count": 2,
   "metadata": {},
   "outputs": [
    {
     "name": "stdout",
     "output_type": "stream",
     "text": [
      "using device cuda\n"
     ]
    }
   ],
   "source": [
    "if torch.cuda.is_available() & True:\n",
    "    device = 'cuda'\n",
    "else: \n",
    "    device = 'cpu'\n",
    "\n",
    "print('using device', device)"
   ]
  },
  {
   "cell_type": "code",
   "execution_count": 3,
   "metadata": {},
   "outputs": [],
   "source": [
    "data = torch.load('./processed_data/Data.pt')"
   ]
  },
  {
   "cell_type": "code",
   "execution_count": 4,
   "metadata": {},
   "outputs": [],
   "source": [
    "train_ids = np.load('./processed_data/train_obs.npy', allow_pickle=True)\n",
    "train_dataset = LincsDataset(root='./processed_data/', sig_ids=train_ids)\n",
    "train_loader = DataLoader(train_dataset, batch_size=100, num_workers=4, shuffle=True)"
   ]
  },
  {
   "cell_type": "code",
   "execution_count": 5,
   "metadata": {},
   "outputs": [],
   "source": [
    "model = GSNN(edge_index=data.edge_index, \n",
    "             channels=2, \n",
    "             input_node_mask=data.input_node_mask, \n",
    "             output_node_mask=data.output_node_mask, \n",
    "             layers=6, \n",
    "             nonlin=torch.nn.ELU).to(device)"
   ]
  },
  {
   "cell_type": "code",
   "execution_count": 6,
   "metadata": {},
   "outputs": [
    {
     "name": "stdout",
     "output_type": "stream",
     "text": [
      "# params 57895\n"
     ]
    }
   ],
   "source": [
    "n_params = sum([p.numel() for p in model.parameters()])\n",
    "print('# params', n_params)"
   ]
  },
  {
   "cell_type": "code",
   "execution_count": 7,
   "metadata": {},
   "outputs": [],
   "source": [
    "optim = torch.optim.Adam(model.parameters(), lr=1e-2)\n",
    "crit = torch.nn.MSELoss()"
   ]
  },
  {
   "cell_type": "code",
   "execution_count": 8,
   "metadata": {},
   "outputs": [],
   "source": [
    "#model = torch.compile(model)"
   ]
  },
  {
   "cell_type": "code",
   "execution_count": 9,
   "metadata": {},
   "outputs": [],
   "source": [
    "#import os\n",
    "#os.environ['CUDA_LAUNCH_BLOCKING'] = \"1\" "
   ]
  },
  {
   "cell_type": "code",
   "execution_count": 13,
   "metadata": {},
   "outputs": [
    {
     "name": "stdout",
     "output_type": "stream",
     "text": [
      "epoch: 0 || batch: 2/174 || loss: 6.461 || r2: -0.625 || r (flat): 0.01 || elapsed: 7.60 s\r"
     ]
    }
   ],
   "source": [
    "for epoch in range(10):\n",
    "\n",
    "    for i,(x, y, sig_id) in enumerate(train_loader): \n",
    "        tic = time.time()\n",
    "        optim.zero_grad() \n",
    "\n",
    "        yhat = model(x.to(device))[:, data.output_node_mask]\n",
    "        y = y.to(device).squeeze(-1)[:, data.output_node_mask]\n",
    "\n",
    "        loss = crit(yhat, y)\n",
    "        loss.backward()\n",
    "        optim.step()\n",
    "\n",
    "        with torch.no_grad(): \n",
    "\n",
    "            yhat = yhat.detach().cpu().numpy() \n",
    "            y = y.detach().cpu().numpy() \n",
    "            \n",
    "            r2 = r2_score(y, yhat, multioutput='variance_weighted')\n",
    "            r_flat = np.corrcoef(y.ravel(), yhat.ravel())[0,1]\n",
    "\n",
    "            print(f'epoch: {epoch} || batch: {i}/{len(train_loader)} || loss: {loss.item():.3f} || r2: {r2:.3f} || r (flat): {r_flat:.2f} || elapsed: {(time.time() - tic):.2f} s' , end='\\r')"
   ]
  },
  {
   "cell_type": "code",
   "execution_count": null,
   "metadata": {},
   "outputs": [],
   "source": [
    "# ~26 s / 100"
   ]
  },
  {
   "cell_type": "code",
   "execution_count": 11,
   "metadata": {},
   "outputs": [
    {
     "data": {
      "text/plain": [
       "tensor([-2.7372e+00,  7.9487e-01, -8.2130e-01,  7.1259e-02, -2.4276e+00,\n",
       "         1.5438e+00, -7.5568e-01,  7.6005e-01, -2.6572e-01, -1.2217e+00,\n",
       "        -1.8302e+00, -1.1720e-01, -2.4695e+00,  5.0287e-01, -1.1350e-01,\n",
       "        -9.1554e-01,  1.3847e-02,  9.0542e-01,  5.9041e-01, -2.5673e+00,\n",
       "        -9.9430e-01,  1.6627e+00,  3.1663e+00,  4.5640e-01, -2.4768e+00,\n",
       "        -6.9217e-01, -3.4211e+00, -2.0355e+00,  1.4978e+00, -2.0236e+00,\n",
       "        -1.3300e+00,  1.9972e+00,  1.9623e+00,  5.8429e-01,  7.6550e-01,\n",
       "        -2.6922e+00, -1.4260e+00, -1.0625e+00,  4.4880e-01,  4.3913e-01,\n",
       "         1.6979e+00, -8.7291e-01,  1.4024e+00, -1.1617e+00, -1.7949e+00,\n",
       "         4.4222e+00,  4.3907e-02,  2.1571e-01,  2.9114e-01, -3.6218e-01,\n",
       "         1.8883e+00, -7.8620e-01,  2.2966e+00,  1.9168e+00,  1.2781e-01,\n",
       "         1.6094e+00, -2.2805e-01,  1.6631e-01, -2.0685e-02, -2.3544e+00,\n",
       "        -1.1345e-01, -6.3653e-01, -1.6065e+00, -1.4535e+00, -2.8213e+00,\n",
       "         1.1807e+00,  2.0080e+00,  1.3554e+00,  2.9059e-01,  4.1499e-01,\n",
       "         1.6286e+00,  7.5384e-02,  7.7124e-02,  3.3258e-01,  1.4886e-01,\n",
       "        -2.1206e+00,  1.4031e+00,  1.3566e+00,  1.5095e-01, -3.2480e+00,\n",
       "         1.2560e+00,  1.1142e+00, -3.1429e+00, -4.0694e-02,  1.2895e+00,\n",
       "         8.4900e-01,  8.9521e-01,  2.8740e-01, -2.8783e+00, -1.7758e+00,\n",
       "        -8.6906e-02,  1.6119e-01,  9.4443e-01, -1.1676e+00, -1.1108e+00,\n",
       "        -6.5188e-01, -1.6531e+00,  2.4512e+00, -9.7156e-01,  9.8326e-01,\n",
       "        -3.0127e-01,  1.8084e+00, -2.2895e+00, -1.6847e+00, -2.6076e+00,\n",
       "         7.0860e-01, -2.3152e+00, -2.0420e+00, -1.4151e+00,  4.2864e+00,\n",
       "         6.9988e-01, -7.3587e-02, -8.7036e-01,  1.4609e+00, -1.4734e-01,\n",
       "         7.3508e-01,  3.9852e-01,  5.5843e+00, -9.5237e-01, -1.0477e+00,\n",
       "        -7.1367e-01, -4.7765e-02, -1.3883e+00, -2.9490e+00,  4.5488e-01,\n",
       "         9.4447e-01, -4.9275e-01, -4.3823e-01,  3.0976e-01,  2.1832e-01,\n",
       "         6.1956e-01, -6.2225e-01,  2.5291e-01, -1.2831e+00, -2.1477e+00,\n",
       "        -1.3473e+00, -4.7951e+00, -1.9305e+00,  3.1868e-01, -3.8072e+00,\n",
       "        -5.6028e-01,  7.0168e-01,  4.7255e-01, -1.1752e+00, -2.4270e+00,\n",
       "        -1.6897e+00,  6.7668e-01,  1.6478e+00,  6.5988e-01,  1.4926e+00,\n",
       "         1.1023e+00,  6.8134e-02,  2.8629e-01,  2.3059e+00,  1.6264e+00,\n",
       "         1.5726e+00,  3.6770e+00,  4.5692e-01, -2.1609e+00,  1.4190e+00,\n",
       "        -6.0377e-01,  4.6123e-01,  2.3560e+00, -1.7308e-01,  4.4433e-01,\n",
       "        -1.3329e+00, -1.1515e+00,  4.6405e-02, -7.7330e-01, -1.2053e+00,\n",
       "         2.7736e+00, -1.1054e-01,  7.9515e-02, -1.6638e+00,  1.1561e+00,\n",
       "        -2.3943e+00, -1.6251e+00, -2.4459e+00,  3.1215e+00, -3.7846e-01,\n",
       "        -4.1039e-01, -1.2533e+00,  6.5939e-02, -1.6493e-01,  3.2869e+00,\n",
       "        -5.0013e-01,  2.4007e-02,  4.2456e+00, -1.0616e+00,  2.1522e+00,\n",
       "        -3.9192e-01,  2.8117e+00,  2.7402e-01, -3.9564e-02, -1.8784e+00,\n",
       "         6.5440e-01, -5.7878e-01,  2.8901e-01, -2.1849e-01,  1.2478e+00,\n",
       "        -5.9585e-01,  1.6987e+00,  8.3177e-02,  6.9664e-02,  3.5271e-01,\n",
       "         2.0258e+00, -2.5674e+00,  3.1011e-01,  3.4361e-01,  2.1881e+00,\n",
       "         1.7297e+00,  1.6477e+00,  1.6128e+00, -5.4538e-01,  3.2934e+00,\n",
       "        -1.9850e+00,  3.0831e+00, -1.8815e-01, -1.5848e+00,  3.4243e-01,\n",
       "         4.1111e-01, -1.2702e+00,  2.5589e-01, -2.4835e+00, -2.1171e+00,\n",
       "         4.5296e-01, -1.7481e+00, -7.6432e-01,  1.9252e-02,  7.5909e-01,\n",
       "        -2.7078e+00, -1.3534e-01, -8.1668e-01, -3.8319e-01, -7.7421e-01,\n",
       "         1.3985e+00, -1.4126e+00,  3.2998e-02, -1.7350e+00, -1.3119e+00,\n",
       "         2.9662e+00,  1.5221e+00, -3.4859e-01, -1.5713e-01,  1.4350e+00,\n",
       "        -4.7365e-01, -8.4275e-01, -1.7549e-01,  2.9654e+00, -8.2064e-01,\n",
       "        -2.8319e+00,  1.5815e+00, -6.9713e-01,  3.6060e-01,  5.3284e-01,\n",
       "         5.2821e-02,  1.0063e+00, -3.2638e-01, -1.0962e+00, -2.0067e-01,\n",
       "        -2.2838e+00,  2.2542e+00, -1.6712e-01, -8.0323e-01,  3.5843e+00,\n",
       "        -1.2981e-01, -1.4843e+00,  1.8127e-01,  1.6370e+00, -9.6041e-01,\n",
       "        -2.2826e-01, -1.1172e+00, -1.5536e+00, -2.2382e+00, -1.9134e+00,\n",
       "        -9.0911e-01,  5.6813e-01,  6.4189e-01, -6.5357e-01,  1.0436e-01,\n",
       "         1.8759e+00,  1.7525e+00,  4.9868e-01, -3.0388e+00, -1.7261e+00,\n",
       "         1.2191e+00, -1.2514e+00, -9.3755e-01, -2.7425e-01, -2.3406e+00,\n",
       "         1.2699e+00,  4.7465e-01,  8.6304e-01, -1.8678e+00,  1.1271e+00,\n",
       "        -1.3611e+00,  6.0774e+00, -1.8947e+00,  2.6882e-02,  5.3733e-01,\n",
       "         1.1819e+00, -7.7422e-02, -7.5643e-01, -1.0161e+00, -5.1675e-02,\n",
       "         4.7912e+00, -9.8955e-01,  1.0907e+00, -3.1249e-01, -2.8264e-01,\n",
       "        -2.4828e-01,  3.1591e-01, -9.5627e-01, -4.6204e-01, -1.8554e+00,\n",
       "        -3.7925e-01,  1.4364e+00, -1.8964e+00, -5.8155e-02,  1.3791e+00,\n",
       "        -8.5669e-01,  2.0074e+00, -6.2123e-01,  1.2745e+00,  3.0044e+00,\n",
       "         5.3002e-01, -1.2798e+00,  1.7658e+00,  1.8190e+00, -7.1237e-01,\n",
       "         1.1258e+00,  3.2514e+00,  2.8972e-01, -2.9084e+00, -2.5882e-01,\n",
       "        -1.6700e+00,  2.8110e-01,  1.6578e+00,  3.9825e+00,  1.0835e+00,\n",
       "        -5.3394e-01,  5.2634e-02,  2.3580e-01,  1.7726e+00,  1.4669e+00,\n",
       "        -1.8144e+00, -1.0994e+00,  6.5926e+00,  2.4580e+00, -1.6006e+00,\n",
       "         1.5088e+00, -1.7317e+00,  1.8732e+00,  1.0313e+00,  1.0606e+00,\n",
       "         7.3040e-01, -2.5632e+00,  1.3355e-02,  2.4215e-01, -2.1559e+00,\n",
       "        -3.6633e+00, -4.6786e-01, -9.8340e-01,  1.5937e+00,  7.9014e-01,\n",
       "         8.4423e-01, -9.7298e-01,  1.4985e-02, -2.3376e+00,  2.9721e-01,\n",
       "        -1.8977e-01,  2.0154e+00,  7.6530e-01, -1.0523e-01,  9.6638e-01,\n",
       "        -6.4941e-01,  4.4003e-01, -1.6222e-01, -7.0783e-01,  1.6333e+00,\n",
       "        -4.5691e+00, -2.7535e+00,  9.6813e-01,  4.5336e-02, -2.0834e-01,\n",
       "         2.4800e-01, -6.6275e-02,  2.5619e+00,  3.3872e-01,  1.7106e+00,\n",
       "         1.7080e+00, -6.7652e-01,  6.3664e+00,  7.3585e-02,  9.1986e-01,\n",
       "        -1.0238e+00, -2.5363e+00, -2.8496e-01, -7.8451e-01,  1.2000e-01,\n",
       "        -8.2668e-01, -4.9309e-01, -3.6346e-01,  4.9805e+00,  1.8800e+00,\n",
       "        -4.4439e-01, -7.7752e-01,  9.1970e-01, -9.7354e-01,  2.7140e-01,\n",
       "         6.8003e-01, -1.2807e+00,  6.1806e-01, -1.3869e+00,  3.4000e-01,\n",
       "        -5.0166e-01,  1.0105e+00,  3.3643e+00, -1.0367e+00,  1.9508e-02,\n",
       "        -3.0668e-01,  1.2093e+00, -2.6141e+00, -2.5486e-01,  2.1005e-01,\n",
       "        -7.5793e-01,  1.6310e+00,  5.2923e-01, -5.5666e-01, -3.0741e+00,\n",
       "         2.8059e+00,  9.6413e-01,  2.1880e+00, -1.5565e+00,  9.9810e-01,\n",
       "         2.2386e+00,  1.4835e+00, -2.9568e+00, -2.3067e-01, -3.1789e+00,\n",
       "         3.4443e+00, -8.3945e-01, -1.2651e+00, -1.5860e-01, -9.6238e-01,\n",
       "        -4.4799e+00, -2.0665e+00,  7.1062e-01,  7.0285e-01,  6.4827e-02,\n",
       "         1.1255e+00,  1.0805e+00, -1.1151e+00,  3.1200e+00,  1.3115e+00,\n",
       "         2.0052e-01,  5.6306e-01, -7.2385e-01,  1.1152e+00,  3.5160e-01,\n",
       "         3.3055e-01,  1.1668e+00,  3.6709e+00,  4.0795e-01,  3.5684e+00,\n",
       "         1.5527e+00, -3.9477e-01,  2.4602e+00,  5.9624e-01, -1.1985e+00,\n",
       "        -3.9229e-01,  3.0489e-01,  5.9750e-01,  3.0180e-01, -2.2529e+00,\n",
       "        -1.9314e+00, -1.9294e-01, -1.5471e+00, -1.2189e+00,  4.2480e-01,\n",
       "        -3.1741e+00, -4.0922e-01, -8.4794e-02, -1.5754e+00, -7.1313e-01,\n",
       "         4.8424e-01,  9.8336e-01, -4.4758e-01,  2.5147e-01, -1.6735e+00,\n",
       "        -2.1607e+00,  5.6842e-01, -1.8280e+00, -4.3425e-01, -4.1343e-02,\n",
       "         9.7964e-02,  3.6506e-01,  1.3186e+00, -1.7816e-01,  1.6140e+00,\n",
       "         5.0597e-02,  3.2348e+00, -1.0601e+00,  2.5228e+00,  5.3793e-01,\n",
       "         1.4807e+00, -3.0166e+00,  4.7114e-01,  4.5455e-01,  1.2422e-01,\n",
       "         7.8558e-02,  4.6129e-01, -1.0266e+00, -1.2064e+00,  4.2077e-01,\n",
       "        -1.4799e+00,  1.5067e+00,  1.2385e-02,  3.7259e-01, -3.6509e+00,\n",
       "        -1.5150e+00, -4.7862e-01,  1.6708e+00, -7.2900e-01,  2.1687e-01,\n",
       "         1.7134e+00,  4.4972e-01, -1.0758e+00,  2.5539e+00,  2.7083e+00,\n",
       "         2.0680e-01, -1.2156e+00,  1.0429e+00, -9.6696e-01,  1.1406e+00,\n",
       "         7.1851e-01, -1.2202e-01, -2.8056e+00, -1.9589e+00, -2.4603e+00,\n",
       "        -7.3144e-01, -1.6718e+00, -5.9412e-01,  4.6696e+00,  1.2346e+00,\n",
       "         7.6934e-02,  4.8523e-01, -1.7435e-01, -8.8078e-01,  1.3970e+00,\n",
       "        -4.0001e-01,  1.6472e+00,  1.0381e+00,  5.4311e-01,  2.8349e+00,\n",
       "         3.6173e-01, -6.6506e-01, -1.1249e+00,  6.0686e-01, -4.3300e-01,\n",
       "        -1.6889e+00,  9.1853e-01, -2.5001e+00, -1.1323e+00,  3.1097e-01,\n",
       "        -2.2230e-01,  3.2457e+00,  2.9330e+00, -4.0806e+00, -3.9488e+00,\n",
       "        -1.3045e+00, -6.6322e-02, -1.0702e+00, -9.0890e-01,  3.4345e-01,\n",
       "        -6.9053e-01, -1.0300e+00,  7.1196e-01,  1.8344e+00,  1.0909e+00,\n",
       "        -2.9056e-01, -3.6348e-01, -5.0250e-01,  3.1990e-02, -8.4376e-01,\n",
       "         2.0247e-01,  7.7612e-01, -8.7004e-02, -2.0695e+00, -3.0110e+00,\n",
       "        -1.4214e+00, -5.2974e-01, -1.5854e-01,  2.7636e-01, -2.9688e-01,\n",
       "         1.1505e-01, -1.4434e+00,  3.3082e-02, -2.8609e-01, -9.0532e-01,\n",
       "         2.3574e+00,  1.3389e+00,  1.4752e+00,  1.6585e-01, -1.4583e+00,\n",
       "        -1.2516e+00,  7.5209e-01, -1.6538e-01, -2.8325e+00, -1.0871e+00,\n",
       "         5.8647e-01,  1.7300e+00,  6.4287e-01, -3.9553e-01,  1.0489e+00,\n",
       "         5.1285e-01, -4.2726e-01,  2.3172e+00, -1.1585e+00,  1.3491e+00,\n",
       "        -4.8078e-01,  7.4567e-01,  1.7358e+00,  2.6996e-01, -1.7962e+00,\n",
       "         1.1757e+00,  4.3667e-01, -2.4728e+00, -2.4490e+00, -3.4121e-01,\n",
       "         1.7771e+00, -9.0212e-02, -1.9374e+00, -7.7962e-01,  5.5487e-01,\n",
       "        -1.6432e+00, -1.0279e+00, -3.9212e-01,  1.7200e+00, -2.4175e-01,\n",
       "         1.4034e+00,  1.9130e-01,  1.4862e+00,  3.6103e-01, -4.6386e+00,\n",
       "         1.3315e+00, -1.9660e+00,  9.5357e-01, -1.5855e+00, -1.6966e-01,\n",
       "        -3.0851e+00, -4.0572e-02, -7.7450e-01, -7.5209e-01, -4.6685e-01,\n",
       "        -7.9785e-01,  6.0454e-01,  5.0490e-01,  1.7325e+00, -1.9920e+00,\n",
       "        -1.8521e-01, -1.8140e-01, -3.1558e-01,  4.5665e-01,  1.3380e-02,\n",
       "         4.7250e-01, -1.5362e+00, -5.9405e-01,  1.7504e+00,  7.1583e-03,\n",
       "        -8.3248e-02, -3.4741e-01, -1.4867e-01,  3.0480e-01,  7.4990e-02,\n",
       "        -2.2588e+00, -7.7073e-01, -6.2474e-01, -3.7749e+00,  9.7236e-01,\n",
       "        -7.5458e-01, -3.3172e-01,  1.0338e+00,  8.7097e-01,  2.9887e+00,\n",
       "         1.9854e+00, -1.2038e-01,  1.1918e+00, -1.0334e+00,  2.9469e-01,\n",
       "         1.4252e+00,  3.1101e+00, -9.7631e-03, -1.3656e-01,  3.8411e-01,\n",
       "         3.4791e-01, -7.0381e-01,  2.5973e-01, -5.7305e-01, -1.1148e-01,\n",
       "         2.0843e+00, -2.1746e+00, -4.8210e-01,  4.6181e-01,  3.0742e-01,\n",
       "         6.4168e-01, -6.7626e-01, -1.9949e+00,  9.7040e-01,  2.6894e-01,\n",
       "         5.3426e-01, -1.8019e+00,  2.7722e-01, -2.7235e-01,  3.5089e-02,\n",
       "         1.5639e+00, -6.6666e-01, -6.6451e-01,  1.1616e+00,  2.1462e+00,\n",
       "        -1.8488e+00, -2.0447e+00, -4.5527e+00, -1.4333e+00,  1.0707e+00,\n",
       "         5.9545e-02, -2.0211e+00,  9.9801e-01,  1.4715e+00, -2.7298e-02,\n",
       "         1.0988e-01, -5.6565e-01, -2.0523e+00,  3.8430e-01,  3.9242e-01,\n",
       "         9.0815e-01, -1.2564e+00, -1.3232e+00,  2.1121e+00,  1.3268e+00,\n",
       "        -3.2598e+00, -4.2920e-02,  8.3277e-01,  4.9957e-01,  1.1226e+00,\n",
       "        -4.0442e-01,  1.9075e+00,  3.6194e-02,  5.8183e-01,  2.6058e-01,\n",
       "         2.2384e+00,  1.5568e+00,  6.3032e-02, -2.3290e-01, -2.6064e-01,\n",
       "        -4.8366e-01, -1.5171e-01,  8.4518e-01, -2.6379e+00,  4.9542e-02,\n",
       "        -1.1020e+00,  3.4514e-01,  5.0123e-01,  1.2578e+00,  1.0596e+00,\n",
       "        -2.4916e+00, -2.0847e-01,  2.8775e+00, -1.1720e+00, -1.6769e-01,\n",
       "         1.4513e+00, -1.4734e-01,  3.3850e-01, -1.8236e+00,  4.1773e+00,\n",
       "         8.4846e-02, -3.2560e-01, -2.6760e-02,  6.4761e-01,  9.3327e-01,\n",
       "        -7.4697e-01, -6.1527e+00, -1.7651e+00,  1.5809e-01,  4.4293e-01,\n",
       "         2.1574e-01, -2.5609e+00,  6.2814e-02, -1.1176e-01, -7.3120e-01,\n",
       "        -1.4291e+00,  2.8237e+00, -1.3693e+00,  1.8461e+00, -1.1737e-01,\n",
       "         1.2566e+00, -1.3716e-01,  1.3919e+00, -6.8506e-01,  1.1863e+00,\n",
       "         5.0838e-01, -1.1974e+00,  8.4258e-01, -9.6613e-01, -9.0292e-02,\n",
       "        -1.2033e+00, -6.1991e-01,  7.8113e-01,  3.2830e-01, -1.6323e+00,\n",
       "        -7.9401e-01, -2.9054e-01, -1.7643e+00, -1.2618e+00,  8.9040e-01,\n",
       "        -5.5180e-01, -2.8365e-02,  2.5123e+00,  6.2816e-01,  2.1943e-01,\n",
       "         3.7880e-01,  1.0110e+00,  1.0618e+00, -1.1592e-01,  1.5146e+00,\n",
       "         8.5794e-01, -2.6869e+00, -8.8848e-01, -1.3815e-01, -1.4591e+00,\n",
       "        -1.1077e+00, -2.1392e+00, -1.8495e-01,  2.2190e-01,  3.6884e-02,\n",
       "        -1.1510e-01, -4.3296e-01,  2.0134e+00, -1.2798e+00, -1.5165e-01,\n",
       "        -3.6724e+00,  1.5506e+00,  4.5787e-01, -1.3550e+00,  2.3942e-01,\n",
       "        -9.0419e-01, -2.2386e-01,  2.9308e+00,  3.3456e-01,  3.2059e-01,\n",
       "         1.6402e+00, -4.6020e-01,  2.2489e-01, -3.1825e+00, -7.4646e-02,\n",
       "         1.3121e+00, -1.8028e+00, -2.5008e+00, -1.6576e-01,  2.0127e+00,\n",
       "        -1.6408e+00, -4.5226e-01,  3.0888e+00, -1.4463e+00, -1.4264e-01,\n",
       "         2.6090e+00, -1.1735e+00,  1.1002e+00,  1.7308e-01,  3.6107e+00,\n",
       "        -1.8721e+00, -2.1601e+00, -2.6511e+00,  2.2044e+00,  1.3167e-01,\n",
       "        -8.4508e-02,  4.0507e-01,  1.2309e+00,  4.0973e-01,  1.4854e+00,\n",
       "         4.5070e-01,  1.3801e-01,  1.7117e-01,  1.1164e-01,  6.3233e-01,\n",
       "         5.2378e-01,  1.9122e+00, -2.6525e-01,  2.6232e+00, -3.6690e-01,\n",
       "         1.9106e+00,  8.8693e-01,  6.3578e-01, -1.7131e-01, -8.9148e-01,\n",
       "        -1.5121e+00,  9.0434e-01,  2.9070e+00,  1.0275e+00,  3.7888e-01,\n",
       "         6.6219e-01,  1.8224e+00, -6.5546e-01, -2.0733e-01, -1.2177e+00,\n",
       "         7.3419e-01,  3.2253e+00, -9.8647e-01, -2.5912e-01, -5.3590e-02,\n",
       "        -4.6525e-01, -1.2393e-01,  2.6294e-01,  9.1570e-01,  1.2114e+00,\n",
       "         1.4642e-01,  4.6663e+00,  3.0900e+00,  2.7754e+00,  7.7191e-01,\n",
       "        -2.0784e+00,  1.9587e-02,  1.0008e+00,  8.1167e-01,  1.1842e-01,\n",
       "        -3.9786e-01,  3.6856e-01,  3.0140e+00,  8.1982e-01, -1.0032e-02,\n",
       "         1.8571e+00,  1.4594e-01,  5.1860e-01,  2.7328e-01,  1.3226e+00,\n",
       "         9.1289e-01,  5.5498e-01,  4.6812e-02, -1.4524e+00,  2.3915e+00,\n",
       "         6.4953e-01, -6.1414e-01, -1.1190e+00, -1.0237e+00,  8.5992e-01,\n",
       "         1.6273e+00,  8.7975e-01, -2.6386e+00, -2.1040e-01,  7.4648e-01,\n",
       "        -1.6076e+00,  8.0208e-02, -3.4518e+00,  6.8876e-01,  1.4775e-01,\n",
       "         8.4714e-01,  1.0481e+00,  7.1894e-01, -6.4520e-01,  1.3130e-01,\n",
       "         2.4128e+00, -1.2698e+00,  1.1584e+00, -6.3005e-01, -4.2472e-01,\n",
       "         1.0332e+00, -1.0532e+00, -3.0218e-01,  4.7750e-01,  1.0393e-01,\n",
       "         1.6122e+00,  3.2685e-01,  1.4943e+00, -6.4445e-01,  4.8248e-03,\n",
       "        -1.1551e+00,  3.4225e+00, -2.1933e+00,  3.5064e+00,  1.6747e+00,\n",
       "        -2.7084e+00,  2.4590e-01, -5.5992e-02, -4.6120e-01],\n",
       "       grad_fn=<IndexBackward0>)"
      ]
     },
     "execution_count": 11,
     "metadata": {},
     "output_type": "execute_result"
    }
   ],
   "source": [
    "yhat[yhat.nonzero(as_tuple=True)]"
   ]
  },
  {
   "cell_type": "code",
   "execution_count": 11,
   "metadata": {},
   "outputs": [],
   "source": [
    "yhat = yhat.detach().cpu().numpy() \n",
    "y = y.detach().cpu().numpy() "
   ]
  },
  {
   "cell_type": "code",
   "execution_count": 12,
   "metadata": {},
   "outputs": [
    {
     "data": {
      "text/plain": [
       "0.01188617091959387"
      ]
     },
     "execution_count": 12,
     "metadata": {},
     "output_type": "execute_result"
    }
   ],
   "source": [
    "np.corrcoef(y.ravel(), yhat.ravel())[0,1]"
   ]
  },
  {
   "cell_type": "code",
   "execution_count": 14,
   "metadata": {},
   "outputs": [
    {
     "data": {
      "text/plain": [
       "array([[0., 0., 0., ..., 0., 0., 0.],\n",
       "       [0., 0., 0., ..., 0., 0., 0.],\n",
       "       [0., 0., 0., ..., 0., 0., 0.],\n",
       "       ...,\n",
       "       [0., 0., 0., ..., 0., 0., 0.],\n",
       "       [0., 0., 0., ..., 0., 0., 0.],\n",
       "       [0., 0., 0., ..., 0., 0., 0.]], dtype=float32)"
      ]
     },
     "execution_count": 14,
     "metadata": {},
     "output_type": "execute_result"
    }
   ],
   "source": [
    "yhat"
   ]
  },
  {
   "cell_type": "code",
   "execution_count": null,
   "metadata": {},
   "outputs": [],
   "source": []
  },
  {
   "cell_type": "code",
   "execution_count": 2,
   "metadata": {},
   "outputs": [],
   "source": [
    "edge_index = torch.tensor([[0, 1, 2, 3, 2, 4],\n",
    "                           [1, 2, 3, 1, 4, 5]], dtype=torch.long)\n",
    "\n",
    "E = edge_index.size(1)\n",
    "\n",
    "# only node 0 is an input edge\n",
    "# (E, 1)\n",
    "input_mask = torch.tensor([True, False, False, False, False, False])\n",
    "\n",
    "# only node 3 is an output node \n",
    "# (E,1)\n",
    "# this describes which edges are \"output\" edges \n",
    "# NOTE: we assme outputs are unique, e.g., two different output edges don't describe the same output\n",
    "output_mask = torch.tensor([False, False, False, False, False, True])\n",
    "\n",
    "# shape (B, E)\n",
    "x0 =  torch.tensor([[1., 0., 0., 0.,0.,0.],\n",
    "                    [-1., 0., 0., 0.,0.,0.]]) \n",
    "\n",
    "B = x0.size(0)\n",
    "N = torch.unique(edge_index).view(-1).size(0)\n",
    "\n",
    "# node attr should be of shape (B, num_nodes, attr_dim)\n",
    "attr = torch.randn(B, N, 2)"
   ]
  },
  {
   "cell_type": "code",
   "execution_count": 3,
   "metadata": {},
   "outputs": [
    {
     "data": {
      "text/plain": [
       "torch.Size([2, 6, 2])"
      ]
     },
     "execution_count": 3,
     "metadata": {},
     "output_type": "execute_result"
    }
   ],
   "source": [
    "attr.shape"
   ]
  },
  {
   "cell_type": "code",
   "execution_count": 4,
   "metadata": {},
   "outputs": [
    {
     "data": {
      "image/png": "[encoded data removed]",
      "text/plain": [
       "<Figure size 640x480 with 1 Axes>"
      ]
     },
     "metadata": {},
     "output_type": "display_data"
    }
   ],
   "source": [
    "E = (E.detach().cpu().numpy().tolist() for E in edge_index.T)\n",
    "G = nx.DiGraph(E)\n",
    "\n",
    "\n",
    "nx.draw_networkx(G)"
   ]
  },
  {
   "cell_type": "code",
   "execution_count": 5,
   "metadata": {},
   "outputs": [],
   "source": [
    "def get_degree(edge_index, idx): \n",
    "    src,dst = edge_index \n",
    "    \n",
    "    out_degree = (src == idx).sum()\n",
    "    in_degree = (dst == idx).sum()\n",
    "\n",
    "    return in_degree, out_degree"
   ]
  },
  {
   "cell_type": "code",
   "execution_count": 6,
   "metadata": {},
   "outputs": [],
   "source": [
    "def get_in_out_ixs(edge_index, idx): \n",
    "    '''\n",
    "    Return the edge id (e.g., index of each edge in `edge_index` that corresponds to a given node `idx` inputs/outputs)\n",
    "    '''\n",
    "    src,dst = edge_index \n",
    "    \n",
    "    in_ixs = (dst == idx).nonzero().view(-1)\n",
    "    out_ixs= (src == idx).nonzero().view(-1)\n",
    "\n",
    "    return in_ixs, out_ixs"
   ]
  },
  {
   "cell_type": "code",
   "execution_count": 7,
   "metadata": {},
   "outputs": [],
   "source": [
    "def get_children(edge_index, idx): \n",
    "    src,dst = edge_index \n",
    "    return dst[src == idx]"
   ]
  },
  {
   "cell_type": "code",
   "execution_count": 8,
   "metadata": {},
   "outputs": [],
   "source": [
    "class Node(torch.nn.Module): \n",
    "    def __init__(self, input_channels, output_channels, in_ixs, out_ixs, idx, children, attr_dim=0, hidden_channels=2, nonlin=torch.nn.ELU, dropout=0., bias=True): \n",
    "        super().__init__()\n",
    "\n",
    "        self.in_ixs = in_ixs\n",
    "        self.out_ixs = out_ixs\n",
    "        self.idx = idx\n",
    "        self.children = children\n",
    "\n",
    "        self.nn = torch.nn.Sequential(torch.nn.Linear(input_channels + attr_dim, hidden_channels, bias=bias),\n",
    "                                      torch.nn.BatchNorm1d(hidden_channels),\n",
    "                                      nonlin(), \n",
    "                                      torch.nn.Dropout(dropout),\n",
    "                                      torch.nn.Linear(hidden_channels, output_channels, bias=bias))\n",
    "        \n",
    "    def forward(self, x, attr=None): \n",
    "\n",
    "\n",
    "        x_in = x[:, self.in_ixs] # shape: (B, in_degree)\n",
    "\n",
    "        if attr is not None: \n",
    "            x_in = torch.cat((x_in, attr[:, self.idx, :]), dim=-1) # shape: (B, in_degree + attr_dim)\n",
    "\n",
    "        x_out = self.nn(x_in) # shape: (B, out_degree)\n",
    "\n",
    "        # batch the indices\n",
    "        B = x.size(0)\n",
    "        indices = (torch.arange(B).unsqueeze(-1), self.out_ixs.unsqueeze(0).repeat(B, 1))\n",
    "\n",
    "        x = torch.index_put(x, indices=indices, values=x_out)\n",
    "\n",
    "        return x"
   ]
  },
  {
   "cell_type": "code",
   "execution_count": 9,
   "metadata": {},
   "outputs": [],
   "source": [
    "class GSNN(torch.nn.Module): \n",
    "    def __init__(self, edge_index, input_mask, output_mask, hidden_channels, layers, attr_dim=0, dropout=0., nonlin=torch.nn.ELU): \n",
    "        super().__init__()\n",
    "\n",
    "        self.edge_index = edge_index \n",
    "        self.input_mask = input_mask \n",
    "        self.output_mask = output_mask\n",
    "        self.layers = layers\n",
    "\n",
    "        self.node_dict = self.build_nodes(edge_index=edge_index, \n",
    "                                          input_mask=input_mask, \n",
    "                                          output_mask=output_mask, \n",
    "                                          hidden_channels=hidden_channels, \n",
    "                                          nonlin=nonlin,\n",
    "                                          attr_dim=attr_dim, \n",
    "                                          dropout=dropout)\n",
    " \n",
    "    def forward(self, x, attr=None): \n",
    "        \n",
    "        # get children of \"input\" edges \n",
    "        src,dst = self.edge_index \n",
    "        function_evals = dst[self.input_mask]\n",
    "\n",
    "        for l in range(self.layers): \n",
    "            function_evals_new = []\n",
    "            for idx in function_evals: \n",
    "                x = self.node_dict[str(idx.item())](x, attr=attr)\n",
    "\n",
    "                # get children \n",
    "                function_evals_new.append(self.node_dict[str(idx.item())].children)\n",
    "\n",
    "            function_evals = torch.unique(torch.cat(function_evals_new, dim=-1))\n",
    "            #remove \"output\" nodes from function evals (no \"node\" key); only for prediction output\n",
    "            function_evals = function_evals[~torch.isin(function_evals, self.output_mask.nonzero())]\n",
    "\n",
    "        return x\n",
    "\n",
    "\n",
    "    def build_nodes(self, edge_index, input_mask, output_mask, hidden_channels, nonlin, dropout, attr_dim):\n",
    "        \n",
    "        # \"function\" nodes \n",
    "        # All nodes except the src in input edges and dst in output edges \n",
    "        src, dst = edge_index \n",
    "        function_node_ixs = torch.unique(torch.cat((src[~input_mask], dst[~output_mask]), dim=-1))\n",
    "\n",
    "        node_dict = {}\n",
    "        for i in function_node_ixs: \n",
    "            in_degree, out_degree = get_degree(edge_index, i)\n",
    "            in_ixs, out_ixs = get_in_out_ixs(edge_index, i)\n",
    "            children = get_children(edge_index, i)\n",
    "\n",
    "            node = Node(input_channels=in_degree, \n",
    "                        output_channels=out_degree, \n",
    "                        in_ixs = in_ixs, \n",
    "                        out_ixs = out_ixs,\n",
    "                        idx = i,\n",
    "                        children = children, \n",
    "                        attr_dim = attr_dim,\n",
    "                        hidden_channels=hidden_channels,\n",
    "                        nonlin = nonlin,\n",
    "                        dropout = dropout)\n",
    "            \n",
    "            node_dict[str(i.item())] = node\n",
    "        \n",
    "        return torch.nn.ModuleDict(node_dict)"
   ]
  },
  {
   "cell_type": "code",
   "execution_count": 10,
   "metadata": {},
   "outputs": [],
   "source": [
    "model = GSNN(edge_index, input_mask, output_mask, hidden_channels=2, layers=6, attr_dim=attr.size(-1))"
   ]
  },
  {
   "cell_type": "code",
   "execution_count": 11,
   "metadata": {},
   "outputs": [],
   "source": [
    "optim = torch.optim.Adam(model.parameters())"
   ]
  },
  {
   "cell_type": "code",
   "execution_count": 12,
   "metadata": {},
   "outputs": [
    {
     "data": {
      "text/plain": [
       "torch.Size([2, 6])"
      ]
     },
     "execution_count": 12,
     "metadata": {},
     "output_type": "execute_result"
    }
   ],
   "source": [
    "out = model(x0, attr=attr)\n",
    "out.shape"
   ]
  },
  {
   "cell_type": "code",
   "execution_count": 13,
   "metadata": {},
   "outputs": [
    {
     "data": {
      "text/plain": [
       "tensor([[ 1.0000, -1.1449, -0.1961, -0.5899, -0.6036,  0.2013],\n",
       "        [-1.0000, -0.2864, -0.3427, -0.1885, -0.5654,  0.2811]],\n",
       "       grad_fn=<SqueezeBackward0>)"
      ]
     },
     "execution_count": 13,
     "metadata": {},
     "output_type": "execute_result"
    }
   ],
   "source": [
    "out.squeeze()"
   ]
  },
  {
   "cell_type": "code",
   "execution_count": 51,
   "metadata": {},
   "outputs": [],
   "source": [
    "optim.zero_grad()\n",
    "loss = (out**2).mean()\n",
    "loss.backward()\n",
    "optim.step()"
   ]
  },
  {
   "cell_type": "code",
   "execution_count": null,
   "metadata": {},
   "outputs": [],
   "source": []
  },
  {
   "cell_type": "code",
   "execution_count": 272,
   "metadata": {},
   "outputs": [
    {
     "data": {
      "text/plain": [
       "tensor([1, 2, 3])"
      ]
     },
     "execution_count": 272,
     "metadata": {},
     "output_type": "execute_result"
    }
   ],
   "source": [
    "src, dst = edge_index \n",
    "function_nodes = torch.unique(torch.cat((src[~input_mask], dst[~output_mask]), dim=-1))\n",
    "function_nodes"
   ]
  },
  {
   "cell_type": "code",
   "execution_count": null,
   "metadata": {},
   "outputs": [],
   "source": []
  }
 ],
 "metadata": {
  "kernelspec": {
   "display_name": "grcp",
   "language": "python",
   "name": "python3"
  },
  "language_info": {
   "codemirror_mode": {
    "name": "ipython",
    "version": 3
   },
   "file_extension": ".py",
   "mimetype": "text/x-python",
   "name": "python",
   "nbconvert_exporter": "python",
   "pygments_lexer": "ipython3",
   "version": "3.10.11"
  },
  "orig_nbformat": 4
 },
 "nbformat": 4,
 "nbformat_minor": 2
}
