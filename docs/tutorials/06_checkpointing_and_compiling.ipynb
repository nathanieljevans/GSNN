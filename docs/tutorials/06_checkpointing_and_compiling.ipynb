{
 "cells": [
  {
   "cell_type": "code",
   "execution_count": 1,
   "metadata": {},
   "outputs": [
    {
     "name": "stderr",
     "output_type": "stream",
     "text": [
      "/home/teddy/miniconda3/envs/gsnn-lib/lib/python3.12/site-packages/torch_geometric/typing.py:124: UserWarning: An issue occurred while importing 'torch-sparse'. Disabling its usage. Stacktrace: /home/teddy/miniconda3/envs/gsnn-lib/lib/python3.12/site-packages/torch_sparse/_version_cuda.so: undefined symbol: _ZN5torch3jit17parseSchemaOrNameERKSs\n",
      "  warnings.warn(f\"An issue occurred while importing 'torch-sparse'. \"\n"
     ]
    }
   ],
   "source": [
    "from matplotlib import pyplot as plt\n",
    "import seaborn as sbn\n",
    "import numpy as np\n",
    "import torch\n",
    "import pandas as pd\n",
    "\n",
    "from gsnn.models.GSNN import GSNN\n",
    "from gsnn.simulate.nx2pyg import nx2pyg\n",
    "from gsnn.simulate.datasets import simulate_3_in_3_out\n",
    "import time\n",
    "\n",
    "# for reproducibility \n",
    "torch.manual_seed(0)\n",
    "np.random.seed(0)\n",
    "\n",
    "%load_ext autoreload\n",
    "%autoreload 2\n",
    "\n",
    "import torch"
   ]
  },
  {
   "cell_type": "markdown",
   "metadata": {},
   "source": [
    "# Gradient checkpointing and compiling"
   ]
  },
  {
   "cell_type": "code",
   "execution_count": 2,
   "metadata": {},
   "outputs": [],
   "source": [
    "G, pos, x_train, x_test, y_train, y_test, \\\n",
    "    input_nodes, function_nodes, output_nodes = simulate_3_in_3_out(n_train=10, n_test=1, noise_scale=0.1)"
   ]
  },
  {
   "cell_type": "code",
   "execution_count": 3,
   "metadata": {},
   "outputs": [],
   "source": [
    "kwargs = {'channels': 10, \n",
    "          'share_layers': False, \n",
    "          'bias': True, \n",
    "          'add_function_self_edges': True, \n",
    "          'norm': 'none', \n",
    "          'residual': True, \n",
    "          'dropout': 0.}\n",
    "\n",
    "device = 'cuda' if torch.cuda.is_available() else 'cpu'\n",
    "data = nx2pyg(G, input_nodes, function_nodes, output_nodes) "
   ]
  },
  {
   "cell_type": "code",
   "execution_count": 4,
   "metadata": {},
   "outputs": [],
   "source": [
    "def memory_usage(model, x_train): \n",
    "    torch.cuda.reset_peak_memory_stats()\n",
    "    model(x_train.to(device))\n",
    "    return torch.cuda.max_memory_allocated() / 1e6 \n",
    "\n",
    "def time_usage(model, x_train, n=50): \n",
    "    times = []\n",
    "    for i in range(n): \n",
    "        start = time.time()\n",
    "        model(x_train.to(device))\n",
    "        times.append(time.time() - start)\n",
    "    return np.mean(times)"
   ]
  },
  {
   "cell_type": "code",
   "execution_count": 5,
   "metadata": {},
   "outputs": [
    {
     "name": "stdout",
     "output_type": "stream",
     "text": [
      "progress: 100.00%\r"
     ]
    }
   ],
   "source": [
    "\n",
    "res = {'layers':[], 'mem_no_ckpt':[], 'time_no_ckpt':[], 'mem_ckpt':[], 'time_ckpt':[]}\n",
    "\n",
    "for layers in np.linspace(5,100,25):\n",
    "    print(f'progress: {layers:.2f}%', end='\\r') \n",
    "    layers = int(layers)\n",
    "\n",
    "    model_no_ckpt = GSNN(data.edge_index_dict,\n",
    "                        data.node_names_dict, \n",
    "                        checkpoint=False, \n",
    "                        layers=layers, \n",
    "                        **kwargs).to(device)\n",
    "\n",
    "    model_ckpt = GSNN(data.edge_index_dict,\n",
    "                        data.node_names_dict, \n",
    "                        checkpoint=True, \n",
    "                        layers=layers, \n",
    "                        **kwargs).to(device)\n",
    "\n",
    "    res['layers'].append(layers)\n",
    "    res['mem_no_ckpt'].append(memory_usage(model_no_ckpt, x_train))\n",
    "    res['time_no_ckpt'].append(time_usage(model_no_ckpt, x_train))\n",
    "    res['mem_ckpt'].append(memory_usage(model_ckpt, x_train))\n",
    "    res['time_ckpt'].append(time_usage(model_ckpt, x_train))\n",
    "\n",
    "res = pd.DataFrame(res)"
   ]
  },
  {
   "cell_type": "code",
   "execution_count": 6,
   "metadata": {},
   "outputs": [
    {
     "data": {
      "image/png": "[encoded data removed]",
      "text/plain": [
       "<Figure size 600x300 with 2 Axes>"
      ]
     },
     "metadata": {},
     "output_type": "display_data"
    }
   ],
   "source": [
    "f,axes = plt.subplots(1,2, figsize=(6,3))\n",
    "sbn.scatterplot(data=res, x='layers', y='mem_no_ckpt', color='red', label='no checkpointing', ax=axes[0])\n",
    "sbn.scatterplot(data=res, x='layers', y='mem_ckpt', color='blue', label='checkpointing', ax=axes[0])\n",
    "\n",
    "sbn.scatterplot(data=res, x='layers', y='time_no_ckpt', color='red', label='no checkpointing', ax=axes[1])\n",
    "sbn.scatterplot(data=res, x='layers', y='time_ckpt', color='blue', label='checkpointing', ax=axes[1])\n",
    "\n",
    "axes[0].set_ylabel('memory usage (MB)')\n",
    "axes[1].set_ylabel('time (s)')\n",
    "axes[0].set_xlabel('layers')\n",
    "axes[1].set_xlabel('layers')\n",
    "plt.tight_layout()\n",
    "plt.show()"
   ]
  },
  {
   "cell_type": "code",
   "execution_count": null,
   "metadata": {},
   "outputs": [
    {
     "data": {
      "text/plain": [
       "-55.98707583757151"
      ]
     },
     "execution_count": 7,
     "metadata": {},
     "output_type": "execute_result"
    }
   ],
   "source": [
    "# percent change in memory usage \n",
    "# using checkpointing on average has a ~55% decrease in memory usage \n",
    "((res.mem_ckpt - res.mem_no_ckpt)/res.mem_no_ckpt*100).mean()"
   ]
  },
  {
   "cell_type": "code",
   "execution_count": 8,
   "metadata": {},
   "outputs": [
    {
     "data": {
      "text/plain": [
       "38.75115191237275"
      ]
     },
     "execution_count": 8,
     "metadata": {},
     "output_type": "execute_result"
    }
   ],
   "source": [
    "# percent change in runtime \n",
    "# using checkpointing on average has a ~40% increase in runtime. \n",
    "((res.time_ckpt - res.time_no_ckpt)/res.time_no_ckpt*100).mean() "
   ]
  },
  {
   "cell_type": "code",
   "execution_count": null,
   "metadata": {},
   "outputs": [],
   "source": []
  }
 ],
 "metadata": {
  "kernelspec": {
   "display_name": "gsnn-lib",
   "language": "python",
   "name": "python3"
  },
  "language_info": {
   "codemirror_mode": {
    "name": "ipython",
    "version": 3
   },
   "file_extension": ".py",
   "mimetype": "text/x-python",
   "name": "python",
   "nbconvert_exporter": "python",
   "pygments_lexer": "ipython3",
   "version": "3.12.8"
  }
 },
 "nbformat": 4,
 "nbformat_minor": 2
}
