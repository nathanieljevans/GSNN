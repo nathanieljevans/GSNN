{
 "cells": [
  {
   "cell_type": "code",
   "execution_count": 1,
   "metadata": {},
   "outputs": [],
   "source": [
    "import torch\n",
    "import networkx as nx\n",
    "from torch.utils.data import Dataset, DataLoader\n",
    "import numpy as np \n",
    "from sklearn.metrics import r2_score \n",
    "import time \n",
    "from matplotlib import pyplot as plt \n",
    "import torch_geometric as pyg\n",
    "\n",
    "import sys \n",
    "sys.path.append('../src/')\n",
    "\n",
    "from src.models.NN import NN\n",
    "from src.data.LincsDataset import LincsDataset\n",
    "from src.data.pygLincsDataset import pygLincsDataset\n",
    "from src.models import utils \n",
    "\n",
    "import warnings\n",
    "warnings.filterwarnings(\"ignore\")\n",
    "\n",
    "%load_ext autoreload\n",
    "%autoreload 2"
   ]
  },
  {
   "cell_type": "code",
   "execution_count": 2,
   "metadata": {},
   "outputs": [
    {
     "name": "stdout",
     "output_type": "stream",
     "text": [
      "using device cuda\n"
     ]
    }
   ],
   "source": [
    "if torch.cuda.is_available() & True:\n",
    "    device = 'cuda'\n",
    "else: \n",
    "    device = 'cpu'\n",
    "\n",
    "print('using device', device)"
   ]
  },
  {
   "cell_type": "code",
   "execution_count": 3,
   "metadata": {},
   "outputs": [],
   "source": [
    "data = torch.load('./processed_data/Data.pt')"
   ]
  },
  {
   "cell_type": "code",
   "execution_count": 4,
   "metadata": {},
   "outputs": [],
   "source": [
    "train_ids = np.load('./processed_data/train_obs.npy', allow_pickle=True)\n",
    "train_dataset = pygLincsDataset(root='./processed_data/', sig_ids=train_ids, data=data)\n",
    "train_loader = pyg.loader.DataLoader(train_dataset, batch_size=100, num_workers=4, shuffle=True)\n",
    "\n",
    "test_ids = np.load('./processed_data/test_obs.npy', allow_pickle=True)\n",
    "test_dataset = pygLincsDataset(root='./processed_data/', sig_ids=test_ids, data=data)\n",
    "test_loader = pyg.loader.DataLoader(test_dataset, batch_size=100, num_workers=4, shuffle=True)"
   ]
  },
  {
   "cell_type": "code",
   "execution_count": 45,
   "metadata": {},
   "outputs": [
    {
     "name": "stdout",
     "output_type": "stream",
     "text": [
      "# params 134401\n"
     ]
    }
   ],
   "source": [
    "model = pyg.nn.models.GAT(in_channels=1, \n",
    "                          hidden_channels=256, \n",
    "                          num_layers=3,\n",
    "                          out_channels=1, \n",
    "                          dropout=0., \n",
    "                          act='elu',\n",
    "                          act_first=False,\n",
    "                          act_kwargs=None,\n",
    "                          norm_kwargs=None,\n",
    "                          jk='cat').to(device)\n",
    "\n",
    "n_params = sum([p.numel() for p in model.parameters()])\n",
    "print('# params', n_params)"
   ]
  },
  {
   "cell_type": "code",
   "execution_count": 46,
   "metadata": {},
   "outputs": [],
   "source": [
    "optim = torch.optim.Adam(model.parameters(), lr=1e-3)\n",
    "crit = torch.nn.MSELoss()"
   ]
  },
  {
   "cell_type": "code",
   "execution_count": 48,
   "metadata": {},
   "outputs": [
    {
     "name": "stdout",
     "output_type": "stream",
     "text": [
      "epoch: 0 || batch: 45/174 || loss: 3.555 || r2: -0.061 || r (flat): 0.14 || elapsed: 0.11 s\r"
     ]
    },
    {
     "ename": "KeyboardInterrupt",
     "evalue": "",
     "output_type": "error",
     "traceback": [
      "\u001b[0;31m---------------------------------------------------------------------------\u001b[0m",
      "\u001b[0;31mKeyboardInterrupt\u001b[0m                         Traceback (most recent call last)",
      "Cell \u001b[0;32mIn[48], line 9\u001b[0m\n\u001b[1;32m      6\u001b[0m tic \u001b[39m=\u001b[39m time\u001b[39m.\u001b[39mtime()\n\u001b[1;32m      7\u001b[0m optim\u001b[39m.\u001b[39mzero_grad() \n\u001b[0;32m----> 9\u001b[0m yhat \u001b[39m=\u001b[39m model(edge_index\u001b[39m=\u001b[39;49mbatch\u001b[39m.\u001b[39;49medge_index\u001b[39m.\u001b[39;49mto(device), x\u001b[39m=\u001b[39;49mbatch\u001b[39m.\u001b[39;49mx\u001b[39m.\u001b[39;49mto(device))\n\u001b[1;32m     11\u001b[0m \u001b[39m#  select output nodes\u001b[39;00m\n\u001b[1;32m     12\u001b[0m yhat \u001b[39m=\u001b[39m yhat[batch\u001b[39m.\u001b[39moutput_node_mask]\n",
      "File \u001b[0;32m~/miniconda3/envs/grcp/lib/python3.10/site-packages/torch/nn/modules/module.py:1501\u001b[0m, in \u001b[0;36mModule._call_impl\u001b[0;34m(self, *args, **kwargs)\u001b[0m\n\u001b[1;32m   1496\u001b[0m \u001b[39m# If we don't have any hooks, we want to skip the rest of the logic in\u001b[39;00m\n\u001b[1;32m   1497\u001b[0m \u001b[39m# this function, and just call forward.\u001b[39;00m\n\u001b[1;32m   1498\u001b[0m \u001b[39mif\u001b[39;00m \u001b[39mnot\u001b[39;00m (\u001b[39mself\u001b[39m\u001b[39m.\u001b[39m_backward_hooks \u001b[39mor\u001b[39;00m \u001b[39mself\u001b[39m\u001b[39m.\u001b[39m_backward_pre_hooks \u001b[39mor\u001b[39;00m \u001b[39mself\u001b[39m\u001b[39m.\u001b[39m_forward_hooks \u001b[39mor\u001b[39;00m \u001b[39mself\u001b[39m\u001b[39m.\u001b[39m_forward_pre_hooks\n\u001b[1;32m   1499\u001b[0m         \u001b[39mor\u001b[39;00m _global_backward_pre_hooks \u001b[39mor\u001b[39;00m _global_backward_hooks\n\u001b[1;32m   1500\u001b[0m         \u001b[39mor\u001b[39;00m _global_forward_hooks \u001b[39mor\u001b[39;00m _global_forward_pre_hooks):\n\u001b[0;32m-> 1501\u001b[0m     \u001b[39mreturn\u001b[39;00m forward_call(\u001b[39m*\u001b[39;49margs, \u001b[39m*\u001b[39;49m\u001b[39m*\u001b[39;49mkwargs)\n\u001b[1;32m   1502\u001b[0m \u001b[39m# Do not call functions when jit is used\u001b[39;00m\n\u001b[1;32m   1503\u001b[0m full_backward_hooks, non_full_backward_hooks \u001b[39m=\u001b[39m [], []\n",
      "File \u001b[0;32m~/miniconda3/envs/grcp/lib/python3.10/site-packages/torch_geometric/nn/models/basic_gnn.py:224\u001b[0m, in \u001b[0;36mBasicGNN.forward\u001b[0;34m(self, x, edge_index, edge_weight, edge_attr, num_sampled_nodes_per_hop, num_sampled_edges_per_hop)\u001b[0m\n\u001b[1;32m    222\u001b[0m     x \u001b[39m=\u001b[39m \u001b[39mself\u001b[39m\u001b[39m.\u001b[39mconvs[i](x, edge_index, edge_weight\u001b[39m=\u001b[39medge_weight)\n\u001b[1;32m    223\u001b[0m \u001b[39melif\u001b[39;00m \u001b[39mself\u001b[39m\u001b[39m.\u001b[39msupports_edge_attr:\n\u001b[0;32m--> 224\u001b[0m     x \u001b[39m=\u001b[39m \u001b[39mself\u001b[39;49m\u001b[39m.\u001b[39;49mconvs[i](x, edge_index, edge_attr\u001b[39m=\u001b[39;49medge_attr)\n\u001b[1;32m    225\u001b[0m \u001b[39melse\u001b[39;00m:\n\u001b[1;32m    226\u001b[0m     x \u001b[39m=\u001b[39m \u001b[39mself\u001b[39m\u001b[39m.\u001b[39mconvs[i](x, edge_index)\n",
      "File \u001b[0;32m~/miniconda3/envs/grcp/lib/python3.10/site-packages/torch/nn/modules/module.py:1501\u001b[0m, in \u001b[0;36mModule._call_impl\u001b[0;34m(self, *args, **kwargs)\u001b[0m\n\u001b[1;32m   1496\u001b[0m \u001b[39m# If we don't have any hooks, we want to skip the rest of the logic in\u001b[39;00m\n\u001b[1;32m   1497\u001b[0m \u001b[39m# this function, and just call forward.\u001b[39;00m\n\u001b[1;32m   1498\u001b[0m \u001b[39mif\u001b[39;00m \u001b[39mnot\u001b[39;00m (\u001b[39mself\u001b[39m\u001b[39m.\u001b[39m_backward_hooks \u001b[39mor\u001b[39;00m \u001b[39mself\u001b[39m\u001b[39m.\u001b[39m_backward_pre_hooks \u001b[39mor\u001b[39;00m \u001b[39mself\u001b[39m\u001b[39m.\u001b[39m_forward_hooks \u001b[39mor\u001b[39;00m \u001b[39mself\u001b[39m\u001b[39m.\u001b[39m_forward_pre_hooks\n\u001b[1;32m   1499\u001b[0m         \u001b[39mor\u001b[39;00m _global_backward_pre_hooks \u001b[39mor\u001b[39;00m _global_backward_hooks\n\u001b[1;32m   1500\u001b[0m         \u001b[39mor\u001b[39;00m _global_forward_hooks \u001b[39mor\u001b[39;00m _global_forward_pre_hooks):\n\u001b[0;32m-> 1501\u001b[0m     \u001b[39mreturn\u001b[39;00m forward_call(\u001b[39m*\u001b[39;49margs, \u001b[39m*\u001b[39;49m\u001b[39m*\u001b[39;49mkwargs)\n\u001b[1;32m   1502\u001b[0m \u001b[39m# Do not call functions when jit is used\u001b[39;00m\n\u001b[1;32m   1503\u001b[0m full_backward_hooks, non_full_backward_hooks \u001b[39m=\u001b[39m [], []\n",
      "File \u001b[0;32m~/miniconda3/envs/grcp/lib/python3.10/site-packages/torch_geometric/nn/conv/gat_conv.py:237\u001b[0m, in \u001b[0;36mGATConv.forward\u001b[0;34m(self, x, edge_index, edge_attr, size, return_attention_weights)\u001b[0m\n\u001b[1;32m    235\u001b[0m         num_nodes \u001b[39m=\u001b[39m \u001b[39mmin\u001b[39m(num_nodes, x_dst\u001b[39m.\u001b[39msize(\u001b[39m0\u001b[39m))\n\u001b[1;32m    236\u001b[0m     num_nodes \u001b[39m=\u001b[39m \u001b[39mmin\u001b[39m(size) \u001b[39mif\u001b[39;00m size \u001b[39mis\u001b[39;00m \u001b[39mnot\u001b[39;00m \u001b[39mNone\u001b[39;00m \u001b[39melse\u001b[39;00m num_nodes\n\u001b[0;32m--> 237\u001b[0m     edge_index, edge_attr \u001b[39m=\u001b[39m remove_self_loops(\n\u001b[1;32m    238\u001b[0m         edge_index, edge_attr)\n\u001b[1;32m    239\u001b[0m     edge_index, edge_attr \u001b[39m=\u001b[39m add_self_loops(\n\u001b[1;32m    240\u001b[0m         edge_index, edge_attr, fill_value\u001b[39m=\u001b[39m\u001b[39mself\u001b[39m\u001b[39m.\u001b[39mfill_value,\n\u001b[1;32m    241\u001b[0m         num_nodes\u001b[39m=\u001b[39mnum_nodes)\n\u001b[1;32m    242\u001b[0m \u001b[39melif\u001b[39;00m \u001b[39misinstance\u001b[39m(edge_index, SparseTensor):\n",
      "File \u001b[0;32m~/miniconda3/envs/grcp/lib/python3.10/site-packages/torch_geometric/utils/loop.py:80\u001b[0m, in \u001b[0;36mremove_self_loops\u001b[0;34m(edge_index, edge_attr)\u001b[0m\n\u001b[1;32m     77\u001b[0m mask \u001b[39m=\u001b[39m edge_index[\u001b[39m0\u001b[39m] \u001b[39m!=\u001b[39m edge_index[\u001b[39m1\u001b[39m]\n\u001b[1;32m     78\u001b[0m edge_index \u001b[39m=\u001b[39m edge_index[:, mask]\n\u001b[0;32m---> 80\u001b[0m \u001b[39mif\u001b[39;00m layout \u001b[39mis\u001b[39;00m \u001b[39mnot\u001b[39;00m \u001b[39mNone\u001b[39;00m:\n\u001b[1;32m     81\u001b[0m     \u001b[39massert\u001b[39;00m edge_attr \u001b[39mis\u001b[39;00m \u001b[39mnot\u001b[39;00m \u001b[39mNone\u001b[39;00m\n\u001b[1;32m     82\u001b[0m     edge_attr \u001b[39m=\u001b[39m edge_attr[mask]\n",
      "\u001b[0;31mKeyboardInterrupt\u001b[0m: "
     ]
    }
   ],
   "source": [
    "for epoch in range(50):\n",
    "    big_tic = time.time()\n",
    "    model = model.train()\n",
    "    losses = []\n",
    "    for i,(batch) in enumerate(train_loader): \n",
    "        tic = time.time()\n",
    "        optim.zero_grad() \n",
    "\n",
    "        yhat = model(edge_index=batch.edge_index.to(device), x=batch.x.to(device))\n",
    "        \n",
    "        #  select output nodes\n",
    "        yhat = yhat[batch.output_node_mask]\n",
    "        y = batch.y.to(device)[batch.output_node_mask]\n",
    "\n",
    "        loss = crit(yhat, y)\n",
    "        loss.backward()\n",
    "        optim.step()\n",
    "\n",
    "        with torch.no_grad(): \n",
    "            \n",
    "            B = len(batch.sig_id)\n",
    "\n",
    "            yhat = yhat.view(B, -1).detach().cpu().numpy() \n",
    "            y = y.view(B, -1).detach().cpu().numpy() \n",
    "            \n",
    "            r2 = r2_score(y, yhat, multioutput='variance_weighted')\n",
    "            r_flat = np.corrcoef(y.ravel(), yhat.ravel())[0,1]\n",
    "            losses.append(loss.item())\n",
    "\n",
    "            print(f'epoch: {epoch} || batch: {i}/{len(train_loader)} || loss: {loss.item():.3f} || r2: {r2:.3f} || r (flat): {r_flat:.2f} || elapsed: {(time.time() - tic):.2f} s' , end='\\r')\n",
    "\n",
    "    loss_train = np.mean(losses)\n",
    "\n",
    "    y,yhat,sig_ids = utils.predict_gnn(test_loader, model, data, device)\n",
    "    r2_test = r2_score(y, yhat, multioutput='variance_weighted')\n",
    "    r_flat_test = np.corrcoef(y.ravel(), yhat.ravel())[0,1]\n",
    "\n",
    "    print(f'Epoch: {epoch} || loss (train): {loss_train:.3f} || r2 (test): {r2_test:.2f} || r flat (test): {r_flat_test:.2f} || elapsed: {(time.time() - big_tic)/60:.2f} min')"
   ]
  },
  {
   "cell_type": "code",
   "execution_count": null,
   "metadata": {},
   "outputs": [],
   "source": [
    "y,yhat,sig_ids = utils.predict_gnn(test_loader, model, data, device)"
   ]
  },
  {
   "cell_type": "code",
   "execution_count": 32,
   "metadata": {},
   "outputs": [
    {
     "data": {
      "text/plain": [
       "-0.10784747560158672"
      ]
     },
     "execution_count": 32,
     "metadata": {},
     "output_type": "execute_result"
    }
   ],
   "source": [
    "r2_score(y, yhat, multioutput='variance_weighted')"
   ]
  },
  {
   "cell_type": "code",
   "execution_count": 33,
   "metadata": {},
   "outputs": [
    {
     "data": {
      "text/plain": [
       "0.18730936171436643"
      ]
     },
     "execution_count": 33,
     "metadata": {},
     "output_type": "execute_result"
    }
   ],
   "source": [
    "np.corrcoef(y.ravel(), yhat.ravel())[0,1]"
   ]
  },
  {
   "cell_type": "code",
   "execution_count": 34,
   "metadata": {},
   "outputs": [
    {
     "data": {
      "image/png": "[encoded data removed]",
      "text/plain": [
       "<Figure size 640x480 with 1 Axes>"
      ]
     },
     "metadata": {},
     "output_type": "display_data"
    }
   ],
   "source": [
    "gene_r2 = r2_score(y, yhat, multioutput='raw_values')\n",
    "np.save('./nn_test_gene_r2.npy', gene_r2)\n",
    "\n",
    "plt.figure()\n",
    "plt.hist(gene_r2, bins=np.linspace(-1,1,25))\n",
    "plt.show()"
   ]
  },
  {
   "cell_type": "code",
   "execution_count": null,
   "metadata": {},
   "outputs": [],
   "source": []
  },
  {
   "cell_type": "code",
   "execution_count": null,
   "metadata": {},
   "outputs": [],
   "source": []
  }
 ],
 "metadata": {
  "kernelspec": {
   "display_name": "grcp",
   "language": "python",
   "name": "python3"
  },
  "language_info": {
   "codemirror_mode": {
    "name": "ipython",
    "version": 3
   },
   "file_extension": ".py",
   "mimetype": "text/x-python",
   "name": "python",
   "nbconvert_exporter": "python",
   "pygments_lexer": "ipython3",
   "version": "3.10.11"
  },
  "orig_nbformat": 4
 },
 "nbformat": 4,
 "nbformat_minor": 2
}
