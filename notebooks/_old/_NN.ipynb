{
 "cells": [
  {
   "cell_type": "code",
   "execution_count": 2,
   "metadata": {},
   "outputs": [],
   "source": [
    "import torch\n",
    "import networkx as nx\n",
    "from torch.utils.data import Dataset, DataLoader\n",
    "import numpy as np \n",
    "from sklearn.metrics import r2_score \n",
    "import time \n",
    "from matplotlib import pyplot as plt \n",
    "\n",
    "\n",
    "import sys \n",
    "sys.path.append('../src/')\n",
    "\n",
    "from src.models.NN import NN\n",
    "from src.data.LincsDataset import LincsDataset\n",
    "from src.models import utils \n",
    "\n",
    "%load_ext autoreload\n",
    "%autoreload 2"
   ]
  },
  {
   "cell_type": "code",
   "execution_count": 3,
   "metadata": {},
   "outputs": [
    {
     "name": "stdout",
     "output_type": "stream",
     "text": [
      "using device cpu\n"
     ]
    }
   ],
   "source": [
    "if torch.cuda.is_available() & False:\n",
    "    device = 'cuda'\n",
    "else: \n",
    "    device = 'cpu'\n",
    "\n",
    "print('using device', device)"
   ]
  },
  {
   "cell_type": "code",
   "execution_count": 4,
   "metadata": {},
   "outputs": [],
   "source": [
    "data = torch.load('./processed_data/Data.pt')"
   ]
  },
  {
   "cell_type": "code",
   "execution_count": 5,
   "metadata": {},
   "outputs": [],
   "source": [
    "train_ids = np.load('./processed_data/train_obs.npy', allow_pickle=True)\n",
    "train_dataset = LincsDataset(root='./processed_data/', sig_ids=train_ids)\n",
    "train_loader = DataLoader(train_dataset, batch_size=100, num_workers=4, shuffle=True)\n",
    "\n",
    "test_ids = np.load('./processed_data/test_obs.npy', allow_pickle=True)\n",
    "test_dataset = LincsDataset(root='./processed_data/', sig_ids=test_ids)\n",
    "test_loader = DataLoader(test_dataset, batch_size=50, num_workers=4, shuffle=True)"
   ]
  },
  {
   "cell_type": "code",
   "execution_count": null,
   "metadata": {},
   "outputs": [],
   "source": []
  },
  {
   "cell_type": "code",
   "execution_count": 6,
   "metadata": {},
   "outputs": [
    {
     "name": "stdout",
     "output_type": "stream",
     "text": [
      "# params 257728\n"
     ]
    }
   ],
   "source": [
    "model = NN(in_channels=int(data.input_node_mask.sum().item()), \n",
    "           hidden_channels=180, \n",
    "           out_channels=int(data.output_node_mask.sum().item()), \n",
    "           layers=2, \n",
    "           dropout=0.33, \n",
    "           nonlin=torch.nn.ELU)\n",
    "\n",
    "n_params = sum([p.numel() for p in model.parameters()])\n",
    "print('# params', n_params)"
   ]
  },
  {
   "cell_type": "code",
   "execution_count": 7,
   "metadata": {},
   "outputs": [],
   "source": [
    "optim = torch.optim.Adam(model.parameters(), lr=1e-2)\n",
    "crit = torch.nn.MSELoss()"
   ]
  },
  {
   "cell_type": "code",
   "execution_count": 8,
   "metadata": {},
   "outputs": [
    {
     "name": "stdout",
     "output_type": "stream",
     "text": [
      "Epoch: 0 || loss (train): 3.557 || r2 (test): -0.09 || r flat (test): 0.22 || elapsed: 0.04 min\n",
      "Epoch: 1 || loss (train): 2.760 || r2 (test): 0.12 || r flat (test): 0.48 || elapsed: 0.03 min\n",
      "Epoch: 2 || loss (train): 2.511 || r2 (test): -1.14 || r flat (test): 0.43 || elapsed: 0.03 min\n",
      "Epoch: 3 || loss (train): 2.453 || r2 (test): 0.24 || r flat (test): 0.58 || elapsed: 0.04 min\n",
      "Epoch: 4 || loss (train): 2.412 || r2 (test): 0.23 || r flat (test): 0.57 || elapsed: 0.03 min\n",
      "Epoch: 5 || loss (train): 2.381 || r2 (test): 0.20 || r flat (test): 0.56 || elapsed: 0.03 min\n",
      "Epoch: 6 || loss (train): 2.364 || r2 (test): 0.13 || r flat (test): 0.51 || elapsed: 0.03 min\n",
      "Epoch: 7 || loss (train): 2.351 || r2 (test): 0.20 || r flat (test): 0.56 || elapsed: 0.03 min\n",
      "Epoch: 8 || loss (train): 2.333 || r2 (test): 0.22 || r flat (test): 0.56 || elapsed: 0.03 min\n",
      "Epoch: 9 || loss (train): 2.334 || r2 (test): 0.21 || r flat (test): 0.57 || elapsed: 0.03 min\n"
     ]
    }
   ],
   "source": [
    "for epoch in range(10):\n",
    "    big_tic = time.time()\n",
    "    model = model.train()\n",
    "    losses = []\n",
    "    for i,(x, y, sig_id) in enumerate(train_loader): \n",
    "        tic = time.time()\n",
    "        optim.zero_grad() \n",
    "\n",
    "        x = x[:, data.input_node_mask].to(device).squeeze(-1)\n",
    "        yhat = model(x)\n",
    "        y = y.to(device).squeeze(-1)[:, data.output_node_mask]\n",
    "\n",
    "        loss = crit(yhat, y)\n",
    "        loss.backward()\n",
    "        optim.step()\n",
    "\n",
    "        with torch.no_grad(): \n",
    "\n",
    "            yhat = yhat.detach().cpu().numpy() \n",
    "            y = y.detach().cpu().numpy() \n",
    "            \n",
    "            r2 = r2_score(y, yhat, multioutput='variance_weighted')\n",
    "            r_flat = np.corrcoef(y.ravel(), yhat.ravel())[0,1]\n",
    "            losses.append(loss.item())\n",
    "\n",
    "            print(f'epoch: {epoch} || batch: {i}/{len(train_loader)} || loss: {loss.item():.3f} || r2: {r2:.3f} || r (flat): {r_flat:.2f} || elapsed: {(time.time() - tic):.2f} s' , end='\\r')\n",
    "\n",
    "    loss_train = np.mean(losses)\n",
    "\n",
    "    y,yhat,sig_ids = utils.predict_nn(test_loader, model, data, device)\n",
    "    r2_test = r2_score(y, yhat, multioutput='variance_weighted')\n",
    "    r_flat_test = np.corrcoef(y.ravel(), yhat.ravel())[0,1]\n",
    "\n",
    "    print(f'Epoch: {epoch} || loss (train): {loss_train:.3f} || r2 (test): {r2_test:.2f} || r flat (test): {r_flat_test:.2f} || elapsed: {(time.time() - big_tic)/60:.2f} min')"
   ]
  },
  {
   "cell_type": "code",
   "execution_count": 9,
   "metadata": {},
   "outputs": [
    {
     "name": "stdout",
     "output_type": "stream",
     "text": [
      "progress: 165/166\r"
     ]
    }
   ],
   "source": [
    "y,yhat,sig_ids = utils.predict_nn(test_loader, model, data, device)"
   ]
  },
  {
   "cell_type": "code",
   "execution_count": 10,
   "metadata": {},
   "outputs": [
    {
     "data": {
      "text/plain": [
       "0.2141708228892042"
      ]
     },
     "execution_count": 10,
     "metadata": {},
     "output_type": "execute_result"
    }
   ],
   "source": [
    "r2_score(y, yhat, multioutput='variance_weighted')"
   ]
  },
  {
   "cell_type": "code",
   "execution_count": 11,
   "metadata": {},
   "outputs": [
    {
     "data": {
      "text/plain": [
       "0.5673958113834687"
      ]
     },
     "execution_count": 11,
     "metadata": {},
     "output_type": "execute_result"
    }
   ],
   "source": [
    "np.corrcoef(y.ravel(), yhat.ravel())[0,1]"
   ]
  },
  {
   "cell_type": "code",
   "execution_count": 12,
   "metadata": {},
   "outputs": [
    {
     "data": {
      "image/png": "[encoded data removed]",
      "text/plain": [
       "<Figure size 640x480 with 1 Axes>"
      ]
     },
     "metadata": {},
     "output_type": "display_data"
    }
   ],
   "source": [
    "gene_r2 = r2_score(y, yhat, multioutput='raw_values')\n",
    "np.save('./nn_test_gene_r2.npy', gene_r2)\n",
    "\n",
    "plt.figure()\n",
    "plt.hist(gene_r2, bins=np.linspace(-1,1,25))\n",
    "plt.show()"
   ]
  },
  {
   "cell_type": "code",
   "execution_count": null,
   "metadata": {},
   "outputs": [],
   "source": []
  },
  {
   "cell_type": "code",
   "execution_count": null,
   "metadata": {},
   "outputs": [],
   "source": []
  }
 ],
 "metadata": {
  "kernelspec": {
   "display_name": "grcp",
   "language": "python",
   "name": "python3"
  },
  "language_info": {
   "codemirror_mode": {
    "name": "ipython",
    "version": 3
   },
   "file_extension": ".py",
   "mimetype": "text/x-python",
   "name": "python",
   "nbconvert_exporter": "python",
   "pygments_lexer": "ipython3",
   "version": "3.10.11"
  },
  "orig_nbformat": 4
 },
 "nbformat": 4,
 "nbformat_minor": 2
}
