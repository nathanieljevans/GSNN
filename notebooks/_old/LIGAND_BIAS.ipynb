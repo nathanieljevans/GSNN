{
 "cells": [
  {
   "cell_type": "code",
   "execution_count": null,
   "metadata": {},
   "outputs": [],
   "source": []
  },
  {
   "cell_type": "code",
   "execution_count": null,
   "metadata": {},
   "outputs": [],
   "source": []
  },
  {
   "cell_type": "code",
   "execution_count": null,
   "metadata": {},
   "outputs": [],
   "source": []
  },
  {
   "cell_type": "code",
   "execution_count": null,
   "metadata": {},
   "outputs": [],
   "source": [
    "siginfo = pd.read_csv('../../data/siginfo_beta.txt', low_memory=False, sep='\\t')\n",
    "druginfo = pd.read_csv('../../data/compoundinfo_beta.txt', sep='\\t')\n",
    "geneinfo = pd.read_csv('../extdata/omnipath_uniprot2genesymb.tsv', sep='\\t')\n",
    "\n",
    "reducer = umap.UMAP(n_neighbors=15, min_dist=1.) \n",
    "u = reducer.fit_transform(out.detach().numpy())\n",
    "\n",
    "udf = pd.DataFrame(u, columns=['umap1', 'umap2']).assign(sig_id=np.array(sig_ids)[hiconc_drug_mask])\n",
    "udf = pd.concat((udf, pd.DataFrame(out.detach().numpy(), columns=out_edge_names)), axis=1)\n",
    "udf = udf.merge(siginfo[['sig_id', 'pert_id', 'cell_iname', 'pert_dose']], on='sig_id', how='left', validate='1:1')\n",
    "udf = udf.assign(log_pert_dose=np.log10(udf.pert_dose))\n",
    "brd2cmap = druginfo[lambda x: x.target == 'EGFR'][['pert_id', 'cmap_name']].set_index('pert_id').to_dict()['cmap_name']\n",
    "udf = udf.assign(cmap_name = [brd2cmap[x] if x in brd2cmap else x for x in udf.pert_id])\n",
    "\n",
    "# NOTE: redundant outgoing edges. \n",
    "cols=pd.Series(udf.columns)\n",
    "for dup in cols[cols.duplicated()].unique(): \n",
    "    cols[cols[cols == dup].index.values.tolist()] = [dup + '.' + str(i) if i != 0 else dup for i in range(sum(cols == dup))]\n",
    "# rename the columns with the cols list.\n",
    "udf.columns=cols\n",
    "\n",
    "f,axes = plt.subplots(1,2, figsize=(14,6), sharey=True)\n",
    "sbn.scatterplot(x='umap1', y='umap2', data=udf, hue='log_pert_dose', s=250, ax=axes.flat[0], alpha=0.25, marker='.', linewidth=0)\n",
    "g = sbn.scatterplot(x='umap1', y='umap2', data=udf, hue='cmap_name', style='cmap_name', alpha=1., ax=axes.flat[1], s=25, edgecolor='k')\n",
    "g.legend(loc='center left', bbox_to_anchor=(1.0, 0.5), ncol=2)\n",
    "\n",
    "#sbn.scatterplot(x='umap1', y='umap2', data=udf[lambda x: x.cell_iname == 'MCF7'], hue='cmap_name', style='cmap_name', alpha=1., ax=axes.flat[3], s=50, legend=None)\n",
    "#sbn.scatterplot(x='umap1', y='umap2', data=udf[lambda x: x.cell_iname == 'PC3'], hue='cmap_name', style='cmap_name', alpha=1., ax=axes.flat[4], s=50, legend=None)\n",
    "#sbn.scatterplot(x='umap1', y='umap2', data=udf[lambda x: x.cell_iname == 'A375'], hue='cmap_name', style='cmap_name', alpha=1., ax=axes.flat[5], s=50, legend=None)\n",
    "plt.suptitle('EGFR Response', fontsize=18)\n",
    "plt.tight_layout()\n",
    "plt.show()"
   ]
  }
 ],
 "metadata": {
  "language_info": {
   "name": "python"
  },
  "orig_nbformat": 4
 },
 "nbformat": 4,
 "nbformat_minor": 2
}
