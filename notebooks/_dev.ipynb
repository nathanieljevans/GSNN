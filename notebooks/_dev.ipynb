{
 "cells": [
  {
   "cell_type": "code",
   "execution_count": 15,
   "metadata": {},
   "outputs": [],
   "source": [
    "import pandas as pd \n",
    "import torch "
   ]
  },
  {
   "cell_type": "code",
   "execution_count": 3,
   "metadata": {},
   "outputs": [
    {
     "data": {
      "text/html": [
       "<div>\n",
       "<style scoped>\n",
       "    .dataframe tbody tr th:only-of-type {\n",
       "        vertical-align: middle;\n",
       "    }\n",
       "\n",
       "    .dataframe tbody tr th {\n",
       "        vertical-align: top;\n",
       "    }\n",
       "\n",
       "    .dataframe thead th {\n",
       "        text-align: right;\n",
       "    }\n",
       "</style>\n",
       "<table border=\"1\" class=\"dataframe\">\n",
       "  <thead>\n",
       "    <tr style=\"text-align: right;\">\n",
       "      <th></th>\n",
       "      <th>pert_id</th>\n",
       "      <th>cmap_name</th>\n",
       "      <th>target</th>\n",
       "      <th>moa</th>\n",
       "      <th>canonical_smiles</th>\n",
       "      <th>inchi_key</th>\n",
       "      <th>compound_aliases</th>\n",
       "    </tr>\n",
       "  </thead>\n",
       "  <tbody>\n",
       "    <tr>\n",
       "      <th>0</th>\n",
       "      <td>BRD-A08715367</td>\n",
       "      <td>L-theanine</td>\n",
       "      <td>NaN</td>\n",
       "      <td>NaN</td>\n",
       "      <td>CCNC(=O)CCC(N)C(O)=O</td>\n",
       "      <td>DATAGRPVKZEWHA-UHFFFAOYSA-N</td>\n",
       "      <td>l-theanine</td>\n",
       "    </tr>\n",
       "    <tr>\n",
       "      <th>1</th>\n",
       "      <td>BRD-A12237696</td>\n",
       "      <td>L-citrulline</td>\n",
       "      <td>NaN</td>\n",
       "      <td>NaN</td>\n",
       "      <td>NC(CCCNC(N)=O)C(O)=O</td>\n",
       "      <td>RHGKLRLOHDJJDR-UHFFFAOYSA-N</td>\n",
       "      <td>l-citrulline</td>\n",
       "    </tr>\n",
       "    <tr>\n",
       "      <th>2</th>\n",
       "      <td>BRD-A18795974</td>\n",
       "      <td>BRD-A18795974</td>\n",
       "      <td>NaN</td>\n",
       "      <td>NaN</td>\n",
       "      <td>CCCN(CCC)C1CCc2ccc(O)cc2C1</td>\n",
       "      <td>BLYMJBIZMIGWFK-UHFFFAOYSA-N</td>\n",
       "      <td>7-hydroxy-DPAT</td>\n",
       "    </tr>\n",
       "    <tr>\n",
       "      <th>3</th>\n",
       "      <td>BRD-A27924917</td>\n",
       "      <td>BRD-A27924917</td>\n",
       "      <td>NaN</td>\n",
       "      <td>NaN</td>\n",
       "      <td>NCC(O)(CS(O)(=O)=O)c1ccc(Cl)cc1</td>\n",
       "      <td>WBSMZVIMANOCNX-UHFFFAOYSA-N</td>\n",
       "      <td>2-hydroxysaclofen</td>\n",
       "    </tr>\n",
       "    <tr>\n",
       "      <th>4</th>\n",
       "      <td>BRD-A35931254</td>\n",
       "      <td>BRD-A35931254</td>\n",
       "      <td>NaN</td>\n",
       "      <td>NaN</td>\n",
       "      <td>CN1CCc2cccc-3c2C1Cc1ccc(O)c(O)c-31</td>\n",
       "      <td>VMWNQDUVQKEIOC-UHFFFAOYSA-N</td>\n",
       "      <td>r(-)-apomorphine</td>\n",
       "    </tr>\n",
       "  </tbody>\n",
       "</table>\n",
       "</div>"
      ],
      "text/plain": [
       "         pert_id      cmap_name target  moa  \\\n",
       "0  BRD-A08715367     L-theanine    NaN  NaN   \n",
       "1  BRD-A12237696   L-citrulline    NaN  NaN   \n",
       "2  BRD-A18795974  BRD-A18795974    NaN  NaN   \n",
       "3  BRD-A27924917  BRD-A27924917    NaN  NaN   \n",
       "4  BRD-A35931254  BRD-A35931254    NaN  NaN   \n",
       "\n",
       "                     canonical_smiles                    inchi_key  \\\n",
       "0                CCNC(=O)CCC(N)C(O)=O  DATAGRPVKZEWHA-UHFFFAOYSA-N   \n",
       "1                NC(CCCNC(N)=O)C(O)=O  RHGKLRLOHDJJDR-UHFFFAOYSA-N   \n",
       "2          CCCN(CCC)C1CCc2ccc(O)cc2C1  BLYMJBIZMIGWFK-UHFFFAOYSA-N   \n",
       "3     NCC(O)(CS(O)(=O)=O)c1ccc(Cl)cc1  WBSMZVIMANOCNX-UHFFFAOYSA-N   \n",
       "4  CN1CCc2cccc-3c2C1Cc1ccc(O)c(O)c-31  VMWNQDUVQKEIOC-UHFFFAOYSA-N   \n",
       "\n",
       "    compound_aliases  \n",
       "0         l-theanine  \n",
       "1       l-citrulline  \n",
       "2     7-hydroxy-DPAT  \n",
       "3  2-hydroxysaclofen  \n",
       "4   r(-)-apomorphine  "
      ]
     },
     "execution_count": 3,
     "metadata": {},
     "output_type": "execute_result"
    }
   ],
   "source": [
    "druginfo = pd.read_csv('../../data/compoundinfo_beta.txt', sep='\\t')\n",
    "druginfo.head()"
   ]
  },
  {
   "cell_type": "code",
   "execution_count": 9,
   "metadata": {},
   "outputs": [
    {
     "data": {
      "text/html": [
       "<div>\n",
       "<style scoped>\n",
       "    .dataframe tbody tr th:only-of-type {\n",
       "        vertical-align: middle;\n",
       "    }\n",
       "\n",
       "    .dataframe tbody tr th {\n",
       "        vertical-align: top;\n",
       "    }\n",
       "\n",
       "    .dataframe thead th {\n",
       "        text-align: right;\n",
       "    }\n",
       "</style>\n",
       "<table border=\"1\" class=\"dataframe\">\n",
       "  <thead>\n",
       "    <tr style=\"text-align: right;\">\n",
       "      <th></th>\n",
       "      <th>pert_id</th>\n",
       "    </tr>\n",
       "    <tr>\n",
       "      <th>target</th>\n",
       "      <th></th>\n",
       "    </tr>\n",
       "  </thead>\n",
       "  <tbody>\n",
       "    <tr>\n",
       "      <th>DRD2</th>\n",
       "      <td>95</td>\n",
       "    </tr>\n",
       "    <tr>\n",
       "      <th>NR3C1</th>\n",
       "      <td>90</td>\n",
       "    </tr>\n",
       "    <tr>\n",
       "      <th>HTR2A</th>\n",
       "      <td>79</td>\n",
       "    </tr>\n",
       "    <tr>\n",
       "      <th>PTGS2</th>\n",
       "      <td>78</td>\n",
       "    </tr>\n",
       "    <tr>\n",
       "      <th>PTGS1</th>\n",
       "      <td>67</td>\n",
       "    </tr>\n",
       "  </tbody>\n",
       "</table>\n",
       "</div>"
      ],
      "text/plain": [
       "        pert_id\n",
       "target         \n",
       "DRD2         95\n",
       "NR3C1        90\n",
       "HTR2A        79\n",
       "PTGS2        78\n",
       "PTGS1        67"
      ]
     },
     "execution_count": 9,
     "metadata": {},
     "output_type": "execute_result"
    }
   ],
   "source": [
    "druginfo[['pert_id', 'target']].drop_duplicates().groupby('target').count()[['pert_id']].sort_values('pert_id', ascending=False).head(5)"
   ]
  },
  {
   "cell_type": "code",
   "execution_count": 11,
   "metadata": {},
   "outputs": [
    {
     "data": {
      "text/plain": [
       "array(['Dopamine receptor ligand', 'Dopamine receptor agonist',\n",
       "       'Dopamine receptor antagonist', 'Serotonin receptor antagonist',\n",
       "       'Sigma receptor agonist', 'Anti-amyloidogenic agent',\n",
       "       'Sigma receptor antagonist', 'Glutamate receptor agonist',\n",
       "       'Serotonin receptor agonist', 'Adrenergic receptor agonist',\n",
       "       'Histamine receptor antagonist', 'Acetylcholine receptor agonist',\n",
       "       'Dopamine receptor partial agonist',\n",
       "       'Norepinephrine reputake inhibitor',\n",
       "       'G protein-coupled receptor modulator'], dtype=object)"
      ]
     },
     "execution_count": 11,
     "metadata": {},
     "output_type": "execute_result"
    }
   ],
   "source": [
    "druginfo[lambda x: x.target == 'DRD2'].moa.unique()"
   ]
  },
  {
   "cell_type": "code",
   "execution_count": 12,
   "metadata": {},
   "outputs": [
    {
     "data": {
      "text/plain": [
       "array(['Steroid', 'IKK inhibitor', 'FXR antagonist', 'Immunosuppressant',\n",
       "       'Cholesterol inhibitor', 'Corticosteroid agonist',\n",
       "       'Phospholipase activator', 'Phospholipase inhibitor',\n",
       "       'Cytochrome P450 inhibitor', 'Estrogen receptor agonist',\n",
       "       'Pregnane X receptor agonist', 'Progesterone receptor agonist',\n",
       "       'Glucocorticoid receptor agonist',\n",
       "       'Progesterone receptor antagonist',\n",
       "       'Glucocorticoid receptor antagonist'], dtype=object)"
      ]
     },
     "execution_count": 12,
     "metadata": {},
     "output_type": "execute_result"
    }
   ],
   "source": [
    "druginfo[lambda x: x.target == 'NR3C1'].moa.unique()"
   ]
  },
  {
   "cell_type": "code",
   "execution_count": 13,
   "metadata": {},
   "outputs": [
    {
     "data": {
      "text/plain": [
       "array(['Serotonin receptor agonist', 'Dopamine receptor antagonist',\n",
       "       'Serotonin receptor antagonist', 'Adrenergic inhibitor',\n",
       "       'Dopamine receptor agonist', 'Glutamate receptor agonist',\n",
       "       'Adrenergic receptor agonist', 'Serotonin reuptake inhibitor',\n",
       "       'Acetylcholine receptor agonist', 'Adrenergic receptor antagonist',\n",
       "       'Growth factor receptor activator',\n",
       "       'Dopamine receptor partial agonist',\n",
       "       'Norepinephrine reputake inhibitor',\n",
       "       'Norepinephrine reuptake inhibitor',\n",
       "       'Serotonin receptor inverse agonist'], dtype=object)"
      ]
     },
     "execution_count": 13,
     "metadata": {},
     "output_type": "execute_result"
    }
   ],
   "source": [
    "druginfo[lambda x: x.target == 'HTR2A'].moa.unique()"
   ]
  },
  {
   "cell_type": "code",
   "execution_count": 16,
   "metadata": {},
   "outputs": [],
   "source": [
    "data = torch.load('../processed_data/Data.pt')"
   ]
  },
  {
   "cell_type": "code",
   "execution_count": 23,
   "metadata": {},
   "outputs": [
    {
     "data": {
      "text/html": [
       "<div>\n",
       "<style scoped>\n",
       "    .dataframe tbody tr th:only-of-type {\n",
       "        vertical-align: middle;\n",
       "    }\n",
       "\n",
       "    .dataframe tbody tr th {\n",
       "        vertical-align: top;\n",
       "    }\n",
       "\n",
       "    .dataframe thead th {\n",
       "        text-align: right;\n",
       "    }\n",
       "</style>\n",
       "<table border=\"1\" class=\"dataframe\">\n",
       "  <thead>\n",
       "    <tr style=\"text-align: right;\">\n",
       "      <th></th>\n",
       "      <th>source</th>\n",
       "      <th>target</th>\n",
       "      <th>source_type</th>\n",
       "      <th>target_type</th>\n",
       "    </tr>\n",
       "  </thead>\n",
       "  <tbody>\n",
       "    <tr>\n",
       "      <th>0</th>\n",
       "      <td>P01106</td>\n",
       "      <td>O14746</td>\n",
       "      <td>PROTEIN</td>\n",
       "      <td>RNA</td>\n",
       "    </tr>\n",
       "    <tr>\n",
       "      <th>1</th>\n",
       "      <td>P05412</td>\n",
       "      <td>P24385</td>\n",
       "      <td>PROTEIN</td>\n",
       "      <td>RNA</td>\n",
       "    </tr>\n",
       "    <tr>\n",
       "      <th>2</th>\n",
       "      <td>P05412</td>\n",
       "      <td>P38936</td>\n",
       "      <td>PROTEIN</td>\n",
       "      <td>RNA</td>\n",
       "    </tr>\n",
       "    <tr>\n",
       "      <th>3</th>\n",
       "      <td>P05412</td>\n",
       "      <td>P04637</td>\n",
       "      <td>PROTEIN</td>\n",
       "      <td>RNA</td>\n",
       "    </tr>\n",
       "    <tr>\n",
       "      <th>4</th>\n",
       "      <td>P05412</td>\n",
       "      <td>P05231</td>\n",
       "      <td>PROTEIN</td>\n",
       "      <td>RNA</td>\n",
       "    </tr>\n",
       "  </tbody>\n",
       "</table>\n",
       "</div>"
      ],
      "text/plain": [
       "   source  target source_type target_type\n",
       "0  P01106  O14746     PROTEIN         RNA\n",
       "1  P05412  P24385     PROTEIN         RNA\n",
       "2  P05412  P38936     PROTEIN         RNA\n",
       "3  P05412  P04637     PROTEIN         RNA\n",
       "4  P05412  P05231     PROTEIN         RNA"
      ]
     },
     "execution_count": 23,
     "metadata": {},
     "output_type": "execute_result"
    }
   ],
   "source": [
    "src,dst = data.edge_index\n",
    "edgelist = pd.DataFrame({'source':data.node_names[src], 'target':data.node_names[dst]})\n",
    "edgelist[['source_type', 'source']] = edgelist['source'].str.split(pat='__', expand=True)\n",
    "edgelist[['target_type', 'target']] = edgelist['target'].str.split(pat='__', expand=True)\n",
    "edgelist.head()"
   ]
  },
  {
   "cell_type": "code",
   "execution_count": 25,
   "metadata": {},
   "outputs": [
    {
     "data": {
      "text/html": [
       "<div>\n",
       "<style scoped>\n",
       "    .dataframe tbody tr th:only-of-type {\n",
       "        vertical-align: middle;\n",
       "    }\n",
       "\n",
       "    .dataframe tbody tr th {\n",
       "        vertical-align: top;\n",
       "    }\n",
       "\n",
       "    .dataframe thead th {\n",
       "        text-align: right;\n",
       "    }\n",
       "</style>\n",
       "<table border=\"1\" class=\"dataframe\">\n",
       "  <thead>\n",
       "    <tr style=\"text-align: right;\">\n",
       "      <th></th>\n",
       "      <th>source</th>\n",
       "      <th>source_type</th>\n",
       "      <th>target_type</th>\n",
       "    </tr>\n",
       "    <tr>\n",
       "      <th>target</th>\n",
       "      <th></th>\n",
       "      <th></th>\n",
       "      <th></th>\n",
       "    </tr>\n",
       "  </thead>\n",
       "  <tbody>\n",
       "    <tr>\n",
       "      <th>P00533</th>\n",
       "      <td>48</td>\n",
       "      <td>48</td>\n",
       "      <td>48</td>\n",
       "    </tr>\n",
       "    <tr>\n",
       "      <th>P10721</th>\n",
       "      <td>29</td>\n",
       "      <td>29</td>\n",
       "      <td>29</td>\n",
       "    </tr>\n",
       "    <tr>\n",
       "      <th>P42336</th>\n",
       "      <td>26</td>\n",
       "      <td>26</td>\n",
       "      <td>26</td>\n",
       "    </tr>\n",
       "    <tr>\n",
       "      <th>P09619</th>\n",
       "      <td>26</td>\n",
       "      <td>26</td>\n",
       "      <td>26</td>\n",
       "    </tr>\n",
       "    <tr>\n",
       "      <th>P04626</th>\n",
       "      <td>25</td>\n",
       "      <td>25</td>\n",
       "      <td>25</td>\n",
       "    </tr>\n",
       "    <tr>\n",
       "      <th>...</th>\n",
       "      <td>...</td>\n",
       "      <td>...</td>\n",
       "      <td>...</td>\n",
       "    </tr>\n",
       "    <tr>\n",
       "      <th>P67775</th>\n",
       "      <td>1</td>\n",
       "      <td>1</td>\n",
       "      <td>1</td>\n",
       "    </tr>\n",
       "    <tr>\n",
       "      <th>P60900</th>\n",
       "      <td>1</td>\n",
       "      <td>1</td>\n",
       "      <td>1</td>\n",
       "    </tr>\n",
       "    <tr>\n",
       "      <th>P40306</th>\n",
       "      <td>1</td>\n",
       "      <td>1</td>\n",
       "      <td>1</td>\n",
       "    </tr>\n",
       "    <tr>\n",
       "      <th>P49354</th>\n",
       "      <td>1</td>\n",
       "      <td>1</td>\n",
       "      <td>1</td>\n",
       "    </tr>\n",
       "    <tr>\n",
       "      <th>O14818</th>\n",
       "      <td>1</td>\n",
       "      <td>1</td>\n",
       "      <td>1</td>\n",
       "    </tr>\n",
       "  </tbody>\n",
       "</table>\n",
       "<p>73 rows × 3 columns</p>\n",
       "</div>"
      ],
      "text/plain": [
       "        source  source_type  target_type\n",
       "target                                  \n",
       "P00533      48           48           48\n",
       "P10721      29           29           29\n",
       "P42336      26           26           26\n",
       "P09619      26           26           26\n",
       "P04626      25           25           25\n",
       "...        ...          ...          ...\n",
       "P67775       1            1            1\n",
       "P60900       1            1            1\n",
       "P40306       1            1            1\n",
       "P49354       1            1            1\n",
       "O14818       1            1            1\n",
       "\n",
       "[73 rows x 3 columns]"
      ]
     },
     "execution_count": 25,
     "metadata": {},
     "output_type": "execute_result"
    }
   ],
   "source": [
    "edgelist[lambda x: x.source_type == 'DRUG'].groupby('target').count().sort_values('source', ascending=False)"
   ]
  },
  {
   "cell_type": "code",
   "execution_count": 26,
   "metadata": {},
   "outputs": [
    {
     "data": {
      "text/plain": [
       "(621, 4)"
      ]
     },
     "execution_count": 26,
     "metadata": {},
     "output_type": "execute_result"
    }
   ],
   "source": [
    "edgelist[lambda x: x.source_type == 'DRUG'].shape"
   ]
  },
  {
   "cell_type": "code",
   "execution_count": null,
   "metadata": {},
   "outputs": [],
   "source": []
  }
 ],
 "metadata": {
  "kernelspec": {
   "display_name": "grcp",
   "language": "python",
   "name": "python3"
  },
  "language_info": {
   "codemirror_mode": {
    "name": "ipython",
    "version": 3
   },
   "file_extension": ".py",
   "mimetype": "text/x-python",
   "name": "python",
   "nbconvert_exporter": "python",
   "pygments_lexer": "ipython3",
   "version": "3.10.11"
  },
  "orig_nbformat": 4
 },
 "nbformat": 4,
 "nbformat_minor": 2
}
