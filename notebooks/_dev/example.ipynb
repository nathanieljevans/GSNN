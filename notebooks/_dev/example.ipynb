{
 "cells": [
  {
   "cell_type": "code",
   "execution_count": 77,
   "metadata": {},
   "outputs": [
    {
     "name": "stdout",
     "output_type": "stream",
     "text": [
      "The autoreload extension is already loaded. To reload it, use:\n",
      "  %reload_ext autoreload\n"
     ]
    }
   ],
   "source": [
    "import torch\n",
    "import networkx as nx\n",
    "from torch.utils.data import Dataset, DataLoader\n",
    "import numpy as np \n",
    "from sklearn.metrics import r2_score \n",
    "from matplotlib import pyplot as plt\n",
    "import time \n",
    "import copy \n",
    "\n",
    "import sys \n",
    "sys.path.append('../src/')\n",
    "\n",
    "from src.models.GSNN import GSNN\n",
    "from src.data.LincsDataset import LincsDataset\n",
    "from src.models.SparseLinear import SparseLinear\n",
    "from src.models.SparseLinear2 import SparseLinear2\n",
    "%load_ext autoreload\n",
    "%autoreload 2"
   ]
  },
  {
   "cell_type": "code",
   "execution_count": null,
   "metadata": {},
   "outputs": [],
   "source": []
  },
  {
   "cell_type": "code",
   "execution_count": 78,
   "metadata": {},
   "outputs": [
    {
     "data": {
      "text/plain": [
       "tensor(True)"
      ]
     },
     "execution_count": 78,
     "metadata": {},
     "output_type": "execute_result"
    }
   ],
   "source": [
    "B = 100\n",
    "M = 100\n",
    "N = 400\n",
    "E = int(0.5*M*N)\n",
    "\n",
    "x = torch.randn((B, N, 1))\n",
    "indices = torch.stack((torch.randint(0, N, size=(E,)), torch.randint(0, M, size=(E,))), dim=0)\n",
    "size = (N,M)\n",
    "\n",
    "lin = SparseLinear(indices, size, d=None, dtype=torch.float32)\n",
    "lin2 = SparseLinear2(indices, size, d=None, dtype=torch.float32)\n",
    "\n",
    "lin2.values = copy.deepcopy(lin.values)\n",
    "\n",
    "out = lin(x)\n",
    "out2 = lin2(x)\n",
    "\n",
    "torch.isclose(out, out2, 1e-2).all()"
   ]
  },
  {
   "cell_type": "code",
   "execution_count": 71,
   "metadata": {},
   "outputs": [
    {
     "name": "stdout",
     "output_type": "stream",
     "text": [
      "tensor([ 14.1868,  23.5823, -12.6891,   6.5630,  13.2292],\n",
      "       grad_fn=<SliceBackward0>)\n",
      "tensor([ 14.1868,  23.5823, -12.6891,   6.5630,  13.2292],\n",
      "       grad_fn=<SliceBackward0>)\n",
      "tensor([True, True, True, True, True])\n"
     ]
    }
   ],
   "source": [
    "print(out.view(-1)[:5])\n",
    "print(out2.view(-1)[:5])\n",
    "print(torch.isclose(out2.view(-1)[:5], out.view(-1)[:5]))"
   ]
  },
  {
   "cell_type": "code",
   "execution_count": 79,
   "metadata": {},
   "outputs": [],
   "source": [
    "# check grad is the same as well \n",
    "out.mean().backward()\n",
    "out2.mean().backward()\n",
    "\n",
    "torch.isclose(lin.values.grad, lin2.values.grad).all()"
   ]
  },
  {
   "cell_type": "code",
   "execution_count": 73,
   "metadata": {},
   "outputs": [
    {
     "name": "stdout",
     "output_type": "stream",
     "text": [
      "SparseLinear 0.051691644191741944\n",
      "SparseLinear2 0.04347049713134766\n",
      "Factor of improvement: 1.1891201528143052\n"
     ]
    }
   ],
   "source": [
    "repeats=50\n",
    "\n",
    "times = []\n",
    "for i in range(repeats): \n",
    "    tic = time.time() \n",
    "    out = lin(x)\n",
    "    times.append(time.time() - tic)\n",
    "\n",
    "times2 = []\n",
    "for i in range(repeats): \n",
    "    tic = time.time() \n",
    "    out = lin2(x)\n",
    "    times2.append(time.time() - tic)\n",
    "\n",
    "print('SparseLinear', np.mean(times))\n",
    "print('SparseLinear2', np.mean(times2))\n",
    "print('Factor of improvement:', np.mean(times)/np.mean(times2))"
   ]
  },
  {
   "cell_type": "code",
   "execution_count": 76,
   "metadata": {},
   "outputs": [
    {
     "name": "stdout",
     "output_type": "stream",
     "text": [
      "SparseLinear 0.15959790706634522\n",
      "SparseLinear2 0.00682046890258789\n",
      "Factor of improvement: 23.39984381510617\n"
     ]
    }
   ],
   "source": [
    "x = x.to('cuda')\n",
    "lin = lin.to('cuda')\n",
    "lin2 = lin2.to('cuda')\n",
    "\n",
    "repeats=100\n",
    "\n",
    "times = []\n",
    "for i in range(repeats): \n",
    "    tic = time.time() \n",
    "    out = lin(x)\n",
    "    times.append(time.time() - tic)\n",
    "\n",
    "times2 = []\n",
    "for i in range(repeats): \n",
    "    tic = time.time() \n",
    "    out = lin2(x)\n",
    "    times2.append(time.time() - tic)\n",
    "\n",
    "print('SparseLinear', np.mean(times))\n",
    "print('SparseLinear2', np.mean(times2))\n",
    "print('Factor of improvement:', np.mean(times)/np.mean(times2))"
   ]
  },
  {
   "cell_type": "code",
   "execution_count": 62,
   "metadata": {},
   "outputs": [],
   "source": [
    "W = torch.sparse_coo_tensor(indices=indices, values=torch.randn((indices.size(1))), size=(N,M))"
   ]
  },
  {
   "cell_type": "code",
   "execution_count": 63,
   "metadata": {},
   "outputs": [
    {
     "data": {
      "text/plain": [
       "torch.Size([400, 100])"
      ]
     },
     "execution_count": 63,
     "metadata": {},
     "output_type": "execute_result"
    }
   ],
   "source": [
    "W.size()"
   ]
  },
  {
   "cell_type": "code",
   "execution_count": 65,
   "metadata": {},
   "outputs": [
    {
     "data": {
      "text/plain": [
       "torch.Size([1, 400, 100])"
      ]
     },
     "execution_count": 65,
     "metadata": {},
     "output_type": "execute_result"
    }
   ],
   "source": [
    "W.unsqueeze(0).size()"
   ]
  },
  {
   "cell_type": "code",
   "execution_count": 67,
   "metadata": {},
   "outputs": [
    {
     "data": {
      "text/plain": [
       "tensor(indices=tensor([[  0,   0,   0,  ...,  99,  99,  99],\n",
       "                       [178, 191, 273,  ..., 306, 254,  57],\n",
       "                       [ 53,  97,  20,  ...,  99,  39,  61]]),\n",
       "       values=tensor([ 1.0166,  0.5111, -0.7829,  ...,  0.6958, -0.4958,\n",
       "                       1.9568]),\n",
       "       size=(100, 400, 100), nnz=2000000, layout=torch.sparse_coo)"
      ]
     },
     "execution_count": 67,
     "metadata": {},
     "output_type": "execute_result"
    }
   ],
   "source": [
    "torch.stack([W for i in range(B)], dim=0)"
   ]
  },
  {
   "cell_type": "code",
   "execution_count": null,
   "metadata": {},
   "outputs": [],
   "source": []
  },
  {
   "cell_type": "code",
   "execution_count": 2,
   "metadata": {},
   "outputs": [
    {
     "name": "stdout",
     "output_type": "stream",
     "text": [
      "# Nodes (N) 6\n",
      "# Edges (E) 8\n"
     ]
    }
   ],
   "source": [
    "# edge id -->               0  1  2  3  4  5  6\n",
    "edge_index = torch.tensor([[0, 0, 1, 2, 3, 2, 2, 3],\n",
    "                           [1, 2, 3, 1, 1, 3, 4, 5]], dtype=torch.long)\n",
    "\n",
    "E = edge_index.size(1)\n",
    "N = torch.unique(edge_index.view(-1)).size(0)\n",
    "\n",
    "# only node 0 is input node \n",
    "input_node_mask = torch.tensor([True, False, False, False, False, False])\n",
    "assert input_node_mask.size(0) == N, '`input_node_mask` should have N elements. '\n",
    "\n",
    "# nodes 4,5 are output nodes \n",
    "output_node_mask = torch.tensor([False, False, False, False, True, True])\n",
    "assert input_node_mask.size(0) == N, '`output_node_mask` should have N elements. '\n",
    "\n",
    "# shape (B, N, 1)\n",
    "# NOTE: represents NODE inputs \n",
    "x =  torch.tensor([[1., 0., 0., 0.,0.,0.],\n",
    "                    [-1., 0., 0., 0.,0.,0.]]).unsqueeze(-1)\n",
    "\n",
    "\n",
    "B = x.size(0)\n",
    "N = torch.unique(edge_index).view(-1).size(0)\n",
    "\n",
    "# NOTE: node attrs are now handled by additional input nodes. \n",
    "\n",
    "print('# Nodes (N)', N)\n",
    "print('# Edges (E)', E)"
   ]
  },
  {
   "cell_type": "code",
   "execution_count": 3,
   "metadata": {},
   "outputs": [
    {
     "data": {
      "image/png": "[encoded data removed]",
      "text/plain": [
       "<Figure size 640x480 with 1 Axes>"
      ]
     },
     "metadata": {},
     "output_type": "display_data"
    }
   ],
   "source": [
    "E = (E.detach().cpu().numpy().tolist() for E in edge_index.T)\n",
    "G = nx.DiGraph(E)\n",
    "\n",
    "nx.draw_networkx(G)"
   ]
  },
  {
   "cell_type": "code",
   "execution_count": 4,
   "metadata": {},
   "outputs": [],
   "source": [
    "model = GSNN(edge_index, channels=2, input_node_mask=input_node_mask, output_node_mask=output_node_mask, layers=10)#.to('cuda')"
   ]
  },
  {
   "cell_type": "code",
   "execution_count": 5,
   "metadata": {},
   "outputs": [
    {
     "name": "stdout",
     "output_type": "stream",
     "text": [
      "looping!a adfadsf \n",
      "looping!a adfadsf \n",
      "looping!a adfadsf \n",
      "looping!a adfadsf \n",
      "looping!a adfadsf \n",
      "looping!a adfadsf \n",
      "looping!a adfadsf \n",
      "looping!a adfadsf \n",
      "looping!a adfadsf \n",
      "looping!a adfadsf \n",
      "looping!a adfadsf \n",
      "looping!a adfadsf \n",
      "looping!a adfadsf \n",
      "looping!a adfadsf \n",
      "looping!a adfadsf \n",
      "looping!a adfadsf \n",
      "looping!a adfadsf \n",
      "looping!a adfadsf \n",
      "looping!a adfadsf \n",
      "looping!a adfadsf \n",
      "looping!a adfadsf \n",
      "looping!a adfadsf \n",
      "looping!a adfadsf \n",
      "looping!a adfadsf \n",
      "looping!a adfadsf \n",
      "looping!a adfadsf \n",
      "looping!a adfadsf \n",
      "looping!a adfadsf \n",
      "looping!a adfadsf \n",
      "looping!a adfadsf \n",
      "grad tensor([ 1.0820e-21,  3.0507e-19,  1.0606e-09, -2.0782e-10,  9.3967e-10,\n",
      "         1.0693e-12,  1.1211e-22,  3.1609e-20, -4.8310e-22, -1.3621e-19,\n",
      "        -7.9837e-10, -9.6953e-13,  0.0000e+00,  0.0000e+00,  0.0000e+00,\n",
      "         0.0000e+00])\n",
      "tensor([[ 0.0000,  0.0000,  0.0000,  0.0000, -0.3265, -3.4566],\n",
      "        [ 0.0000,  0.0000,  0.0000,  0.0000,  0.5165,  1.5698]],\n",
      "       grad_fn=<CopySlices>)\n",
      "0.008595466613769531\n"
     ]
    }
   ],
   "source": [
    "tic = time.time()\n",
    "out = model(x.cpu())\n",
    "e1 = time.time() - tic \n",
    "\n",
    "loss = (out**2).mean()\n",
    "loss.backward() \n",
    "print('grad', model.lin1.values.grad)\n",
    "print(out)\n",
    "print(e1)"
   ]
  },
  {
   "cell_type": "code",
   "execution_count": 30,
   "metadata": {},
   "outputs": [
    {
     "name": "stdout",
     "output_type": "stream",
     "text": [
      "extending!\n",
      "extending!\n",
      "extending!\n",
      "extending!\n",
      "extending!\n",
      "extending!\n",
      "extending!\n",
      "extending!\n",
      "extending!\n",
      "extending!\n",
      "extending!\n",
      "extending!\n",
      "extending!\n",
      "extending!\n",
      "extending!\n",
      "extending!\n",
      "extending!\n",
      "extending!\n",
      "extending!\n",
      "extending!\n",
      "extending!\n",
      "extending!\n",
      "extending!\n",
      "extending!\n",
      "extending!\n",
      "extending!\n",
      "extending!\n",
      "extending!\n",
      "extending!\n",
      "extending!\n",
      "grad tensor([ 7.6634e-14,  1.6163e-14,  2.5726e-09,  1.8959e-09, -3.2965e-05,\n",
      "         1.3093e-06,  5.9382e-16,  1.2524e-16, -8.0841e-14, -1.7050e-14,\n",
      "         7.8669e-05, -3.1246e-06,  0.0000e+00,  0.0000e+00,  0.0000e+00,\n",
      "         0.0000e+00])\n",
      "tensor([[ 0.0000,  0.0000,  0.0000,  0.0000,  0.8634,  2.1527],\n",
      "        [ 0.0000,  0.0000,  0.0000,  0.0000, -1.3370, -1.3892]],\n",
      "       grad_fn=<CopySlices>)\n",
      "0.008127927780151367\n"
     ]
    }
   ],
   "source": [
    "tic = time.time()\n",
    "out = model(x.cpu())\n",
    "e1 = time.time() - tic \n",
    "\n",
    "loss = (out**2).mean()\n",
    "loss.backward() \n",
    "print('grad', model.lin1.values.grad)\n",
    "print(out)\n",
    "print(e1)"
   ]
  },
  {
   "cell_type": "code",
   "execution_count": null,
   "metadata": {},
   "outputs": [],
   "source": []
  },
  {
   "cell_type": "code",
   "execution_count": 20,
   "metadata": {},
   "outputs": [
    {
     "name": "stdout",
     "output_type": "stream",
     "text": [
      "looping!\n",
      "looping!\n",
      "looping!\n",
      "looping!\n",
      "looping!\n",
      "looping!\n",
      "looping!\n",
      "looping!\n",
      "looping!\n",
      "looping!\n",
      "looping!\n",
      "looping!\n",
      "looping!\n",
      "looping!\n",
      "looping!\n",
      "looping!\n",
      "looping!\n",
      "looping!\n",
      "looping!\n",
      "looping!\n",
      "looping!\n",
      "looping!\n",
      "looping!\n",
      "looping!\n",
      "looping!\n",
      "looping!\n",
      "looping!\n",
      "looping!\n",
      "looping!\n",
      "looping!\n"
     ]
    },
    {
     "data": {
      "text/plain": [
       "tensor([[ 0.0000,  0.0000,  0.0000,  0.0000,  0.8634,  2.1527],\n",
       "        [ 0.0000,  0.0000,  0.0000,  0.0000, -1.3370, -1.3892]],\n",
       "       grad_fn=<CopySlices>)"
      ]
     },
     "execution_count": 20,
     "metadata": {},
     "output_type": "execute_result"
    }
   ],
   "source": [
    "model(x.cpu())"
   ]
  },
  {
   "cell_type": "code",
   "execution_count": 209,
   "metadata": {},
   "outputs": [],
   "source": [
    "optim = torch.optim.Adam(model.parameters())"
   ]
  },
  {
   "cell_type": "code",
   "execution_count": 210,
   "metadata": {},
   "outputs": [],
   "source": [
    "x = x.to('cuda')"
   ]
  },
  {
   "cell_type": "code",
   "execution_count": 211,
   "metadata": {},
   "outputs": [
    {
     "data": {
      "image/png": "[encoded data removed]",
      "text/plain": [
       "<Figure size 640x480 with 1 Axes>"
      ]
     },
     "metadata": {},
     "output_type": "display_data"
    }
   ],
   "source": [
    "losses = []\n",
    "for i in range(200): \n",
    "    optim.zero_grad()\n",
    "    out = model(x)\n",
    "    loss = (out**2).mean() \n",
    "    loss.backward()\n",
    "    optim.step()\n",
    "    losses.append(loss.item())\n",
    "\n",
    "plt.figure()\n",
    "plt.plot(losses)\n",
    "plt.show()"
   ]
  },
  {
   "cell_type": "code",
   "execution_count": 204,
   "metadata": {},
   "outputs": [],
   "source": [
    "optim.zero_grad()\n",
    "out = model(x)\n",
    "loss = out.mean() \n",
    "loss.backward()"
   ]
  },
  {
   "cell_type": "code",
   "execution_count": 197,
   "metadata": {},
   "outputs": [
    {
     "data": {
      "text/plain": [
       "tensor([-0.1640, -0.2685,  0.0016,  0.0059,  0.0146,  0.0025,  0.0073,  0.0181,\n",
       "         0.0016,  0.0056, -0.0007,  0.0007])"
      ]
     },
     "execution_count": 197,
     "metadata": {},
     "output_type": "execute_result"
    }
   ],
   "source": [
    "model.lin3.values.grad"
   ]
  },
  {
   "cell_type": "code",
   "execution_count": null,
   "metadata": {},
   "outputs": [],
   "source": []
  }
 ],
 "metadata": {
  "kernelspec": {
   "display_name": "grcp",
   "language": "python",
   "name": "python3"
  },
  "language_info": {
   "codemirror_mode": {
    "name": "ipython",
    "version": 3
   },
   "file_extension": ".py",
   "mimetype": "text/x-python",
   "name": "python",
   "nbconvert_exporter": "python",
   "pygments_lexer": "ipython3",
   "version": "3.10.8"
  },
  "orig_nbformat": 4
 },
 "nbformat": 4,
 "nbformat_minor": 2
}
