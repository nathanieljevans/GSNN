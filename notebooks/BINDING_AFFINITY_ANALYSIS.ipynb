{
 "cells": [
  {
   "cell_type": "code",
   "execution_count": 2,
   "metadata": {},
   "outputs": [
    {
     "name": "stderr",
     "output_type": "stream",
     "text": [
      "/home/teddy/miniconda3/envs/grcp/lib/python3.10/site-packages/tqdm/auto.py:21: TqdmWarning: IProgress not found. Please update jupyter and ipywidgets. See https://ipywidgets.readthedocs.io/en/stable/user_install.html\n",
      "  from .autonotebook import tqdm as notebook_tqdm\n"
     ]
    }
   ],
   "source": [
    "import shap \n",
    "import torch \n",
    "import numpy as np \n",
    "from matplotlib import pyplot as plt \n",
    "import pandas as pd \n",
    "from torch.utils.data import DataLoader\n",
    "import scipy\n",
    "import torch_geometric as pyg \n",
    "import umap \n",
    "import seaborn as sbn\n",
    "import networkx as nx \n",
    "from sklearn.decomposition import PCA\n",
    "import matplotlib.cm as cm\n",
    "import matplotlib.colors as mcolors\n",
    "import gseapy as gp\n",
    "import pickle as pkl \n",
    "\n",
    "import sys \n",
    "sys.path.append('../')\n",
    "import src.models.utils as utils\n",
    "from src.data.LincsDataset import LincsDataset\n",
    "\n",
    "from src.interpret.extract_entity_function import extract_entity_function\n",
    "\n",
    "%load_ext autoreload\n",
    "%autoreload 2"
   ]
  },
  {
   "cell_type": "code",
   "execution_count": 3,
   "metadata": {},
   "outputs": [],
   "source": [
    "# output/gsnn/09461877-9965-4dd8-a668-97f77ef73717\n",
    "model = torch.load('../output/exp4-1/GSNN/ef2aa31f-0c57-4210-b12a-68859ed6b1d2/model.pt').cpu()\n",
    "data = torch.load('../output/exp4-1/GSNN/ef2aa31f-0c57-4210-b12a-68859ed6b1d2/Data.pt')\n",
    "proc = '../output/exp4-1/proc/'"
   ]
  },
  {
   "cell_type": "code",
   "execution_count": 6,
   "metadata": {},
   "outputs": [
    {
     "data": {
      "text/plain": [
       "torch.Size([28052, 4988])"
      ]
     },
     "execution_count": 6,
     "metadata": {},
     "output_type": "execute_result"
    }
   ],
   "source": [
    "ids = np.array(np.load(f'{proc}/train_obs.npy', allow_pickle=True).tolist() + np.load(f'{proc}/test_obs.npy', allow_pickle=True).tolist() + np.load(f'{proc}/val_obs.npy', allow_pickle=True).tolist())\n",
    "\n",
    "dataset = LincsDataset(proc, ids)\n",
    "loader = DataLoader(dataset, batch_size=100, shuffle=True)\n",
    "\n",
    "X = []\n",
    "sig_ids = []\n",
    "for i,(x, y, sig_id) in enumerate(loader): \n",
    "    X.append(x)\n",
    "    sig_ids += list(sig_id)\n",
    "\n",
    "X = torch.cat(X, dim=0).squeeze()\n",
    "X.size()"
   ]
  },
  {
   "cell_type": "code",
   "execution_count": 4,
   "metadata": {},
   "outputs": [],
   "source": [
    "# EGFR ~ PROTEIN__P00533\n",
    "# HER2 (ERBB2) ~ P04626"
   ]
  },
  {
   "cell_type": "code",
   "execution_count": 19,
   "metadata": {},
   "outputs": [
    {
     "data": {
      "text/plain": [
       "dense_func_node(\n",
       "  (lin1): Linear(in_features=82, out_features=5, bias=True)\n",
       "  (lin2): Linear(in_features=5, out_features=5, bias=True)\n",
       "  (lin3): Linear(in_features=5, out_features=41, bias=True)\n",
       "  (nonlin): ELU(alpha=1.0)\n",
       ")"
      ]
     },
     "execution_count": 19,
     "metadata": {},
     "output_type": "execute_result"
    }
   ],
   "source": [
    "func, ex_smol, meta = extract_entity_function('PROTEIN__P04626', model, data, X)\n",
    "f = lambda X: func(torch.tensor(X, dtype=torch.float)).detach().numpy()\n",
    "func"
   ]
  },
  {
   "cell_type": "code",
   "execution_count": 33,
   "metadata": {},
   "outputs": [
    {
     "data": {
      "text/html": [
       "<div>\n",
       "<style scoped>\n",
       "    .dataframe tbody tr th:only-of-type {\n",
       "        vertical-align: middle;\n",
       "    }\n",
       "\n",
       "    .dataframe tbody tr th {\n",
       "        vertical-align: top;\n",
       "    }\n",
       "\n",
       "    .dataframe thead th {\n",
       "        text-align: right;\n",
       "    }\n",
       "</style>\n",
       "<table border=\"1\" class=\"dataframe\">\n",
       "  <thead>\n",
       "    <tr style=\"text-align: right;\">\n",
       "      <th></th>\n",
       "      <th>PROTEIN__P01135</th>\n",
       "      <th>PROTEIN__Q02297</th>\n",
       "      <th>PROTEIN__P27986</th>\n",
       "      <th>PROTEIN__Q14451</th>\n",
       "      <th>PROTEIN__P00533</th>\n",
       "      <th>PROTEIN__Q96JA1</th>\n",
       "      <th>PROTEIN__P15514</th>\n",
       "      <th>PROTEIN__P01133</th>\n",
       "      <th>PROTEIN__Q99952</th>\n",
       "      <th>PROTEIN__P51452</th>\n",
       "      <th>...</th>\n",
       "      <th>DRUG__BRD-K79930101</th>\n",
       "      <th>DRUG__BRD-K80343549</th>\n",
       "      <th>DRUG__BRD-K81528515</th>\n",
       "      <th>DRUG__BRD-K85606544</th>\n",
       "      <th>DRUG__BRD-K99964838</th>\n",
       "      <th>RNA__P04626</th>\n",
       "      <th>EXPR__P04626</th>\n",
       "      <th>METHYL__P04626</th>\n",
       "      <th>CNV__P04626</th>\n",
       "      <th>MUT__P04626</th>\n",
       "    </tr>\n",
       "  </thead>\n",
       "  <tbody>\n",
       "    <tr>\n",
       "      <th>0</th>\n",
       "      <td>0.0</td>\n",
       "      <td>0.0</td>\n",
       "      <td>0.0</td>\n",
       "      <td>0.0</td>\n",
       "      <td>0.0</td>\n",
       "      <td>0.0</td>\n",
       "      <td>0.0</td>\n",
       "      <td>0.0</td>\n",
       "      <td>0.0</td>\n",
       "      <td>0.0</td>\n",
       "      <td>...</td>\n",
       "      <td>0.0</td>\n",
       "      <td>0.0</td>\n",
       "      <td>0.0</td>\n",
       "      <td>0.0</td>\n",
       "      <td>0.0</td>\n",
       "      <td>0.0</td>\n",
       "      <td>0.925728</td>\n",
       "      <td>-0.426643</td>\n",
       "      <td>-0.180563</td>\n",
       "      <td>1.882082</td>\n",
       "    </tr>\n",
       "    <tr>\n",
       "      <th>1</th>\n",
       "      <td>0.0</td>\n",
       "      <td>0.0</td>\n",
       "      <td>0.0</td>\n",
       "      <td>0.0</td>\n",
       "      <td>0.0</td>\n",
       "      <td>0.0</td>\n",
       "      <td>0.0</td>\n",
       "      <td>0.0</td>\n",
       "      <td>0.0</td>\n",
       "      <td>0.0</td>\n",
       "      <td>...</td>\n",
       "      <td>0.0</td>\n",
       "      <td>0.0</td>\n",
       "      <td>0.0</td>\n",
       "      <td>0.0</td>\n",
       "      <td>0.0</td>\n",
       "      <td>0.0</td>\n",
       "      <td>0.925728</td>\n",
       "      <td>-0.426643</td>\n",
       "      <td>-0.180563</td>\n",
       "      <td>1.882082</td>\n",
       "    </tr>\n",
       "    <tr>\n",
       "      <th>2</th>\n",
       "      <td>0.0</td>\n",
       "      <td>0.0</td>\n",
       "      <td>0.0</td>\n",
       "      <td>0.0</td>\n",
       "      <td>0.0</td>\n",
       "      <td>0.0</td>\n",
       "      <td>0.0</td>\n",
       "      <td>0.0</td>\n",
       "      <td>0.0</td>\n",
       "      <td>0.0</td>\n",
       "      <td>...</td>\n",
       "      <td>0.0</td>\n",
       "      <td>0.0</td>\n",
       "      <td>0.0</td>\n",
       "      <td>0.0</td>\n",
       "      <td>0.0</td>\n",
       "      <td>0.0</td>\n",
       "      <td>0.925728</td>\n",
       "      <td>-0.426643</td>\n",
       "      <td>-0.180563</td>\n",
       "      <td>1.882082</td>\n",
       "    </tr>\n",
       "    <tr>\n",
       "      <th>3</th>\n",
       "      <td>0.0</td>\n",
       "      <td>0.0</td>\n",
       "      <td>0.0</td>\n",
       "      <td>0.0</td>\n",
       "      <td>0.0</td>\n",
       "      <td>0.0</td>\n",
       "      <td>0.0</td>\n",
       "      <td>0.0</td>\n",
       "      <td>0.0</td>\n",
       "      <td>0.0</td>\n",
       "      <td>...</td>\n",
       "      <td>0.0</td>\n",
       "      <td>0.0</td>\n",
       "      <td>0.0</td>\n",
       "      <td>0.0</td>\n",
       "      <td>0.0</td>\n",
       "      <td>0.0</td>\n",
       "      <td>0.925728</td>\n",
       "      <td>-0.426643</td>\n",
       "      <td>-0.180563</td>\n",
       "      <td>1.882082</td>\n",
       "    </tr>\n",
       "    <tr>\n",
       "      <th>4</th>\n",
       "      <td>0.0</td>\n",
       "      <td>0.0</td>\n",
       "      <td>0.0</td>\n",
       "      <td>0.0</td>\n",
       "      <td>0.0</td>\n",
       "      <td>0.0</td>\n",
       "      <td>0.0</td>\n",
       "      <td>0.0</td>\n",
       "      <td>0.0</td>\n",
       "      <td>0.0</td>\n",
       "      <td>...</td>\n",
       "      <td>0.0</td>\n",
       "      <td>0.0</td>\n",
       "      <td>0.0</td>\n",
       "      <td>0.0</td>\n",
       "      <td>0.0</td>\n",
       "      <td>0.0</td>\n",
       "      <td>0.925728</td>\n",
       "      <td>-0.426643</td>\n",
       "      <td>-0.180563</td>\n",
       "      <td>1.882082</td>\n",
       "    </tr>\n",
       "  </tbody>\n",
       "</table>\n",
       "<p>5 rows × 82 columns</p>\n",
       "</div>"
      ],
      "text/plain": [
       "   PROTEIN__P01135  PROTEIN__Q02297  PROTEIN__P27986  PROTEIN__Q14451  \\\n",
       "0              0.0              0.0              0.0              0.0   \n",
       "1              0.0              0.0              0.0              0.0   \n",
       "2              0.0              0.0              0.0              0.0   \n",
       "3              0.0              0.0              0.0              0.0   \n",
       "4              0.0              0.0              0.0              0.0   \n",
       "\n",
       "   PROTEIN__P00533  PROTEIN__Q96JA1  PROTEIN__P15514  PROTEIN__P01133  \\\n",
       "0              0.0              0.0              0.0              0.0   \n",
       "1              0.0              0.0              0.0              0.0   \n",
       "2              0.0              0.0              0.0              0.0   \n",
       "3              0.0              0.0              0.0              0.0   \n",
       "4              0.0              0.0              0.0              0.0   \n",
       "\n",
       "   PROTEIN__Q99952  PROTEIN__P51452  ...  DRUG__BRD-K79930101  \\\n",
       "0              0.0              0.0  ...                  0.0   \n",
       "1              0.0              0.0  ...                  0.0   \n",
       "2              0.0              0.0  ...                  0.0   \n",
       "3              0.0              0.0  ...                  0.0   \n",
       "4              0.0              0.0  ...                  0.0   \n",
       "\n",
       "   DRUG__BRD-K80343549  DRUG__BRD-K81528515  DRUG__BRD-K85606544  \\\n",
       "0                  0.0                  0.0                  0.0   \n",
       "1                  0.0                  0.0                  0.0   \n",
       "2                  0.0                  0.0                  0.0   \n",
       "3                  0.0                  0.0                  0.0   \n",
       "4                  0.0                  0.0                  0.0   \n",
       "\n",
       "   DRUG__BRD-K99964838  RNA__P04626  EXPR__P04626  METHYL__P04626  \\\n",
       "0                  0.0          0.0      0.925728       -0.426643   \n",
       "1                  0.0          0.0      0.925728       -0.426643   \n",
       "2                  0.0          0.0      0.925728       -0.426643   \n",
       "3                  0.0          0.0      0.925728       -0.426643   \n",
       "4                  0.0          0.0      0.925728       -0.426643   \n",
       "\n",
       "   CNV__P04626  MUT__P04626  \n",
       "0    -0.180563     1.882082  \n",
       "1    -0.180563     1.882082  \n",
       "2    -0.180563     1.882082  \n",
       "3    -0.180563     1.882082  \n",
       "4    -0.180563     1.882082  \n",
       "\n",
       "[5 rows x 82 columns]"
      ]
     },
     "execution_count": 33,
     "metadata": {},
     "output_type": "execute_result"
    }
   ],
   "source": [
    "\n",
    "# one cell line, no drug conc\n",
    "exdf = pd.DataFrame(ex_smol[[0], :].expand(1000, -1), columns=meta['input_edge_names'])\n",
    "exdf[[x for x in exdf.columns if 'DRUG__' in x]] = np.zeros(exdf[[x for x in exdf.columns if 'DRUG__' in x]].shape)\n",
    "exdf.head()"
   ]
  },
  {
   "cell_type": "code",
   "execution_count": 76,
   "metadata": {},
   "outputs": [
    {
     "data": {
      "image/png": "[encoded data removed]",
      "text/plain": [
       "<Figure size 640x480 with 1 Axes>"
      ]
     },
     "metadata": {},
     "output_type": "display_data"
    }
   ],
   "source": [
    "\n",
    "plt.figure()\n",
    "\n",
    "for i in range(len(drugs)): \n",
    "#plt.plot(np.abs(out).mean(axis=1))\n",
    "    exdf = pd.DataFrame(ex_smol[[0], :].expand(1000, -1), columns=meta['input_edge_names'])\n",
    "    exdf[[x for x in exdf.columns if 'DRUG__' in x]] = np.zeros(exdf[[x for x in exdf.columns if 'DRUG__' in x]].shape)\n",
    "\n",
    "    drug_ = [x for x in exdf.columns if 'DRUG__' in x][i]\n",
    "    out_feat = 7\n",
    "    exdf[drug_] = np.linspace(0,3, 1000)\n",
    "\n",
    "    out = f(exdf.values)\n",
    "    x_conc = 10**exdf[drug_]-1\n",
    "    plt.plot(x_conc, out[:,out_feat], c=c)\n",
    "    half_maximal_value = out[:,out_feat].min() + (out[:,out_feat].max() - out[:,out_feat].min())/2\n",
    "    EC50 = x_conc[np.argmin(np.abs(out[:,out_feat] - half_maximal_value))]\n",
    "    #plt.axhline(half_maximal_value)\n",
    "    plt.axvline(EC50, c=c)\n",
    "plt.xscale('log')\n",
    "plt.show()"
   ]
  },
  {
   "cell_type": "code",
   "execution_count": 64,
   "metadata": {},
   "outputs": [
    {
     "data": {
      "text/plain": [
       "0        0.000000\n",
       "1        0.005779\n",
       "2        0.011591\n",
       "3        0.017437\n",
       "4        0.023317\n",
       "          ...    \n",
       "995    308.022421\n",
       "996    309.808217\n",
       "997    311.604334\n",
       "998    313.410830\n",
       "999    315.227766\n",
       "Name: DRUG__BRD-K19687926, Length: 1000, dtype: float64"
      ]
     },
     "execution_count": 64,
     "metadata": {},
     "output_type": "execute_result"
    }
   ],
   "source": [
    "x_conc"
   ]
  },
  {
   "cell_type": "code",
   "execution_count": null,
   "metadata": {},
   "outputs": [],
   "source": []
  }
 ],
 "metadata": {
  "kernelspec": {
   "display_name": "grcp",
   "language": "python",
   "name": "python3"
  },
  "language_info": {
   "codemirror_mode": {
    "name": "ipython",
    "version": 3
   },
   "file_extension": ".py",
   "mimetype": "text/x-python",
   "name": "python",
   "nbconvert_exporter": "python",
   "pygments_lexer": "ipython3",
   "version": "3.10.11"
  },
  "orig_nbformat": 4
 },
 "nbformat": 4,
 "nbformat_minor": 2
}
