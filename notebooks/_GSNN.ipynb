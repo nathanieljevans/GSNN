{
 "cells": [
  {
   "cell_type": "code",
   "execution_count": 2,
   "metadata": {},
   "outputs": [],
   "source": [
    "import torch\n",
    "import networkx as nx\n",
    "from torch.utils.data import Dataset, DataLoader\n",
    "import numpy as np \n",
    "from sklearn.metrics import r2_score \n",
    "import time \n",
    "from matplotlib import pyplot as plt \n",
    "import copy\n",
    "\n",
    "import sys \n",
    "sys.path.append('../src/')\n",
    "\n",
    "from src.models.GSNN import GSNN\n",
    "from src.data.LincsDataset import LincsDataset\n",
    "from src.models import utils \n",
    "\n",
    "%load_ext autoreload\n",
    "%autoreload 2"
   ]
  },
  {
   "cell_type": "code",
   "execution_count": 3,
   "metadata": {},
   "outputs": [
    {
     "name": "stdout",
     "output_type": "stream",
     "text": [
      "using device cuda\n"
     ]
    }
   ],
   "source": [
    "if torch.cuda.is_available() & True:\n",
    "    device = 'cuda'\n",
    "else: \n",
    "    device = 'cpu'\n",
    "\n",
    "print('using device', device)"
   ]
  },
  {
   "cell_type": "code",
   "execution_count": 4,
   "metadata": {},
   "outputs": [],
   "source": [
    "data = torch.load('./processed_data/Data.pt')"
   ]
  },
  {
   "cell_type": "code",
   "execution_count": 5,
   "metadata": {},
   "outputs": [],
   "source": [
    "data = torch.load('./processed_data/Data.pt')\n",
    "\n",
    "train_ids = np.load('./processed_data/train_obs.npy', allow_pickle=True)\n",
    "train_dataset = LincsDataset(root='./processed_data/', sig_ids=train_ids)\n",
    "train_loader = DataLoader(train_dataset, batch_size=10, num_workers=12, shuffle=True)\n",
    "\n",
    "test_ids = np.load('./processed_data/test_obs.npy', allow_pickle=True)\n",
    "test_dataset = LincsDataset(root='./processed_data/', sig_ids=test_ids)\n",
    "test_loader = DataLoader(test_dataset, batch_size=100, num_workers=4, shuffle=True)"
   ]
  },
  {
   "cell_type": "code",
   "execution_count": 6,
   "metadata": {},
   "outputs": [],
   "source": [
    "model2 = torch.load('./output/223129e4-6ed2-4a63-928e-5ff2387525c8/model.pt')"
   ]
  },
  {
   "cell_type": "code",
   "execution_count": 5,
   "metadata": {},
   "outputs": [],
   "source": [
    "# redo \n",
    "# for input edge mask\n",
    "#   permute dst - use choice(func nodes)\n",
    "\n",
    "# for not input edge or output edge \n",
    "#   permute src, dst - use choice (func nodes)\n",
    "\n",
    "# for output edge mask \n",
    "#   permute src - uwse choice(func nodes)\n",
    "\n",
    "if False: \n",
    "    print('NOTE: RANDOMIZING EDGE INDEX')\n",
    "    # permute edge index \n",
    "    edge_index = copy.deepcopy(data.edge_index)\n",
    "    func_nodes  = (~(data.input_node_mask | data.output_node_mask)).nonzero(as_tuple=True)[0].detach().cpu().numpy()\n",
    "\n",
    "    src,dst = edge_index[:, data.input_edge_mask]\n",
    "    dst = torch.tensor(np.random.choice(func_nodes, size=(len(dst))), dtype=torch.long)\n",
    "    edge_index[:, data.input_edge_mask] = torch.stack((src, dst), dim=0)\n",
    "\n",
    "\n",
    "    func_edge_mask = ~(data.input_edge_mask | data.output_edge_mask)\n",
    "    src,dst = edge_index[:, func_edge_mask]\n",
    "    src = torch.tensor(np.random.choice(func_nodes, size=(len(dst))), dtype=torch.long)\n",
    "    dst = torch.tensor(np.random.choice(func_nodes, size=(len(dst))), dtype=torch.long)\n",
    "    edge_index[:, func_edge_mask] = torch.stack((src, dst), dim=0)\n",
    "\n",
    "\n",
    "    src,dst = edge_index[:, data.output_edge_mask]\n",
    "    src = torch.tensor(np.random.choice(func_nodes, size=(len(dst))), dtype=torch.long)\n",
    "    edge_index[:, data.output_edge_mask] = torch.stack((src, dst), dim=0)\n",
    "\n",
    "else: \n",
    "    edge_index = data.edge_index"
   ]
  },
  {
   "cell_type": "code",
   "execution_count": 6,
   "metadata": {},
   "outputs": [],
   "source": [
    "model = GSNN(edge_index=edge_index, \n",
    "             channels=5, \n",
    "             input_node_mask=data.input_node_mask, \n",
    "             output_node_mask=data.output_node_mask, \n",
    "             layers=10, \n",
    "             dropout=0.1,\n",
    "             nonlin=torch.nn.ELU).to(device)"
   ]
  },
  {
   "cell_type": "code",
   "execution_count": 7,
   "metadata": {},
   "outputs": [
    {
     "name": "stdout",
     "output_type": "stream",
     "text": [
      "# params 147622\n"
     ]
    }
   ],
   "source": [
    "n_params = sum([p.numel() for p in model.parameters()])\n",
    "print('# params', n_params)"
   ]
  },
  {
   "cell_type": "code",
   "execution_count": 8,
   "metadata": {},
   "outputs": [],
   "source": [
    "optim = torch.optim.Adam(model.parameters(), lr=1e-3)\n",
    "crit = torch.nn.MSELoss()"
   ]
  },
  {
   "cell_type": "code",
   "execution_count": 9,
   "metadata": {},
   "outputs": [],
   "source": [
    "#model = torch.compile(model)"
   ]
  },
  {
   "cell_type": "code",
   "execution_count": 10,
   "metadata": {},
   "outputs": [],
   "source": [
    "#import os\n",
    "#os.environ['CUDA_LAUNCH_BLOCKING'] = \"1\" "
   ]
  },
  {
   "cell_type": "code",
   "execution_count": 11,
   "metadata": {},
   "outputs": [
    {
     "name": "stdout",
     "output_type": "stream",
     "text": [
      "Epoch: 0 || loss (train): 4.619 || r2 (test): -0.05 || r flat (test): 0.29 || elapsed: 31.30 min\n",
      "epoch: 1 || batch: 254/1739 || loss: 3.663 || r2: -0.181 || r (flat): 0.15 || elapsed: 0.82 ss\r"
     ]
    },
    {
     "ename": "KeyboardInterrupt",
     "evalue": "",
     "output_type": "error",
     "traceback": [
      "\u001b[0;31m---------------------------------------------------------------------------\u001b[0m",
      "\u001b[0;31mKeyboardInterrupt\u001b[0m                         Traceback (most recent call last)",
      "Cell \u001b[0;32mIn[11], line 13\u001b[0m\n\u001b[1;32m     10\u001b[0m y \u001b[39m=\u001b[39m y\u001b[39m.\u001b[39mto(device)\u001b[39m.\u001b[39msqueeze(\u001b[39m-\u001b[39m\u001b[39m1\u001b[39m)[:, data\u001b[39m.\u001b[39moutput_node_mask]\n\u001b[1;32m     12\u001b[0m loss \u001b[39m=\u001b[39m crit(yhat, y)\n\u001b[0;32m---> 13\u001b[0m loss\u001b[39m.\u001b[39;49mbackward()\n\u001b[1;32m     14\u001b[0m optim\u001b[39m.\u001b[39mstep()\n\u001b[1;32m     16\u001b[0m \u001b[39mwith\u001b[39;00m torch\u001b[39m.\u001b[39mno_grad(): \n",
      "File \u001b[0;32m~/miniconda3/envs/grcp/lib/python3.10/site-packages/torch/_tensor.py:487\u001b[0m, in \u001b[0;36mTensor.backward\u001b[0;34m(self, gradient, retain_graph, create_graph, inputs)\u001b[0m\n\u001b[1;32m    477\u001b[0m \u001b[39mif\u001b[39;00m has_torch_function_unary(\u001b[39mself\u001b[39m):\n\u001b[1;32m    478\u001b[0m     \u001b[39mreturn\u001b[39;00m handle_torch_function(\n\u001b[1;32m    479\u001b[0m         Tensor\u001b[39m.\u001b[39mbackward,\n\u001b[1;32m    480\u001b[0m         (\u001b[39mself\u001b[39m,),\n\u001b[0;32m   (...)\u001b[0m\n\u001b[1;32m    485\u001b[0m         inputs\u001b[39m=\u001b[39minputs,\n\u001b[1;32m    486\u001b[0m     )\n\u001b[0;32m--> 487\u001b[0m torch\u001b[39m.\u001b[39;49mautograd\u001b[39m.\u001b[39;49mbackward(\n\u001b[1;32m    488\u001b[0m     \u001b[39mself\u001b[39;49m, gradient, retain_graph, create_graph, inputs\u001b[39m=\u001b[39;49minputs\n\u001b[1;32m    489\u001b[0m )\n",
      "File \u001b[0;32m~/miniconda3/envs/grcp/lib/python3.10/site-packages/torch/autograd/__init__.py:200\u001b[0m, in \u001b[0;36mbackward\u001b[0;34m(tensors, grad_tensors, retain_graph, create_graph, grad_variables, inputs)\u001b[0m\n\u001b[1;32m    195\u001b[0m     retain_graph \u001b[39m=\u001b[39m create_graph\n\u001b[1;32m    197\u001b[0m \u001b[39m# The reason we repeat same the comment below is that\u001b[39;00m\n\u001b[1;32m    198\u001b[0m \u001b[39m# some Python versions print out the first line of a multi-line function\u001b[39;00m\n\u001b[1;32m    199\u001b[0m \u001b[39m# calls in the traceback and some print out the last line\u001b[39;00m\n\u001b[0;32m--> 200\u001b[0m Variable\u001b[39m.\u001b[39;49m_execution_engine\u001b[39m.\u001b[39;49mrun_backward(  \u001b[39m# Calls into the C++ engine to run the backward pass\u001b[39;49;00m\n\u001b[1;32m    201\u001b[0m     tensors, grad_tensors_, retain_graph, create_graph, inputs,\n\u001b[1;32m    202\u001b[0m     allow_unreachable\u001b[39m=\u001b[39;49m\u001b[39mTrue\u001b[39;49;00m, accumulate_grad\u001b[39m=\u001b[39;49m\u001b[39mTrue\u001b[39;49;00m)\n",
      "\u001b[0;31mKeyboardInterrupt\u001b[0m: "
     ]
    }
   ],
   "source": [
    "for epoch in range(50):\n",
    "    big_tic = time.time()\n",
    "    model = model.train()\n",
    "    losses = []\n",
    "    for i,(x, y, sig_id) in enumerate(train_loader): \n",
    "        tic = time.time()\n",
    "        optim.zero_grad() \n",
    "\n",
    "        yhat = model(x.to(device))[:, data.output_node_mask]\n",
    "        y = y.to(device).squeeze(-1)[:, data.output_node_mask]\n",
    "\n",
    "        loss = crit(yhat, y)\n",
    "        loss.backward()\n",
    "        optim.step()\n",
    "\n",
    "        with torch.no_grad(): \n",
    "\n",
    "            yhat = yhat.detach().cpu().numpy() \n",
    "            y = y.detach().cpu().numpy() \n",
    "            \n",
    "            r2 = r2_score(y, yhat, multioutput='variance_weighted')\n",
    "            r_flat = np.corrcoef(y.ravel(), yhat.ravel())[0,1]\n",
    "            losses.append(loss.item())\n",
    "\n",
    "            print(f'epoch: {epoch} || batch: {i}/{len(train_loader)} || loss: {loss.item():.3f} || r2: {r2:.3f} || r (flat): {r_flat:.2f} || elapsed: {(time.time() - tic):.2f} s' , end='\\r')\n",
    "\n",
    "    loss_train = np.mean(losses)\n",
    "\n",
    "    y,yhat,sig_ids = utils.predict_gsnn(test_loader, model, data, device)\n",
    "    r2_test = r2_score(y, yhat, multioutput='variance_weighted')\n",
    "    r_flat_test = np.corrcoef(y.ravel(), yhat.ravel())[0,1]\n",
    "\n",
    "    print(f'Epoch: {epoch} || loss (train): {loss_train:.3f} || r2 (test): {r2_test:.2f} || r flat (test): {r_flat_test:.2f} || elapsed: {(time.time() - big_tic)/60:.2f} min')"
   ]
  },
  {
   "cell_type": "code",
   "execution_count": 1,
   "metadata": {},
   "outputs": [
    {
     "ename": "NameError",
     "evalue": "name 'torch' is not defined",
     "output_type": "error",
     "traceback": [
      "\u001b[0;31m---------------------------------------------------------------------------\u001b[0m",
      "\u001b[0;31mNameError\u001b[0m                                 Traceback (most recent call last)",
      "Cell \u001b[0;32mIn[1], line 1\u001b[0m\n\u001b[0;32m----> 1\u001b[0m model2 \u001b[39m=\u001b[39m torch\u001b[39m.\u001b[39mload(\u001b[39m'\u001b[39m\u001b[39m./output/223129e4-6ed2-4a63-928e-5ff2387525c8/model.pt\u001b[39m\u001b[39m'\u001b[39m)\n",
      "\u001b[0;31mNameError\u001b[0m: name 'torch' is not defined"
     ]
    }
   ],
   "source": [
    "model2 = torch.load('./output/223129e4-6ed2-4a63-928e-5ff2387525c8/model.pt')"
   ]
  },
  {
   "cell_type": "code",
   "execution_count": 1,
   "metadata": {},
   "outputs": [
    {
     "ename": "NameError",
     "evalue": "name 'r2_score' is not defined",
     "output_type": "error",
     "traceback": [
      "\u001b[0;31m---------------------------------------------------------------------------\u001b[0m",
      "\u001b[0;31mNameError\u001b[0m                                 Traceback (most recent call last)",
      "Cell \u001b[0;32mIn[1], line 1\u001b[0m\n\u001b[0;32m----> 1\u001b[0m r2_score(y, yhat, multioutput\u001b[39m=\u001b[39m\u001b[39m'\u001b[39m\u001b[39mvariance_weighted\u001b[39m\u001b[39m'\u001b[39m)\n",
      "\u001b[0;31mNameError\u001b[0m: name 'r2_score' is not defined"
     ]
    }
   ],
   "source": [
    "r2_score(y, yhat, multioutput='variance_weighted')"
   ]
  },
  {
   "cell_type": "code",
   "execution_count": 14,
   "metadata": {},
   "outputs": [
    {
     "data": {
      "text/plain": [
       "0.563240377957995"
      ]
     },
     "execution_count": 14,
     "metadata": {},
     "output_type": "execute_result"
    }
   ],
   "source": [
    "np.corrcoef(y.ravel(), yhat.ravel())[0,1]"
   ]
  },
  {
   "cell_type": "code",
   "execution_count": 15,
   "metadata": {},
   "outputs": [
    {
     "data": {
      "image/png": "[encoded data removed]",
      "text/plain": [
       "<Figure size 640x480 with 1 Axes>"
      ]
     },
     "metadata": {},
     "output_type": "display_data"
    }
   ],
   "source": [
    "gene_r2 = r2_score(y, yhat, multioutput='raw_values')\n",
    "np.save('./gsnn_test_gene_r2.npy', gene_r2)\n",
    "\n",
    "plt.figure()\n",
    "plt.hist(gene_r2, bins=np.linspace(-1,1,25))\n",
    "plt.show()"
   ]
  },
  {
   "cell_type": "code",
   "execution_count": 16,
   "metadata": {},
   "outputs": [],
   "source": [
    "nn_r2 = np.load('./nn_test_gene_r2.npy')\n",
    "gsnn_r2 = np.load('./gsnn_test_gene_r2.npy')"
   ]
  },
  {
   "cell_type": "code",
   "execution_count": 19,
   "metadata": {},
   "outputs": [
    {
     "data": {
      "image/png": "[encoded data removed]",
      "text/plain": [
       "<Figure size 640x480 with 1 Axes>"
      ]
     },
     "metadata": {},
     "output_type": "display_data"
    }
   ],
   "source": [
    "plt.figure()\n",
    "plt.plot(nn_r2, gsnn_r2, 'k.')\n",
    "plt.plot((-1,1), (-1,1), 'r--')\n",
    "plt.xlim(-1,1)\n",
    "plt.ylim(-1,1)\n",
    "plt.xlabel('NN')\n",
    "plt.ylabel('GSNN')\n",
    "plt.title('TEST SET GENE R2')\n",
    "plt.grid()\n",
    "plt.show()"
   ]
  },
  {
   "cell_type": "code",
   "execution_count": null,
   "metadata": {},
   "outputs": [],
   "source": []
  },
  {
   "cell_type": "code",
   "execution_count": null,
   "metadata": {},
   "outputs": [],
   "source": []
  }
 ],
 "metadata": {
  "kernelspec": {
   "display_name": "grcp",
   "language": "python",
   "name": "python3"
  },
  "language_info": {
   "codemirror_mode": {
    "name": "ipython",
    "version": 3
   },
   "file_extension": ".py",
   "mimetype": "text/x-python",
   "name": "python",
   "nbconvert_exporter": "python",
   "pygments_lexer": "ipython3",
   "version": "3.10.11"
  },
  "orig_nbformat": 4
 },
 "nbformat": 4,
 "nbformat_minor": 2
}
