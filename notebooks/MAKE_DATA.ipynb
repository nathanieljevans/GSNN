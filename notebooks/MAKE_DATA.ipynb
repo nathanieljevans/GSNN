{
 "cells": [
  {
   "cell_type": "code",
   "execution_count": 1,
   "metadata": {},
   "outputs": [
    {
     "name": "stderr",
     "output_type": "stream",
     "text": [
      "/home/teddy/miniconda3/envs/grcp/lib/python3.10/site-packages/tqdm/auto.py:21: TqdmWarning: IProgress not found. Please update jupyter and ipywidgets. See https://ipywidgets.readthedocs.io/en/stable/user_install.html\n",
      "  from .autonotebook import tqdm as notebook_tqdm\n"
     ]
    }
   ],
   "source": [
    "import pandas as pd \n",
    "import omnipath as op\n",
    "import numpy as np\n",
    "import networkx as nx \n",
    "import torch_geometric as pyg\n",
    "import torch\n",
    "from matplotlib import pyplot as plt \n",
    "import shutil\n",
    "import h5py\n",
    "import os \n",
    "import seaborn as sbn \n",
    "import numpy as np\n",
    "import math\n",
    "\n",
    "import sys \n",
    "sys.path.append('../')\n",
    "from src.proc import utils\n",
    "from src.proc.utils import filter_to_common_cellspace, impute_missing_gene_ids\n",
    "from src.proc.load_methyl import load_methyl\n",
    "from src.proc.load_expr import load_expr\n",
    "from src.proc.load_cnv import load_cnv\n",
    "from src.proc.load_mut import load_mut\n",
    "from src.proc.load_prism import load_prism\n",
    "\n",
    "%load_ext autoreload\n",
    "%autoreload 2"
   ]
  },
  {
   "attachments": {},
   "cell_type": "markdown",
   "metadata": {},
   "source": [
    "# Omnipath network construction"
   ]
  },
  {
   "cell_type": "code",
   "execution_count": 2,
   "metadata": {},
   "outputs": [],
   "source": [
    "__DATA__ = '../../data/'\n",
    "__OUT_DIR__ = '../processed_data/'\n",
    "\n",
    "__ONLY_INCLUDE_EXEMPLAR_SIGNATURES__ = False\n",
    "\n",
    "# subjective trend: \"landmark\" produces better r2 values \n",
    "__LINCS_FEATURE_SPACE__ = ['landmark'] #,'best inferred']\n",
    "\n",
    "# drug targets \n",
    "__INCLUDE_STITCH_TARGETS__ = False\n",
    "__INCLUDE_TARGETOME_TARGETS__ = True\n",
    "__DRUGINFO_MIN_SCORE__ = 950 # 500- 1000\n",
    "__MIN_PROP_DOWNSTREAM_LINCS_PER_DRUG__ = 0.4\n",
    "\n",
    "# time points to include \n",
    "__INCLUDE_TIME__ = [24.]\n",
    "\n",
    "# drugspace + cellspace \n",
    "__MIN_NUM_OBS_PER_DRUG__ = 3\n",
    "__MIN_OBS_PER_CELL_LINE__ = 10\n",
    "\n",
    "# train/test splits \n",
    "__TEST_PROP__ = 0.2\n",
    "__VAL_PROP__ = 0.\n",
    "\n",
    "# Signal Transduction                       - R-HSA-162582      (2584)\n",
    "# Signaling by Receptor Tyrosine Kinases    - R-HSA-9006934     (519)\n",
    "# MAPK family signaling cascades            - R-HSA-5683057     (327)\n",
    "# Disease                                   - R-HSA-1643685     (1859)\n",
    "# Metabolism                                - R-HSA-1430728     (2114)\n",
    "# Gene expression (Transcription)           - R-HSA-74160       (1517)\n",
    "# Signaling by SCF-KIT                      - R-HSA-1433559     (16)            # https://reactome.org/PathwayBrowser/#/R-HSA-1433557&SEL=R-HSA-1433559&PATH=R-HSA-162582,R-HSA-9006934\n",
    "# Signaling by EGFR                         - R-HSA-177929      (52)            # https://reactome.org/PathwayBrowser/#/R-HSA-177929&PATH=R-HSA-162582,R-HSA-9006934\n",
    "__pathways__ = ['R-HSA-5683057']\n"
   ]
  },
  {
   "cell_type": "code",
   "execution_count": 3,
   "metadata": {},
   "outputs": [],
   "source": [
    "# omnipath.interactions.Dorothea        :: protein (TF) -> gene \n",
    "# omnipath.interactions.OmniPath        :: protein -> protein           :: literature curated and are either activity flow, enzyme-PTM or undirected interaction resources. We also added network databases with high-throughput data. Then we added further directions and effect signs from resources without literature references.\n",
    "# omnipath.interactions.PathwayExtra    :: protein -> protein           :: activity flow resources without literature references. However, they are manually curated and many have effect signs.\n",
    "# omnipath.interactions.TFmiRNA         :: protein (TF) -> gene         :: Transcriptional regulation of miRNA (“tf_mirna”) from 2 literature curated resources.\n",
    "# omnipath.interactions.miRNA           :: RNA -> RNA                   :: contains miRNA-mRNA interactions. "
   ]
  },
  {
   "cell_type": "code",
   "execution_count": 4,
   "metadata": {},
   "outputs": [
    {
     "name": "stdout",
     "output_type": "stream",
     "text": [
      "total # of edges: 172123\n"
     ]
    }
   ],
   "source": [
    "dorothea = op.interactions.Dorothea().get()\n",
    "omnipath = op.interactions.OmniPath().get()\n",
    "pathways_extra = op.interactions.PathwayExtra().get()\n",
    "tf_mirna = op.interactions.TFmiRNA().get()\n",
    "mirna = op.interactions.miRNA().get()\n",
    "\n",
    "num_edges = sum([x.shape[0] for x in [dorothea, omnipath, pathways_extra, tf_mirna, mirna]])\n",
    "print('total # of edges:', num_edges)"
   ]
  },
  {
   "attachments": {},
   "cell_type": "markdown",
   "metadata": {},
   "source": [
    "# Choose protein subset \n",
    "\n",
    "This is how we filter the graph subset. \n",
    "\n",
    "The protein space will be limited to a subset of this. All interactions out side of this subset will be removed. \n",
    "\n",
    "The other `-spaces` will be constructed as normal (see ppt). "
   ]
  },
  {
   "cell_type": "code",
   "execution_count": 5,
   "metadata": {},
   "outputs": [
    {
     "name": "stdout",
     "output_type": "stream",
     "text": [
      "pathway size: 338\n"
     ]
    }
   ],
   "source": [
    "# WARNING: make sure to reload data from above if re-running this cell\n",
    "\n",
    "if __pathways__ is not None: \n",
    "\n",
    "    # get pathway uniprot symbols \n",
    "    uni2rea = pd.read_csv(f'{__DATA__}/UniProt2Reactome_All_Levels.txt', sep='\\t', header=None, low_memory=False, dtype=str)\n",
    "    uni2rea.columns = ['uniprot', 'pathway', 'source', 'description', 'acc', 'species']\n",
    "    uni2rea = uni2rea[lambda x: ~x.pathway.isna()]\n",
    "    uni2rea.pathway = [str(p) for p in uni2rea.pathway]\n",
    "    uni2rea = uni2rea[lambda x: (x.pathway.isin(__pathways__)) & (x.species == 'Homo sapiens')]\n",
    "\n",
    "    include_uniprot = uni2rea.uniprot.unique()\n",
    "    print('pathway size:', len(include_uniprot))\n",
    "\n",
    "    # filter `dorothea` proteins (source)\n",
    "    dorothea = dorothea[lambda x: x.source.isin(include_uniprot)]\n",
    "\n",
    "    # filter `omnipath` proiteins (source, target)\n",
    "    omnipath = omnipath[lambda x: x.source.isin(include_uniprot) & x.target.isin(include_uniprot)]\n",
    "\n",
    "    # filter `pathways_extra` (source, target)\n",
    "    pathways_extra = pathways_extra[lambda x: x.source.isin(include_uniprot) & x.target.isin(include_uniprot)]\n",
    "\n",
    "    # filter `tf_mirna` (source)\n",
    "    tf_mirna = tf_mirna[lambda x: x.source.isin(include_uniprot)]"
   ]
  },
  {
   "attachments": {},
   "cell_type": "markdown",
   "metadata": {},
   "source": [
    "# Gene Mapping "
   ]
  },
  {
   "cell_type": "code",
   "execution_count": 6,
   "metadata": {},
   "outputs": [
    {
     "data": {
      "text/html": [
       "<div>\n",
       "<style scoped>\n",
       "    .dataframe tbody tr th:only-of-type {\n",
       "        vertical-align: middle;\n",
       "    }\n",
       "\n",
       "    .dataframe tbody tr th {\n",
       "        vertical-align: top;\n",
       "    }\n",
       "\n",
       "    .dataframe thead th {\n",
       "        text-align: right;\n",
       "    }\n",
       "</style>\n",
       "<table border=\"1\" class=\"dataframe\">\n",
       "  <thead>\n",
       "    <tr style=\"text-align: right;\">\n",
       "      <th></th>\n",
       "      <th>uniprot</th>\n",
       "      <th>gene_id</th>\n",
       "      <th>gene_symbol</th>\n",
       "    </tr>\n",
       "  </thead>\n",
       "  <tbody>\n",
       "    <tr>\n",
       "      <th>0</th>\n",
       "      <td>Q8NEM1</td>\n",
       "      <td>340252.0</td>\n",
       "      <td>ZNF680</td>\n",
       "    </tr>\n",
       "    <tr>\n",
       "      <th>1</th>\n",
       "      <td>Q9Y496</td>\n",
       "      <td>11127.0</td>\n",
       "      <td>KIF3A</td>\n",
       "    </tr>\n",
       "    <tr>\n",
       "      <th>2</th>\n",
       "      <td>Q6ZWJ1</td>\n",
       "      <td>252983.0</td>\n",
       "      <td>STXBP4</td>\n",
       "    </tr>\n",
       "    <tr>\n",
       "      <th>3</th>\n",
       "      <td>Q8TAM1</td>\n",
       "      <td>79738.0</td>\n",
       "      <td>BBS10</td>\n",
       "    </tr>\n",
       "    <tr>\n",
       "      <th>4</th>\n",
       "      <td>Q8NEX6</td>\n",
       "      <td>259239.0</td>\n",
       "      <td>WFDC11</td>\n",
       "    </tr>\n",
       "  </tbody>\n",
       "</table>\n",
       "</div>"
      ],
      "text/plain": [
       "  uniprot   gene_id gene_symbol\n",
       "0  Q8NEM1  340252.0      ZNF680\n",
       "1  Q9Y496   11127.0       KIF3A\n",
       "2  Q6ZWJ1  252983.0      STXBP4\n",
       "3  Q8TAM1   79738.0       BBS10\n",
       "4  Q8NEX6  259239.0      WFDC11"
      ]
     },
     "execution_count": 6,
     "metadata": {},
     "output_type": "execute_result"
    }
   ],
   "source": [
    "uni2id = pd.read_csv('../extdata/omnipath_uniprot2geneid.tsv', sep='\\t').rename({'From':'uniprot', 'To':'gene_id'}, axis=1)\n",
    "uni2symb = pd.read_csv('../extdata/omnipath_uniprot2genesymb.tsv', sep='\\t').rename({'From':'uniprot', 'To':'gene_symbol'}, axis=1)\n",
    "gene_map = uni2id.merge(uni2symb, on='uniprot', how='outer')\n",
    "gene_map.head()"
   ]
  },
  {
   "attachments": {},
   "cell_type": "markdown",
   "metadata": {},
   "source": [
    "# LINCS gene overhead \n",
    "\n",
    "(for rna space construction critiera)"
   ]
  },
  {
   "cell_type": "code",
   "execution_count": 7,
   "metadata": {},
   "outputs": [
    {
     "data": {
      "text/plain": [
       "960"
      ]
     },
     "execution_count": 7,
     "metadata": {},
     "output_type": "execute_result"
    }
   ],
   "source": [
    "geneinfo = pd.read_csv(f'{__DATA__}/geneinfo_beta.txt', sep='\\t')[lambda x: x.feature_space.isin(__LINCS_FEATURE_SPACE__)].merge(gene_map, on=['gene_id'], how='left')\n",
    "\n",
    "# lincs genes with uniport ids \n",
    "__LINCS_GENES_UNIPROT__ = geneinfo.uniprot.dropna().unique()\n",
    "len(__LINCS_GENES_UNIPROT__)"
   ]
  },
  {
   "cell_type": "code",
   "execution_count": 8,
   "metadata": {},
   "outputs": [],
   "source": [
    "lincs_uni2id = {row.uniprot: row.gene_id for i,row in geneinfo[['uniprot', 'gene_id']].dropna().iterrows()}\n",
    "lincs_id2uni = {row.gene_id:row.uniprot for i,row in geneinfo[['uniprot', 'gene_id']].dropna().iterrows()}"
   ]
  },
  {
   "attachments": {},
   "cell_type": "markdown",
   "metadata": {},
   "source": [
    "# Load and filter LINCS obs "
   ]
  },
  {
   "cell_type": "code",
   "execution_count": 9,
   "metadata": {},
   "outputs": [],
   "source": [
    "siginfo = pd.read_csv(f'{__DATA__}/siginfo_beta.txt', sep='\\t', low_memory=False)\n",
    "\n",
    "siginfo = siginfo[lambda x: (x.pert_type.isin(['trt_cp'])) \n",
    "                     & (x.qc_pass == 1.) \n",
    "                     & (np.isfinite(x.pert_time.values))\n",
    "                     & (x.pert_time.values > 0)                 # some values are -666 \n",
    "                     & (x.pert_id != None)\n",
    "                     & (x.cell_iname != None)\n",
    "                     & (np.isfinite(x.pert_dose.values))\n",
    "                     & (x.pert_time.isin(__INCLUDE_TIME__))]\n",
    "\n",
    "if __ONLY_INCLUDE_EXEMPLAR_SIGNATURES__: \n",
    "    siginfo = siginfo[lambda x: x.is_exemplar_sig == 1]"
   ]
  },
  {
   "attachments": {},
   "cell_type": "markdown",
   "metadata": {},
   "source": [
    "# Create gene/protein/rna spaces"
   ]
  },
  {
   "cell_type": "code",
   "execution_count": 10,
   "metadata": {},
   "outputs": [
    {
     "name": "stdout",
     "output_type": "stream",
     "text": [
      "# TF regulated RNAs: 772\n",
      "0 # added rnas 2052\n",
      "1 # added rnas 0\n",
      "2 # added rnas 0\n",
      "# miRNA regulated RNAs: 2052\n",
      "# of miRNA regulators: 190\n"
     ]
    }
   ],
   "source": [
    "# all TF dataset `target`s. \n",
    "# all rna nodes included must have at least one regulatory edge from a protein in our protein space or from a MIRNA \n",
    "#                       # TF targets                    TF targets (miRNA)               \n",
    "rna_space = np.unique(dorothea.target.values.tolist() + tf_mirna.target.values.tolist()).tolist()\n",
    "ntfrna = len(rna_space)\n",
    "print('# TF regulated RNAs:', ntfrna)\n",
    "\n",
    "# add RNAs that are in the miRNA regulatory network \n",
    "# e.g., must have miRNA edge from rna_space -> new_rna\n",
    "for i in range(3): \n",
    "    new_rnas = list(set(mirna[lambda x: (x.source.isin(rna_space))].target.tolist()) - set(rna_space))\n",
    "    rna_space += new_rnas \n",
    "    print(i, '# added rnas', len(new_rnas))\n",
    "\n",
    "rna_space = np.unique(rna_space)\n",
    "print('# miRNA regulated RNAs:', len(rna_space) - ntfrna)\n",
    "_mirnas = mirna[lambda x: (x.source.isin(rna_space))].source.unique()\n",
    "print('# of miRNA regulators:', len(_mirnas))\n",
    "\n",
    "# TF `source` and PPI `source` + `target`\n",
    "protein_space   = np.unique(dorothea.source.values.tolist() \n",
    "                          + omnipath.source.values.tolist() + omnipath.target.values.tolist() \n",
    "                          + pathways_extra.source.values.tolist() + pathways_extra.target.values.tolist()\n",
    "                          + tf_mirna.source.values.tolist())"
   ]
  },
  {
   "cell_type": "code",
   "execution_count": 11,
   "metadata": {},
   "outputs": [
    {
     "name": "stdout",
     "output_type": "stream",
     "text": [
      "# of TFs: 15\n",
      "Final RNA-space size: 2824\n",
      "Final PROTEIN-space size: 277\n",
      "\n",
      "overlap between rna-prot 114\n",
      "\n",
      "# proteins without rna/gene nodes: 163\n",
      "\n",
      "# rna molecules without protein products: 2710\n"
     ]
    }
   ],
   "source": [
    "_tfs = np.unique(tf_mirna.source.values.tolist() + dorothea.source.values.tolist())\n",
    "print('# of TFs:', len(_tfs))\n",
    "\n",
    "print('Final RNA-space size:', len(rna_space))\n",
    "print('Final PROTEIN-space size:', len(protein_space))\n",
    "\n",
    "rna_in_prot = set(rna_space.tolist()).intersection(set(protein_space.tolist()))\n",
    "\n",
    "print()\n",
    "print('overlap between rna-prot', len(rna_in_prot))\n",
    "\n",
    "# NOTE: not all proteins have gene/rna nodes - but that's okay bc it means we have no transcriptional regulation information \n",
    "print()\n",
    "prots_missing_rna = set(protein_space.tolist()) - set(rna_space.tolist())\n",
    "print('# proteins without rna/gene nodes:', len(prots_missing_rna))\n",
    "\n",
    "# NOTE: not all rna molecules will have a protein product \n",
    "print()\n",
    "rna_without_prot = set(rna_space.tolist()) - set(protein_space.tolist())\n",
    "print('# rna molecules without protein products:', len(rna_without_prot))"
   ]
  },
  {
   "attachments": {},
   "cell_type": "markdown",
   "metadata": {},
   "source": [
    "# Create LINCS-space\n",
    "\n",
    "Create the initial `lincs_space` (e.g., LINCS RNA nodes to include in our biological network). "
   ]
  },
  {
   "cell_type": "code",
   "execution_count": 12,
   "metadata": {},
   "outputs": [
    {
     "name": "stdout",
     "output_type": "stream",
     "text": [
      "# lincs (best inferred + landmark) genes in rna-space: 330\n",
      "proportion of all rna nodes with LINCS coverage (feature-space: ['landmark']): 0.11685552407932011\n"
     ]
    }
   ],
   "source": [
    "lincs_in_rna_space = set(rna_space.tolist()).intersection(set(__LINCS_GENES_UNIPROT__.tolist()))\n",
    "\n",
    "print('# lincs (best inferred + landmark) genes in rna-space:', len(lincs_in_rna_space))\n",
    "print(f'proportion of all rna nodes with LINCS coverage (feature-space: {__LINCS_FEATURE_SPACE__}):', len(lincs_in_rna_space)/len(rna_space))"
   ]
  },
  {
   "cell_type": "code",
   "execution_count": 13,
   "metadata": {},
   "outputs": [
    {
     "data": {
      "text/plain": [
       "328"
      ]
     },
     "execution_count": 13,
     "metadata": {},
     "output_type": "execute_result"
    }
   ],
   "source": [
    "# are any of the genes non-uniquely mapped? \n",
    "# NOTE: these mappings will be dropped and only one unique mapping used. \n",
    "lincs2uniprot = geneinfo[lambda x: x.uniprot.isin(lincs_in_rna_space)].set_index('gene_id')['uniprot'].drop_duplicates().to_dict()\n",
    "\n",
    "lincs_space_gene_ids = np.array(list(lincs2uniprot.keys()))\n",
    "\n",
    "lincs_space = np.sort(list(lincs2uniprot.values()))\n",
    "len(lincs_space)"
   ]
  },
  {
   "attachments": {},
   "cell_type": "markdown",
   "metadata": {},
   "source": [
    "# Get Drug-Targets "
   ]
  },
  {
   "cell_type": "code",
   "execution_count": 14,
   "metadata": {},
   "outputs": [
    {
     "data": {
      "text/html": [
       "<div>\n",
       "<style scoped>\n",
       "    .dataframe tbody tr th:only-of-type {\n",
       "        vertical-align: middle;\n",
       "    }\n",
       "\n",
       "    .dataframe tbody tr th {\n",
       "        vertical-align: top;\n",
       "    }\n",
       "\n",
       "    .dataframe thead th {\n",
       "        text-align: right;\n",
       "    }\n",
       "</style>\n",
       "<table border=\"1\" class=\"dataframe\">\n",
       "  <thead>\n",
       "    <tr style=\"text-align: right;\">\n",
       "      <th></th>\n",
       "      <th>pert_id</th>\n",
       "      <th>target</th>\n",
       "      <th>combined_score</th>\n",
       "      <th>moa</th>\n",
       "      <th>source</th>\n",
       "    </tr>\n",
       "  </thead>\n",
       "  <tbody>\n",
       "    <tr>\n",
       "      <th>39</th>\n",
       "      <td>BRD-A02508087</td>\n",
       "      <td>Q05586</td>\n",
       "      <td>1000.0</td>\n",
       "      <td>Glutamate receptor agonist</td>\n",
       "      <td>clue</td>\n",
       "    </tr>\n",
       "    <tr>\n",
       "      <th>41</th>\n",
       "      <td>BRD-A02508087</td>\n",
       "      <td>Q13224</td>\n",
       "      <td>1000.0</td>\n",
       "      <td>Glutamate receptor agonist</td>\n",
       "      <td>clue</td>\n",
       "    </tr>\n",
       "    <tr>\n",
       "      <th>81</th>\n",
       "      <td>BRD-A04706586</td>\n",
       "      <td>P17612</td>\n",
       "      <td>1000.0</td>\n",
       "      <td>CAMP stimulant,Adenosine receptor agonist</td>\n",
       "      <td>clue+clue</td>\n",
       "    </tr>\n",
       "    <tr>\n",
       "      <th>130</th>\n",
       "      <td>BRD-A08840375</td>\n",
       "      <td>P27361</td>\n",
       "      <td>1000.0</td>\n",
       "      <td>MAP kinase phosphatase inhibitor</td>\n",
       "      <td>clue</td>\n",
       "    </tr>\n",
       "    <tr>\n",
       "      <th>175</th>\n",
       "      <td>BRD-A11007541</td>\n",
       "      <td>P28562</td>\n",
       "      <td>1000.0</td>\n",
       "      <td>Protein phosphatase inhibitor</td>\n",
       "      <td>clue</td>\n",
       "    </tr>\n",
       "  </tbody>\n",
       "</table>\n",
       "</div>"
      ],
      "text/plain": [
       "           pert_id  target  combined_score  \\\n",
       "39   BRD-A02508087  Q05586          1000.0   \n",
       "41   BRD-A02508087  Q13224          1000.0   \n",
       "81   BRD-A04706586  P17612          1000.0   \n",
       "130  BRD-A08840375  P27361          1000.0   \n",
       "175  BRD-A11007541  P28562          1000.0   \n",
       "\n",
       "                                           moa     source  \n",
       "39                  Glutamate receptor agonist       clue  \n",
       "41                  Glutamate receptor agonist       clue  \n",
       "81   CAMP stimulant,Adenosine receptor agonist  clue+clue  \n",
       "130           MAP kinase phosphatase inhibitor       clue  \n",
       "175              Protein phosphatase inhibitor       clue  "
      ]
     },
     "execution_count": 14,
     "metadata": {},
     "output_type": "execute_result"
    }
   ],
   "source": [
    "druginfo = pd.read_csv(f'{__DATA__}/compoundinfo_beta.txt', sep='\\t')\n",
    "\n",
    "clue_drug_target_symbols = druginfo.target.unique()\n",
    "\n",
    "gene2uni = gene_map[['uniprot', 'gene_symbol']]\n",
    "\n",
    "druginfo = druginfo.merge(gene2uni, left_on='target', right_on='gene_symbol', how='inner') \n",
    "\n",
    "druginfo = druginfo[['pert_id', 'uniprot', 'moa']].rename({'uniprot':'target'}, axis=1)\n",
    "\n",
    "druginfo = druginfo.assign(combined_score=1000, source='clue')\n",
    "\n",
    "if __INCLUDE_STITCH_TARGETS__: \n",
    "    stitch = pd.read_csv('../extdata/processed_stitch_targets.csv')\n",
    "    stitch = stitch.assign(source='stitch', moa='')\n",
    "\n",
    "    druginfo = pd.concat((druginfo, stitch), axis=0)\n",
    "\n",
    "if __INCLUDE_TARGETOME_TARGETS__: \n",
    "    targ = pd.read_csv('../extdata/targetome_with_broad_ids.csv')\n",
    "    targ = targ.rename({'Target_UniProt':'target'}, axis=1)\n",
    "    targ = targ.assign(combined_score = 1000, source='targetome', moa='')\n",
    "    targ = targ[['pert_id','target','combined_score','moa','source']]\n",
    "\n",
    "    druginfo = pd.concat((druginfo, targ), axis=0)\n",
    "\n",
    "druginfo = druginfo.groupby(['pert_id', 'target']).agg({'combined_score' : np.mean, \"moa\" : lambda x: ','.join(x), 'source':lambda x: '+'.join(x)}).reset_index()\n",
    "\n",
    "# filter to protein-space\n",
    "druginfo = druginfo[lambda x: x.target.isin(protein_space)]\n",
    "\n",
    "# apply score filter \n",
    "druginfo = druginfo[lambda x: x.combined_score >= __DRUGINFO_MIN_SCORE__]\n",
    "\n",
    "druginfo.head()"
   ]
  },
  {
   "cell_type": "code",
   "execution_count": 15,
   "metadata": {},
   "outputs": [
    {
     "data": {
      "text/html": [
       "<div>\n",
       "<style scoped>\n",
       "    .dataframe tbody tr th:only-of-type {\n",
       "        vertical-align: middle;\n",
       "    }\n",
       "\n",
       "    .dataframe tbody tr th {\n",
       "        vertical-align: top;\n",
       "    }\n",
       "\n",
       "    .dataframe thead th {\n",
       "        text-align: right;\n",
       "    }\n",
       "</style>\n",
       "<table border=\"1\" class=\"dataframe\">\n",
       "  <thead>\n",
       "    <tr style=\"text-align: right;\">\n",
       "      <th></th>\n",
       "      <th>pert_id</th>\n",
       "    </tr>\n",
       "    <tr>\n",
       "      <th>source</th>\n",
       "      <th></th>\n",
       "    </tr>\n",
       "  </thead>\n",
       "  <tbody>\n",
       "    <tr>\n",
       "      <th>clue</th>\n",
       "      <td>215</td>\n",
       "    </tr>\n",
       "    <tr>\n",
       "      <th>targetome</th>\n",
       "      <td>154</td>\n",
       "    </tr>\n",
       "    <tr>\n",
       "      <th>targetome+targetome</th>\n",
       "      <td>101</td>\n",
       "    </tr>\n",
       "    <tr>\n",
       "      <th>clue+clue</th>\n",
       "      <td>77</td>\n",
       "    </tr>\n",
       "    <tr>\n",
       "      <th>clue+clue+clue</th>\n",
       "      <td>53</td>\n",
       "    </tr>\n",
       "  </tbody>\n",
       "</table>\n",
       "</div>"
      ],
      "text/plain": [
       "                     pert_id\n",
       "source                      \n",
       "clue                     215\n",
       "targetome                154\n",
       "targetome+targetome      101\n",
       "clue+clue                 77\n",
       "clue+clue+clue            53"
      ]
     },
     "execution_count": 15,
     "metadata": {},
     "output_type": "execute_result"
    }
   ],
   "source": [
    "druginfo.groupby('source').count()[['pert_id']].sort_values('pert_id', ascending=False).head(5)"
   ]
  },
  {
   "attachments": {},
   "cell_type": "markdown",
   "metadata": {},
   "source": [
    "# Get Drugspace"
   ]
  },
  {
   "cell_type": "code",
   "execution_count": 16,
   "metadata": {},
   "outputs": [
    {
     "data": {
      "text/plain": [
       "20384"
      ]
     },
     "execution_count": 16,
     "metadata": {},
     "output_type": "execute_result"
    }
   ],
   "source": [
    "drug_space = siginfo[lambda x: x.pert_type == 'trt_cp'].pert_id.unique()\n",
    "len(drug_space)"
   ]
  },
  {
   "cell_type": "code",
   "execution_count": 17,
   "metadata": {},
   "outputs": [
    {
     "data": {
      "text/plain": [
       "287"
      ]
     },
     "execution_count": 17,
     "metadata": {},
     "output_type": "execute_result"
    }
   ],
   "source": [
    "# drugs we have targets for (in protein_space)\n",
    "drug_space_with_targets = druginfo.pert_id.unique()\n",
    "len(drug_space_with_targets)"
   ]
  },
  {
   "cell_type": "code",
   "execution_count": 18,
   "metadata": {},
   "outputs": [
    {
     "name": "stdout",
     "output_type": "stream",
     "text": [
      "# obs from drugs with targets: 50619\n"
     ]
    }
   ],
   "source": [
    "num_obs_with_targets = siginfo[lambda x: x.pert_id.isin(drug_space_with_targets)].shape[0]\n",
    "\n",
    "print('# obs from drugs with targets:', num_obs_with_targets)\n",
    "\n",
    "drug_space = drug_space_with_targets"
   ]
  },
  {
   "cell_type": "code",
   "execution_count": 19,
   "metadata": {},
   "outputs": [
    {
     "name": "stdout",
     "output_type": "stream",
     "text": [
      "drug space before 287\n",
      "drug space after 281\n"
     ]
    }
   ],
   "source": [
    "# filter low cnt drugs \n",
    "sigcnts = siginfo.groupby('pert_id').count()['sig_id'].reset_index().rename({'sig_id':'cnts'}, axis=1)\n",
    "\n",
    "# filter perts with fewer XX number of observations \n",
    "sigcnts = sigcnts[lambda x: x.cnts >= __MIN_NUM_OBS_PER_DRUG__]\n",
    "\n",
    "# remove any drugs that don't have observations in LINCS\n",
    "print('drug space before', len(drug_space))\n",
    "drug_space = np.sort(list(set(sigcnts.pert_id.values.tolist()).intersection(drug_space)))\n",
    "print('drug space after', len(drug_space))"
   ]
  },
  {
   "cell_type": "code",
   "execution_count": 20,
   "metadata": {},
   "outputs": [
    {
     "name": "stdout",
     "output_type": "stream",
     "text": [
      "before (753, 15)\n",
      "after (745, 15)\n",
      "final drug space size: 281\n"
     ]
    },
    {
     "data": {
      "text/html": [
       "<div>\n",
       "<style scoped>\n",
       "    .dataframe tbody tr th:only-of-type {\n",
       "        vertical-align: middle;\n",
       "    }\n",
       "\n",
       "    .dataframe tbody tr th {\n",
       "        vertical-align: top;\n",
       "    }\n",
       "\n",
       "    .dataframe thead th {\n",
       "        text-align: right;\n",
       "    }\n",
       "</style>\n",
       "<table border=\"1\" class=\"dataframe\">\n",
       "  <thead>\n",
       "    <tr style=\"text-align: right;\">\n",
       "      <th></th>\n",
       "      <th>pert_id</th>\n",
       "      <th>target</th>\n",
       "      <th>combined_score</th>\n",
       "      <th>moa</th>\n",
       "      <th>source</th>\n",
       "      <th>is_stimulation</th>\n",
       "      <th>is_inhibition</th>\n",
       "      <th>is_directed</th>\n",
       "      <th>curation_effort</th>\n",
       "      <th>consensus_stimulation</th>\n",
       "      <th>consensus_inhibition</th>\n",
       "      <th>n_references</th>\n",
       "      <th>n_sources</th>\n",
       "      <th>n_primary_sources</th>\n",
       "      <th>edge_type</th>\n",
       "    </tr>\n",
       "  </thead>\n",
       "  <tbody>\n",
       "    <tr>\n",
       "      <th>39</th>\n",
       "      <td>BRD-A02508087</td>\n",
       "      <td>Q05586</td>\n",
       "      <td>1000.0</td>\n",
       "      <td>Glutamate receptor agonist</td>\n",
       "      <td>BRD-A02508087</td>\n",
       "      <td>False</td>\n",
       "      <td>False</td>\n",
       "      <td>True</td>\n",
       "      <td>0</td>\n",
       "      <td>False</td>\n",
       "      <td>False</td>\n",
       "      <td>0</td>\n",
       "      <td>0</td>\n",
       "      <td>0</td>\n",
       "      <td>drug-target</td>\n",
       "    </tr>\n",
       "    <tr>\n",
       "      <th>41</th>\n",
       "      <td>BRD-A02508087</td>\n",
       "      <td>Q13224</td>\n",
       "      <td>1000.0</td>\n",
       "      <td>Glutamate receptor agonist</td>\n",
       "      <td>BRD-A02508087</td>\n",
       "      <td>False</td>\n",
       "      <td>False</td>\n",
       "      <td>True</td>\n",
       "      <td>0</td>\n",
       "      <td>False</td>\n",
       "      <td>False</td>\n",
       "      <td>0</td>\n",
       "      <td>0</td>\n",
       "      <td>0</td>\n",
       "      <td>drug-target</td>\n",
       "    </tr>\n",
       "    <tr>\n",
       "      <th>81</th>\n",
       "      <td>BRD-A04706586</td>\n",
       "      <td>P17612</td>\n",
       "      <td>1000.0</td>\n",
       "      <td>CAMP stimulant,Adenosine receptor agonist</td>\n",
       "      <td>BRD-A04706586</td>\n",
       "      <td>False</td>\n",
       "      <td>False</td>\n",
       "      <td>True</td>\n",
       "      <td>0</td>\n",
       "      <td>False</td>\n",
       "      <td>False</td>\n",
       "      <td>0</td>\n",
       "      <td>0</td>\n",
       "      <td>0</td>\n",
       "      <td>drug-target</td>\n",
       "    </tr>\n",
       "    <tr>\n",
       "      <th>130</th>\n",
       "      <td>BRD-A08840375</td>\n",
       "      <td>P27361</td>\n",
       "      <td>1000.0</td>\n",
       "      <td>MAP kinase phosphatase inhibitor</td>\n",
       "      <td>BRD-A08840375</td>\n",
       "      <td>False</td>\n",
       "      <td>False</td>\n",
       "      <td>True</td>\n",
       "      <td>0</td>\n",
       "      <td>False</td>\n",
       "      <td>False</td>\n",
       "      <td>0</td>\n",
       "      <td>0</td>\n",
       "      <td>0</td>\n",
       "      <td>drug-target</td>\n",
       "    </tr>\n",
       "    <tr>\n",
       "      <th>175</th>\n",
       "      <td>BRD-A11007541</td>\n",
       "      <td>P28562</td>\n",
       "      <td>1000.0</td>\n",
       "      <td>Protein phosphatase inhibitor</td>\n",
       "      <td>BRD-A11007541</td>\n",
       "      <td>False</td>\n",
       "      <td>False</td>\n",
       "      <td>True</td>\n",
       "      <td>0</td>\n",
       "      <td>False</td>\n",
       "      <td>False</td>\n",
       "      <td>0</td>\n",
       "      <td>0</td>\n",
       "      <td>0</td>\n",
       "      <td>drug-target</td>\n",
       "    </tr>\n",
       "  </tbody>\n",
       "</table>\n",
       "</div>"
      ],
      "text/plain": [
       "           pert_id  target  combined_score  \\\n",
       "39   BRD-A02508087  Q05586          1000.0   \n",
       "41   BRD-A02508087  Q13224          1000.0   \n",
       "81   BRD-A04706586  P17612          1000.0   \n",
       "130  BRD-A08840375  P27361          1000.0   \n",
       "175  BRD-A11007541  P28562          1000.0   \n",
       "\n",
       "                                           moa         source  is_stimulation  \\\n",
       "39                  Glutamate receptor agonist  BRD-A02508087           False   \n",
       "41                  Glutamate receptor agonist  BRD-A02508087           False   \n",
       "81   CAMP stimulant,Adenosine receptor agonist  BRD-A04706586           False   \n",
       "130           MAP kinase phosphatase inhibitor  BRD-A08840375           False   \n",
       "175              Protein phosphatase inhibitor  BRD-A11007541           False   \n",
       "\n",
       "     is_inhibition  is_directed  curation_effort  consensus_stimulation  \\\n",
       "39           False         True                0                  False   \n",
       "41           False         True                0                  False   \n",
       "81           False         True                0                  False   \n",
       "130          False         True                0                  False   \n",
       "175          False         True                0                  False   \n",
       "\n",
       "     consensus_inhibition  n_references  n_sources  n_primary_sources  \\\n",
       "39                  False             0          0                  0   \n",
       "41                  False             0          0                  0   \n",
       "81                  False             0          0                  0   \n",
       "130                 False             0          0                  0   \n",
       "175                 False             0          0                  0   \n",
       "\n",
       "       edge_type  \n",
       "39   drug-target  \n",
       "41   drug-target  \n",
       "81   drug-target  \n",
       "130  drug-target  \n",
       "175  drug-target  "
      ]
     },
     "execution_count": 20,
     "metadata": {},
     "output_type": "execute_result"
    }
   ],
   "source": [
    "druginfo2 = druginfo.assign(source                  = lambda x: x.pert_id,\n",
    "                            is_stimulation          = False, \n",
    "                            is_inhibition           = False,\n",
    "                            is_directed             = True,\n",
    "                            curation_effort         = 0, \n",
    "                            consensus_stimulation   = False, \n",
    "                            consensus_inhibition    = False, \n",
    "                            n_references            = 0, \n",
    "                            n_sources               = 0, \n",
    "                            n_primary_sources       = 0,\n",
    "                            edge_type               = 'drug-target') \n",
    "\n",
    "print('before', druginfo2.shape)\n",
    "druginfo2 = druginfo2[lambda x: x.target.isin(protein_space)]\n",
    "druginfo2 = druginfo2[lambda x: x.pert_id.isin(drug_space)]\n",
    "print('after', druginfo2.shape)\n",
    "\n",
    "drug_space = np.sort(druginfo2.pert_id.unique())\n",
    "print('final drug space size:', len(drug_space))\n",
    "\n",
    "druginfo2.head()"
   ]
  },
  {
   "attachments": {},
   "cell_type": "markdown",
   "metadata": {},
   "source": [
    "# Filter Drug-space by proprotion of downstream LINCS nodes\n",
    "\n",
    "Just because a drug-target is in our `protein-space` does not mean that it has downstream LINCS nodes. "
   ]
  },
  {
   "cell_type": "code",
   "execution_count": 21,
   "metadata": {},
   "outputs": [],
   "source": [
    "def downstream_nodes(G, node, N, visited=None):\n",
    "    # If visited is None, initialize it as an empty set\n",
    "    if visited is None:\n",
    "        visited = set()\n",
    "\n",
    "    # Add the current node to the visited set\n",
    "    visited.add(node)\n",
    "\n",
    "    downstream = []\n",
    "    if N > 0:\n",
    "        for n in G.successors(node):\n",
    "            if n not in visited:\n",
    "                # Add this node and all its downstream nodes to the list\n",
    "                downstream.append(n)\n",
    "                downstream.extend(downstream_nodes(G, n, N-1, visited))\n",
    "\n",
    "    return downstream"
   ]
  },
  {
   "cell_type": "code",
   "execution_count": 22,
   "metadata": {},
   "outputs": [],
   "source": [
    "# create a homogenous graph with one edge type to use for infering \"upstream\" genes \n",
    "\n",
    "all_edges = pd.concat([dorothea, omnipath, pathways_extra, tf_mirna, mirna], axis=0)\n",
    "\n",
    "G = nx.DiGraph()\n",
    "for i,edge in all_edges.iterrows(): \n",
    "    G.add_edge(edge.source, edge.target)"
   ]
  },
  {
   "cell_type": "code",
   "execution_count": 23,
   "metadata": {},
   "outputs": [
    {
     "name": "stdout",
     "output_type": "stream",
     "text": [
      "progress 280/281\r"
     ]
    },
    {
     "data": {
      "text/html": [
       "<div>\n",
       "<style scoped>\n",
       "    .dataframe tbody tr th:only-of-type {\n",
       "        vertical-align: middle;\n",
       "    }\n",
       "\n",
       "    .dataframe tbody tr th {\n",
       "        vertical-align: top;\n",
       "    }\n",
       "\n",
       "    .dataframe thead th {\n",
       "        text-align: right;\n",
       "    }\n",
       "</style>\n",
       "<table border=\"1\" class=\"dataframe\">\n",
       "  <thead>\n",
       "    <tr style=\"text-align: right;\">\n",
       "      <th></th>\n",
       "      <th>pert_id</th>\n",
       "      <th>num_downstream_lincs</th>\n",
       "      <th>p_downstream_lincs</th>\n",
       "    </tr>\n",
       "  </thead>\n",
       "  <tbody>\n",
       "    <tr>\n",
       "      <th>0</th>\n",
       "      <td>BRD-A02508087</td>\n",
       "      <td>0</td>\n",
       "      <td>0.000000</td>\n",
       "    </tr>\n",
       "    <tr>\n",
       "      <th>1</th>\n",
       "      <td>BRD-A04706586</td>\n",
       "      <td>22</td>\n",
       "      <td>0.067073</td>\n",
       "    </tr>\n",
       "    <tr>\n",
       "      <th>2</th>\n",
       "      <td>BRD-A08840375</td>\n",
       "      <td>24</td>\n",
       "      <td>0.073171</td>\n",
       "    </tr>\n",
       "    <tr>\n",
       "      <th>3</th>\n",
       "      <td>BRD-A11007541</td>\n",
       "      <td>146</td>\n",
       "      <td>0.445122</td>\n",
       "    </tr>\n",
       "    <tr>\n",
       "      <th>4</th>\n",
       "      <td>BRD-A11678676</td>\n",
       "      <td>167</td>\n",
       "      <td>0.509146</td>\n",
       "    </tr>\n",
       "  </tbody>\n",
       "</table>\n",
       "</div>"
      ],
      "text/plain": [
       "         pert_id  num_downstream_lincs  p_downstream_lincs\n",
       "0  BRD-A02508087                     0            0.000000\n",
       "1  BRD-A04706586                    22            0.067073\n",
       "2  BRD-A08840375                    24            0.073171\n",
       "3  BRD-A11007541                   146            0.445122\n",
       "4  BRD-A11678676                   167            0.509146"
      ]
     },
     "execution_count": 23,
     "metadata": {},
     "output_type": "execute_result"
    }
   ],
   "source": [
    "_drug_res = {'pert_id':[], 'num_downstream_lincs':[]}\n",
    "for i, pert_id in enumerate(drug_space):\n",
    "    print(f'progress {i}/{len(drug_space)}', end='\\r')\n",
    "    targs = druginfo2[lambda x: x.pert_id == pert_id]\n",
    "    downstream = [] \n",
    "    for t in targs.target.values:\n",
    "        downstream += downstream_nodes(G, t, N=10)\n",
    "    downstream = np.unique(downstream)\n",
    "    lincs_downstream = set(downstream).intersection(set(lincs_space))\n",
    "\n",
    "    _drug_res['pert_id'].append(pert_id)\n",
    "    _drug_res['num_downstream_lincs'].append(len(lincs_downstream))\n",
    "\n",
    "_drug_res = pd.DataFrame(_drug_res)\n",
    "_drug_res = _drug_res.assign(p_downstream_lincs = lambda x: x.num_downstream_lincs / len(lincs_space))\n",
    "_drug_res.head()\n"
   ]
  },
  {
   "cell_type": "code",
   "execution_count": 24,
   "metadata": {},
   "outputs": [
    {
     "data": {
      "image/png": "[encoded data removed]",
      "text/plain": [
       "<Figure size 640x480 with 1 Axes>"
      ]
     },
     "metadata": {},
     "output_type": "display_data"
    }
   ],
   "source": [
    "plt.figure()\n",
    "plt.hist(_drug_res.p_downstream_lincs, bins=25)\n",
    "plt.show()"
   ]
  },
  {
   "cell_type": "code",
   "execution_count": 25,
   "metadata": {},
   "outputs": [
    {
     "name": "stdout",
     "output_type": "stream",
     "text": [
      "drugspace size: 178\n"
     ]
    }
   ],
   "source": [
    "drug_space = np.sort(_drug_res[lambda x: x.p_downstream_lincs >= __MIN_PROP_DOWNSTREAM_LINCS_PER_DRUG__].pert_id.values)\n",
    "druginfo2 = druginfo2[lambda x: x.pert_id.isin(drug_space)]\n",
    "print('drugspace size:', len(drug_space))"
   ]
  },
  {
   "cell_type": "code",
   "execution_count": 26,
   "metadata": {},
   "outputs": [
    {
     "name": "stdout",
     "output_type": "stream",
     "text": [
      "# of drug obs: 38291\n"
     ]
    }
   ],
   "source": [
    "# get valid observation sig_id \n",
    "drug_sig_ids = siginfo[lambda x: x.pert_id.isin(drug_space)].sig_id.unique()\n",
    "\n",
    "print('# of drug obs:', len(drug_sig_ids))"
   ]
  },
  {
   "cell_type": "code",
   "execution_count": 27,
   "metadata": {},
   "outputs": [],
   "source": [
    "# double check all drugs have at least one target\n",
    "assert druginfo2.pert_id.unique().shape[0] == len(drug_space), 'drugspace does not match available target infomation in druginfo2'"
   ]
  },
  {
   "attachments": {},
   "cell_type": "markdown",
   "metadata": {},
   "source": [
    "# Make the pytorch geometric graph"
   ]
  },
  {
   "cell_type": "code",
   "execution_count": 28,
   "metadata": {},
   "outputs": [
    {
     "name": "stdout",
     "output_type": "stream",
     "text": [
      "Total # of nodes: 6594\n",
      "Total # of edges: 13777\n"
     ]
    }
   ],
   "source": [
    "# omnipath.interactions.Dorothea        :: protein (TF) -> gene \n",
    "# omnipath.interactions.OmniPath        :: protein -> protein           :: literature curated and are either activity flow, enzyme-PTM or undirected interaction resources. We also added network databases with high-throughput data. Then we added further directions and effect signs from resources without literature references.\n",
    "# omnipath.interactions.PathwayExtra    :: protein -> protein           :: activity flow resources without literature references. However, they are manually curated and many have effect signs.\n",
    "# omnipath.interactions.TFmiRNA         :: protein (TF) -> gene         :: Transcriptional regulation of miRNA (“tf_mirna”) from 2 literature curated resources.\n",
    "# omnipath.interactions.miRNA           :: RNA -> RNA                   :: contains miRNA-mRNA interactions. \n",
    "\n",
    "doro = dorothea[lambda x: x.source.isin(protein_space) & x.target.isin(rna_space)].assign(source = lambda x: ['PROTEIN__' + y for y in x.source],\n",
    "                    target = lambda x: ['RNA__' + y for y in x.target], \n",
    "                    edge_type = 'dorothea',\n",
    "                    input_edge = False, \n",
    "                    output_edge = False)[['source', 'target', 'edge_type', 'input_edge', 'output_edge']]\n",
    "\n",
    "omni = omnipath[lambda x: x.source.isin(protein_space) & x.target.isin(protein_space)].assign(source = lambda x: ['PROTEIN__' + y for y in x.source],\n",
    "                    target = lambda x: ['PROTEIN__' + y for y in x.target], \n",
    "                    edge_type = 'omnipath',\n",
    "                    input_edge = False, \n",
    "                    output_edge = False)[['source', 'target', 'edge_type', 'input_edge', 'output_edge']]\n",
    "\n",
    "path = pathways_extra[lambda x: x.source.isin(protein_space) & x.target.isin(protein_space)].assign(source = lambda x: ['PROTEIN__' + y for y in x.source],\n",
    "                    target = lambda x: ['PROTEIN__' + y for y in x.target], \n",
    "                    edge_type = 'pathways_extra',\n",
    "                    input_edge = False, \n",
    "                    output_edge = False)[['source', 'target', 'edge_type', 'input_edge', 'output_edge']]     \n",
    "\n",
    "tfmirna = tf_mirna[lambda x: x.source.isin(protein_space) & x.target.isin(rna_space)].assign(source = lambda x: ['PROTEIN__' + y for y in x.source],\n",
    "                    target = lambda x: ['RNA__' + y for y in x.target], \n",
    "                    edge_type = 'tf_mirna',\n",
    "                    input_edge = False, \n",
    "                    output_edge = False)[['source', 'target', 'edge_type', 'input_edge', 'output_edge']]\n",
    "\n",
    "mirna_ = mirna[lambda x: x.source.isin(rna_space) & x.target.isin(rna_space)].assign(source = lambda x: ['RNA__' + y for y in x.source],\n",
    "                    target = lambda x: ['RNA__' + y for y in x.target], \n",
    "                    edge_type = 'mirna',\n",
    "                    input_edge = False, \n",
    "                    output_edge = False)[['source', 'target', 'edge_type', 'input_edge', 'output_edge']]  \n",
    "\n",
    "drug = druginfo2[lambda x: x.source.isin(drug_space) & x.target.isin(protein_space)].assign(source = lambda x: ['DRUG__' + y for y in x.source],\n",
    "                    target = lambda x: ['PROTEIN__' + y for y in x.target], \n",
    "                    edge_type = 'drug_input',\n",
    "                    input_edge = True, \n",
    "                    output_edge = False)[['source', 'target', 'edge_type', 'input_edge', 'output_edge']]          \n",
    "\n",
    "lincs = pd.DataFrame({'source':['RNA__' + x for x in lincs_space], \n",
    "                      'target':['LINCS__' + x for x in lincs_space], \n",
    "                      'edge_type':'lincs', \n",
    "                      'input_edge' : False, \n",
    "                      'output_edge' : True})\n",
    "\n",
    "RNA_PROT_OVERLAP = list(set(rna_space).intersection(set(protein_space)))\n",
    "trans = pd.DataFrame({'source': ['RNA__' + x for x in RNA_PROT_OVERLAP],\n",
    "                      'target': ['PROTEIN__' + x for x in RNA_PROT_OVERLAP],\n",
    "                      'edge_type':'translation', \n",
    "                      'input_edge' : False, \n",
    "                      'output_edge' : False})\n",
    "\n",
    "# expr omics input values\n",
    "expr_ = pd.DataFrame({'source': ['EXPR__' + x for x in rna_space] + ['EXPR__' + x for x in protein_space],\n",
    "                      'target': ['RNA__' + x for x in rna_space] + ['PROTEIN__' + x for x in protein_space],\n",
    "                      'edge_type':'expr_input', \n",
    "                      'input_edge' : True, \n",
    "                      'output_edge' : False})\n",
    "\n",
    "edgelist = pd.concat([doro, omni, path, tfmirna, mirna_, drug, lincs, trans, expr_], axis=0)\n",
    "\n",
    "node_space = np.sort(np.unique(edgelist.source.values.tolist() + edgelist.target.values.tolist()))\n",
    "node2idx = {n:i for i,n in enumerate(node_space)}\n",
    "\n",
    "print('Total # of nodes:', len(node_space))\n",
    "print('Total # of edges:', len(edgelist))"
   ]
  },
  {
   "cell_type": "code",
   "execution_count": 29,
   "metadata": {},
   "outputs": [
    {
     "name": "stdout",
     "output_type": "stream",
     "text": [
      "# lincs nodes 328\n"
     ]
    },
    {
     "name": "stdout",
     "output_type": "stream",
     "text": [
      "# of nodes to remove (no downstream LINCS nodes) 4509\n",
      "Total # of nodes: 2085\n",
      "Total # of edges: 6487\n"
     ]
    }
   ],
   "source": [
    "# create nx DiGraph and remove any nodes that don't have a LINCS gene downstream. \n",
    "LINCS_nodes = [x for x in node_space if 'LINCS__' in x]\n",
    "print('# lincs nodes', len(LINCS_nodes))\n",
    "\n",
    "G = nx.DiGraph()\n",
    "for i,row in edgelist.iterrows(): \n",
    "    G.add_edge(row.source, row.target)\n",
    "\n",
    "\n",
    "nodes_to_remove = [] \n",
    "\n",
    "for i,node in enumerate(G.nodes()): \n",
    "    print('progress', i, end='\\r')\n",
    "    has_lincs_downstream = False\n",
    "\n",
    "    if node in LINCS_nodes: \n",
    "        has_lincs_downstream = True \n",
    "        continue \n",
    "    \n",
    "    for lincs in LINCS_nodes: \n",
    "        if nx.has_path(G, node, lincs): \n",
    "            has_lincs_downstream = True \n",
    "            break \n",
    "\n",
    "    if not has_lincs_downstream: \n",
    "        nodes_to_remove.append(node)\n",
    "\n",
    "print('# of nodes to remove (no downstream LINCS nodes)', len(nodes_to_remove))\n",
    "\n",
    "edgelist = edgelist[lambda x: (~x.source.isin(nodes_to_remove)) & (~x.target.isin(nodes_to_remove))]\n",
    "\n",
    "node_space = np.sort(np.unique(edgelist.source.values.tolist() + edgelist.target.values.tolist()))\n",
    "node2idx = {n:i for i,n in enumerate(node_space)}\n",
    "\n",
    "print('Total # of nodes:', len(node_space))\n",
    "print('Total # of edges:', len(edgelist))"
   ]
  },
  {
   "cell_type": "code",
   "execution_count": 30,
   "metadata": {},
   "outputs": [
    {
     "data": {
      "text/plain": [
       "Data(node_names=[2085], edge_index=[2, 6487], input_edge_mask=[6487], output_edge_mask=[6487], input_node_ixs=[916], output_node_ixs=[328], input_node_mask=[2085], output_node_mask=[2085])"
      ]
     },
     "execution_count": 30,
     "metadata": {},
     "output_type": "execute_result"
    }
   ],
   "source": [
    "data            = pyg.data.Data()\n",
    "\n",
    "data.node_names = node_space\n",
    "\n",
    "src = torch.tensor([node2idx[x] for x in edgelist.source.values])\n",
    "dst = torch.tensor([node2idx[x] for x in edgelist.target.values])\n",
    "data.edge_index =  torch.stack((src,dst), dim=0).type(torch.long)\n",
    "\n",
    "data.input_edge_mask = torch.tensor(edgelist.input_edge.values, dtype=torch.bool)\n",
    "data.output_edge_mask = torch.tensor(edgelist.output_edge.values, dtype=torch.bool)\n",
    "\n",
    "data.input_node_ixs = torch.unique(src[data.input_edge_mask])\n",
    "data.output_node_ixs = torch.unique(dst[data.output_edge_mask])\n",
    "\n",
    "input_node_mask = torch.zeros((len(node_space)), dtype=torch.bool)\n",
    "output_node_mask = torch.zeros((len(node_space)), dtype=torch.bool)\n",
    "input_node_mask[data.input_node_ixs] = True\n",
    "output_node_mask[data.output_node_ixs] = True\n",
    "data.input_node_mask = input_node_mask \n",
    "data.output_node_mask = output_node_mask\n",
    "\n",
    "data"
   ]
  },
  {
   "cell_type": "code",
   "execution_count": 31,
   "metadata": {},
   "outputs": [
    {
     "name": "stdout",
     "output_type": "stream",
     "text": [
      "# input nodes: tensor(916)\n",
      "# output nodes: tensor(328)\n",
      "# function nodes: tensor(841)\n"
     ]
    }
   ],
   "source": [
    "print('# input nodes:', data.input_node_mask.sum())\n",
    "print('# output nodes:', data.output_node_mask.sum())\n",
    "print('# function nodes:', (~(data.output_node_mask | data.input_node_mask)).sum())"
   ]
  },
  {
   "attachments": {},
   "cell_type": "markdown",
   "metadata": {},
   "source": [
    "# Load LINCS data + filter to obs-space \n",
    "\n",
    "Need this to know which cell lines to select for omics "
   ]
  },
  {
   "cell_type": "code",
   "execution_count": 32,
   "metadata": {},
   "outputs": [
    {
     "name": "stdout",
     "output_type": "stream",
     "text": [
      "# drugspace obs (38291, 37)\n"
     ]
    },
    {
     "data": {
      "text/html": [
       "<div>\n",
       "<style scoped>\n",
       "    .dataframe tbody tr th:only-of-type {\n",
       "        vertical-align: middle;\n",
       "    }\n",
       "\n",
       "    .dataframe tbody tr th {\n",
       "        vertical-align: top;\n",
       "    }\n",
       "\n",
       "    .dataframe thead th {\n",
       "        text-align: right;\n",
       "    }\n",
       "</style>\n",
       "<table border=\"1\" class=\"dataframe\">\n",
       "  <thead>\n",
       "    <tr style=\"text-align: right;\">\n",
       "      <th></th>\n",
       "      <th>bead_batch</th>\n",
       "      <th>nearest_dose</th>\n",
       "      <th>pert_dose</th>\n",
       "      <th>pert_dose_unit</th>\n",
       "      <th>pert_idose</th>\n",
       "      <th>pert_itime</th>\n",
       "      <th>pert_time</th>\n",
       "      <th>pert_time_unit</th>\n",
       "      <th>cell_mfc_name</th>\n",
       "      <th>pert_mfc_id</th>\n",
       "      <th>...</th>\n",
       "      <th>cell_iname</th>\n",
       "      <th>det_wells</th>\n",
       "      <th>det_plates</th>\n",
       "      <th>distil_ids</th>\n",
       "      <th>build_name</th>\n",
       "      <th>project_code</th>\n",
       "      <th>cmap_name</th>\n",
       "      <th>is_exemplar_sig</th>\n",
       "      <th>is_ncs_sig</th>\n",
       "      <th>is_null_sig</th>\n",
       "    </tr>\n",
       "  </thead>\n",
       "  <tbody>\n",
       "    <tr>\n",
       "      <th>0</th>\n",
       "      <td>b17</td>\n",
       "      <td>NaN</td>\n",
       "      <td>100.0</td>\n",
       "      <td>ug/ml</td>\n",
       "      <td>100 ug/ml</td>\n",
       "      <td>336 h</td>\n",
       "      <td>336.0</td>\n",
       "      <td>h</td>\n",
       "      <td>N8</td>\n",
       "      <td>BRD-U44432129</td>\n",
       "      <td>...</td>\n",
       "      <td>NAMEC8</td>\n",
       "      <td>H05|H06|H07|H08</td>\n",
       "      <td>MET001_N8_XH_X1_B17</td>\n",
       "      <td>MET001_N8_XH_X1_B17:H05|MET001_N8_XH_X1_B17:H0...</td>\n",
       "      <td>NaN</td>\n",
       "      <td>MET</td>\n",
       "      <td>BRD-U44432129</td>\n",
       "      <td>0</td>\n",
       "      <td>0.0</td>\n",
       "      <td>0.0</td>\n",
       "    </tr>\n",
       "    <tr>\n",
       "      <th>1</th>\n",
       "      <td>b15</td>\n",
       "      <td>10.0</td>\n",
       "      <td>10.0</td>\n",
       "      <td>uM</td>\n",
       "      <td>10 uM</td>\n",
       "      <td>3 h</td>\n",
       "      <td>3.0</td>\n",
       "      <td>h</td>\n",
       "      <td>A549</td>\n",
       "      <td>BRD-K81418486</td>\n",
       "      <td>...</td>\n",
       "      <td>A549</td>\n",
       "      <td>L04|L08|L12</td>\n",
       "      <td>ABY001_A549_XH_X1_B15</td>\n",
       "      <td>ABY001_A549_XH_X1_B15:L04|ABY001_A549_XH_X1_B1...</td>\n",
       "      <td>NaN</td>\n",
       "      <td>ABY</td>\n",
       "      <td>vorinostat</td>\n",
       "      <td>0</td>\n",
       "      <td>1.0</td>\n",
       "      <td>0.0</td>\n",
       "    </tr>\n",
       "    <tr>\n",
       "      <th>2</th>\n",
       "      <td>b15</td>\n",
       "      <td>2.5</td>\n",
       "      <td>2.5</td>\n",
       "      <td>uM</td>\n",
       "      <td>2.5 uM</td>\n",
       "      <td>24 h</td>\n",
       "      <td>24.0</td>\n",
       "      <td>h</td>\n",
       "      <td>HT29</td>\n",
       "      <td>BRD-K70511574</td>\n",
       "      <td>...</td>\n",
       "      <td>HT29</td>\n",
       "      <td>E18|E22</td>\n",
       "      <td>ABY001_HT29_XH_X1_B15</td>\n",
       "      <td>ABY001_HT29_XH_X1_B15:E18|ABY001_HT29_XH_X1_B1...</td>\n",
       "      <td>NaN</td>\n",
       "      <td>ABY</td>\n",
       "      <td>HMN-214</td>\n",
       "      <td>0</td>\n",
       "      <td>1.0</td>\n",
       "      <td>0.0</td>\n",
       "    </tr>\n",
       "    <tr>\n",
       "      <th>3</th>\n",
       "      <td>b18</td>\n",
       "      <td>10.0</td>\n",
       "      <td>10.0</td>\n",
       "      <td>uM</td>\n",
       "      <td>10 uM</td>\n",
       "      <td>3 h</td>\n",
       "      <td>3.0</td>\n",
       "      <td>h</td>\n",
       "      <td>HME1</td>\n",
       "      <td>BRD-K81418486</td>\n",
       "      <td>...</td>\n",
       "      <td>HME1</td>\n",
       "      <td>F19</td>\n",
       "      <td>LTC002_HME1_3H_X1_B18</td>\n",
       "      <td>LTC002_HME1_3H_X1_B18:F19</td>\n",
       "      <td>NaN</td>\n",
       "      <td>LTC</td>\n",
       "      <td>vorinostat</td>\n",
       "      <td>0</td>\n",
       "      <td>0.0</td>\n",
       "      <td>0.0</td>\n",
       "    </tr>\n",
       "    <tr>\n",
       "      <th>4</th>\n",
       "      <td>b15</td>\n",
       "      <td>10.0</td>\n",
       "      <td>10.0</td>\n",
       "      <td>uM</td>\n",
       "      <td>10 uM</td>\n",
       "      <td>3 h</td>\n",
       "      <td>3.0</td>\n",
       "      <td>h</td>\n",
       "      <td>H1975</td>\n",
       "      <td>BRD-A61304759</td>\n",
       "      <td>...</td>\n",
       "      <td>H1975</td>\n",
       "      <td>P01|P05|P09</td>\n",
       "      <td>ABY001_H1975_XH_X1_B15</td>\n",
       "      <td>ABY001_H1975_XH_X1_B15:P01|ABY001_H1975_XH_X1_...</td>\n",
       "      <td>NaN</td>\n",
       "      <td>ABY</td>\n",
       "      <td>tanespimycin</td>\n",
       "      <td>0</td>\n",
       "      <td>0.0</td>\n",
       "      <td>0.0</td>\n",
       "    </tr>\n",
       "  </tbody>\n",
       "</table>\n",
       "<p>5 rows × 37 columns</p>\n",
       "</div>"
      ],
      "text/plain": [
       "  bead_batch  nearest_dose  pert_dose pert_dose_unit pert_idose pert_itime  \\\n",
       "0        b17           NaN      100.0          ug/ml  100 ug/ml      336 h   \n",
       "1        b15          10.0       10.0             uM      10 uM        3 h   \n",
       "2        b15           2.5        2.5             uM     2.5 uM       24 h   \n",
       "3        b18          10.0       10.0             uM      10 uM        3 h   \n",
       "4        b15          10.0       10.0             uM      10 uM        3 h   \n",
       "\n",
       "   pert_time pert_time_unit cell_mfc_name    pert_mfc_id  ...  cell_iname  \\\n",
       "0      336.0              h            N8  BRD-U44432129  ...      NAMEC8   \n",
       "1        3.0              h          A549  BRD-K81418486  ...        A549   \n",
       "2       24.0              h          HT29  BRD-K70511574  ...        HT29   \n",
       "3        3.0              h          HME1  BRD-K81418486  ...        HME1   \n",
       "4        3.0              h         H1975  BRD-A61304759  ...       H1975   \n",
       "\n",
       "         det_wells              det_plates  \\\n",
       "0  H05|H06|H07|H08     MET001_N8_XH_X1_B17   \n",
       "1      L04|L08|L12   ABY001_A549_XH_X1_B15   \n",
       "2          E18|E22   ABY001_HT29_XH_X1_B15   \n",
       "3              F19   LTC002_HME1_3H_X1_B18   \n",
       "4      P01|P05|P09  ABY001_H1975_XH_X1_B15   \n",
       "\n",
       "                                          distil_ids  build_name project_code  \\\n",
       "0  MET001_N8_XH_X1_B17:H05|MET001_N8_XH_X1_B17:H0...         NaN          MET   \n",
       "1  ABY001_A549_XH_X1_B15:L04|ABY001_A549_XH_X1_B1...         NaN          ABY   \n",
       "2  ABY001_HT29_XH_X1_B15:E18|ABY001_HT29_XH_X1_B1...         NaN          ABY   \n",
       "3                          LTC002_HME1_3H_X1_B18:F19         NaN          LTC   \n",
       "4  ABY001_H1975_XH_X1_B15:P01|ABY001_H1975_XH_X1_...         NaN          ABY   \n",
       "\n",
       "       cmap_name  is_exemplar_sig  is_ncs_sig  is_null_sig  \n",
       "0  BRD-U44432129                0         0.0          0.0  \n",
       "1     vorinostat                0         1.0          0.0  \n",
       "2        HMN-214                0         1.0          0.0  \n",
       "3     vorinostat                0         0.0          0.0  \n",
       "4   tanespimycin                0         0.0          0.0  \n",
       "\n",
       "[5 rows x 37 columns]"
      ]
     },
     "execution_count": 32,
     "metadata": {},
     "output_type": "execute_result"
    }
   ],
   "source": [
    "siginfo = pd.read_csv(f'{__DATA__}/siginfo_beta.txt', sep='\\t', low_memory=False)\n",
    "\n",
    "siginfo2 = siginfo[lambda x: x.sig_id.isin(drug_sig_ids)]\n",
    "print('# drugspace obs', siginfo2.shape)\n",
    "\n",
    "siginfo.head()"
   ]
  },
  {
   "cell_type": "code",
   "execution_count": 33,
   "metadata": {},
   "outputs": [
    {
     "data": {
      "text/plain": [
       "150"
      ]
     },
     "execution_count": 33,
     "metadata": {},
     "output_type": "execute_result"
    }
   ],
   "source": [
    "# get initial cell space defined by having at least `__MIN_OBS_PER_CELL_LINE__` observations per cell line for inclusion\n",
    "cell_cnts = siginfo2.groupby('cell_iname').count()[['sig_id']].sort_values('sig_id', ascending=False).reset_index()\n",
    "cell_cnts = cell_cnts[lambda x: x.sig_id >= __MIN_OBS_PER_CELL_LINE__]\n",
    "cell_space = cell_cnts.cell_iname.unique().astype(str)\n",
    "\n",
    "len(cell_space)"
   ]
  },
  {
   "attachments": {},
   "cell_type": "markdown",
   "metadata": {},
   "source": [
    "# Get 'omics + create cell space "
   ]
  },
  {
   "cell_type": "code",
   "execution_count": 34,
   "metadata": {},
   "outputs": [
    {
     "name": "stdout",
     "output_type": "stream",
     "text": [
      "loading omics...\n",
      "\texpr loaded.\n"
     ]
    }
   ],
   "source": [
    "print('loading omics...')\n",
    "#methyl  = load_methyl(path=__DATA__, extpath='../extdata/') ; print('\\tmethyl loaded.')\n",
    "expr    = load_expr(path=__DATA__, extpath='../extdata/', zscore=False, clip_val=10) ; print('\\texpr loaded.')\n",
    "#cnv     = load_cnv(path=__DATA__, extpath='../extdata/') ; print('\\tcnv loaded.')\n",
    "#mut     = load_mut(path=__DATA__, extpath='../extdata/') ; print('\\tmut loaded.')"
   ]
  },
  {
   "cell_type": "code",
   "execution_count": 35,
   "metadata": {},
   "outputs": [
    {
     "name": "stdout",
     "output_type": "stream",
     "text": [
      "cell space size: 90\n"
     ]
    }
   ],
   "source": [
    "#[expr, methyl, mut, cnv], cell_space = filter_to_common_cellspace(omics=[expr, methyl, mut, cnv], cell_space=cell_space)\n",
    "[expr], cell_space = filter_to_common_cellspace(omics=[expr], cell_space=cell_space)\n",
    "\n",
    "print('cell space size:', len(cell_space))"
   ]
  },
  {
   "cell_type": "code",
   "execution_count": 36,
   "metadata": {},
   "outputs": [
    {
     "name": "stdout",
     "output_type": "stream",
     "text": [
      "\t# missing genes: 224 [impute value: 0]\n"
     ]
    },
    {
     "data": {
      "text/html": [
       "<div>\n",
       "<style scoped>\n",
       "    .dataframe tbody tr th:only-of-type {\n",
       "        vertical-align: middle;\n",
       "    }\n",
       "\n",
       "    .dataframe tbody tr th {\n",
       "        vertical-align: top;\n",
       "    }\n",
       "\n",
       "    .dataframe thead th {\n",
       "        text-align: right;\n",
       "    }\n",
       "</style>\n",
       "<table border=\"1\" class=\"dataframe\">\n",
       "  <thead>\n",
       "    <tr style=\"text-align: right;\">\n",
       "      <th></th>\n",
       "      <th>A0A6I8PU40</th>\n",
       "      <th>A0AV96</th>\n",
       "      <th>A0MZ66</th>\n",
       "      <th>A1A4S6</th>\n",
       "      <th>A1A4Y4</th>\n",
       "      <th>A5LHX3</th>\n",
       "      <th>A6NCE7</th>\n",
       "      <th>A8MW95</th>\n",
       "      <th>A9YTQ3</th>\n",
       "      <th>B7ZAP0</th>\n",
       "      <th>...</th>\n",
       "      <th>Q9Y6Q9</th>\n",
       "      <th>Q9Y6R0</th>\n",
       "      <th>Q9Y6R4</th>\n",
       "      <th>Q9Y6W5</th>\n",
       "      <th>Q9Y6W6</th>\n",
       "      <th>Q9Y6W8</th>\n",
       "      <th>Q9Y6X1</th>\n",
       "      <th>Q9Y6X2</th>\n",
       "      <th>Q9Y6X8</th>\n",
       "      <th>Q9Y6Y1</th>\n",
       "    </tr>\n",
       "    <tr>\n",
       "      <th>cell_iname</th>\n",
       "      <th></th>\n",
       "      <th></th>\n",
       "      <th></th>\n",
       "      <th></th>\n",
       "      <th></th>\n",
       "      <th></th>\n",
       "      <th></th>\n",
       "      <th></th>\n",
       "      <th></th>\n",
       "      <th></th>\n",
       "      <th></th>\n",
       "      <th></th>\n",
       "      <th></th>\n",
       "      <th></th>\n",
       "      <th></th>\n",
       "      <th></th>\n",
       "      <th></th>\n",
       "      <th></th>\n",
       "      <th></th>\n",
       "      <th></th>\n",
       "      <th></th>\n",
       "    </tr>\n",
       "  </thead>\n",
       "  <tbody>\n",
       "    <tr>\n",
       "      <th>22RV1</th>\n",
       "      <td>0</td>\n",
       "      <td>5.128458</td>\n",
       "      <td>4.429616</td>\n",
       "      <td>2.028569</td>\n",
       "      <td>0.042644</td>\n",
       "      <td>0.028569</td>\n",
       "      <td>1.056584</td>\n",
       "      <td>0.124328</td>\n",
       "      <td>1.220330</td>\n",
       "      <td>3.446256</td>\n",
       "      <td>...</td>\n",
       "      <td>3.347666</td>\n",
       "      <td>3.651913</td>\n",
       "      <td>4.055716</td>\n",
       "      <td>5.011675</td>\n",
       "      <td>3.169925</td>\n",
       "      <td>0.0</td>\n",
       "      <td>5.996841</td>\n",
       "      <td>5.809414</td>\n",
       "      <td>3.574102</td>\n",
       "      <td>6.599467</td>\n",
       "    </tr>\n",
       "    <tr>\n",
       "      <th>5637</th>\n",
       "      <td>0</td>\n",
       "      <td>3.119356</td>\n",
       "      <td>2.744161</td>\n",
       "      <td>4.068671</td>\n",
       "      <td>0.286881</td>\n",
       "      <td>0.000000</td>\n",
       "      <td>1.137504</td>\n",
       "      <td>0.028569</td>\n",
       "      <td>0.839960</td>\n",
       "      <td>3.333424</td>\n",
       "      <td>...</td>\n",
       "      <td>3.442280</td>\n",
       "      <td>3.533563</td>\n",
       "      <td>4.493135</td>\n",
       "      <td>5.953731</td>\n",
       "      <td>5.155021</td>\n",
       "      <td>0.0</td>\n",
       "      <td>5.460743</td>\n",
       "      <td>4.100137</td>\n",
       "      <td>2.931683</td>\n",
       "      <td>6.501280</td>\n",
       "    </tr>\n",
       "    <tr>\n",
       "      <th>A204</th>\n",
       "      <td>0</td>\n",
       "      <td>0.918386</td>\n",
       "      <td>0.565597</td>\n",
       "      <td>3.157044</td>\n",
       "      <td>0.070389</td>\n",
       "      <td>0.000000</td>\n",
       "      <td>2.025029</td>\n",
       "      <td>0.000000</td>\n",
       "      <td>2.904966</td>\n",
       "      <td>3.198494</td>\n",
       "      <td>...</td>\n",
       "      <td>3.493135</td>\n",
       "      <td>4.790251</td>\n",
       "      <td>3.336283</td>\n",
       "      <td>5.637204</td>\n",
       "      <td>0.422233</td>\n",
       "      <td>0.0</td>\n",
       "      <td>5.851499</td>\n",
       "      <td>6.607774</td>\n",
       "      <td>0.137504</td>\n",
       "      <td>7.473706</td>\n",
       "    </tr>\n",
       "    <tr>\n",
       "      <th>A375</th>\n",
       "      <td>0</td>\n",
       "      <td>2.364572</td>\n",
       "      <td>3.234195</td>\n",
       "      <td>2.592158</td>\n",
       "      <td>0.000000</td>\n",
       "      <td>0.000000</td>\n",
       "      <td>0.678072</td>\n",
       "      <td>0.028569</td>\n",
       "      <td>3.536053</td>\n",
       "      <td>2.954196</td>\n",
       "      <td>...</td>\n",
       "      <td>3.388190</td>\n",
       "      <td>3.808385</td>\n",
       "      <td>3.257011</td>\n",
       "      <td>5.068671</td>\n",
       "      <td>4.694323</td>\n",
       "      <td>0.0</td>\n",
       "      <td>5.603478</td>\n",
       "      <td>5.076388</td>\n",
       "      <td>1.176323</td>\n",
       "      <td>6.451211</td>\n",
       "    </tr>\n",
       "    <tr>\n",
       "      <th>A549</th>\n",
       "      <td>0</td>\n",
       "      <td>4.513491</td>\n",
       "      <td>4.725741</td>\n",
       "      <td>2.916477</td>\n",
       "      <td>0.000000</td>\n",
       "      <td>0.000000</td>\n",
       "      <td>0.941106</td>\n",
       "      <td>0.000000</td>\n",
       "      <td>0.879706</td>\n",
       "      <td>3.046142</td>\n",
       "      <td>...</td>\n",
       "      <td>5.916238</td>\n",
       "      <td>4.420887</td>\n",
       "      <td>2.849999</td>\n",
       "      <td>3.909773</td>\n",
       "      <td>1.411426</td>\n",
       "      <td>0.0</td>\n",
       "      <td>5.411765</td>\n",
       "      <td>3.820690</td>\n",
       "      <td>0.895303</td>\n",
       "      <td>6.042644</td>\n",
       "    </tr>\n",
       "  </tbody>\n",
       "</table>\n",
       "<p>5 rows × 2987 columns</p>\n",
       "</div>"
      ],
      "text/plain": [
       "            A0A6I8PU40    A0AV96    A0MZ66    A1A4S6    A1A4Y4    A5LHX3  \\\n",
       "cell_iname                                                                 \n",
       "22RV1                0  5.128458  4.429616  2.028569  0.042644  0.028569   \n",
       "5637                 0  3.119356  2.744161  4.068671  0.286881  0.000000   \n",
       "A204                 0  0.918386  0.565597  3.157044  0.070389  0.000000   \n",
       "A375                 0  2.364572  3.234195  2.592158  0.000000  0.000000   \n",
       "A549                 0  4.513491  4.725741  2.916477  0.000000  0.000000   \n",
       "\n",
       "              A6NCE7    A8MW95    A9YTQ3    B7ZAP0  ...    Q9Y6Q9    Q9Y6R0  \\\n",
       "cell_iname                                          ...                       \n",
       "22RV1       1.056584  0.124328  1.220330  3.446256  ...  3.347666  3.651913   \n",
       "5637        1.137504  0.028569  0.839960  3.333424  ...  3.442280  3.533563   \n",
       "A204        2.025029  0.000000  2.904966  3.198494  ...  3.493135  4.790251   \n",
       "A375        0.678072  0.028569  3.536053  2.954196  ...  3.388190  3.808385   \n",
       "A549        0.941106  0.000000  0.879706  3.046142  ...  5.916238  4.420887   \n",
       "\n",
       "              Q9Y6R4    Q9Y6W5    Q9Y6W6  Q9Y6W8    Q9Y6X1    Q9Y6X2  \\\n",
       "cell_iname                                                             \n",
       "22RV1       4.055716  5.011675  3.169925     0.0  5.996841  5.809414   \n",
       "5637        4.493135  5.953731  5.155021     0.0  5.460743  4.100137   \n",
       "A204        3.336283  5.637204  0.422233     0.0  5.851499  6.607774   \n",
       "A375        3.257011  5.068671  4.694323     0.0  5.603478  5.076388   \n",
       "A549        2.849999  3.909773  1.411426     0.0  5.411765  3.820690   \n",
       "\n",
       "              Q9Y6X8    Q9Y6Y1  \n",
       "cell_iname                      \n",
       "22RV1       3.574102  6.599467  \n",
       "5637        2.931683  6.501280  \n",
       "A204        0.137504  7.473706  \n",
       "A375        1.176323  6.451211  \n",
       "A549        0.895303  6.042644  \n",
       "\n",
       "[5 rows x 2987 columns]"
      ]
     },
     "execution_count": 36,
     "metadata": {},
     "output_type": "execute_result"
    }
   ],
   "source": [
    "required_nodes = np.unique(rna_space.tolist() + protein_space.tolist())\n",
    "\n",
    "expr = impute_missing_gene_ids(omic=expr, gene_space=required_nodes, fill_value=0)\n",
    "\n",
    "expr.head()"
   ]
  },
  {
   "attachments": {},
   "cell_type": "markdown",
   "metadata": {},
   "source": [
    "# Make each observation data... \n",
    "\n",
    "We'll process the data and save each observation as a dict .pt file: \n",
    "\n",
    "    <sig_id>.pt "
   ]
  },
  {
   "cell_type": "code",
   "execution_count": 37,
   "metadata": {},
   "outputs": [
    {
     "data": {
      "text/plain": [
       "(25654, 37)"
      ]
     },
     "execution_count": 37,
     "metadata": {},
     "output_type": "execute_result"
    }
   ],
   "source": [
    "# filter siginfo to cell space \n",
    "siginfo2 = siginfo2[lambda x: x.cell_iname.isin(cell_space)]\n",
    "siginfo2.shape"
   ]
  },
  {
   "cell_type": "code",
   "execution_count": 38,
   "metadata": {},
   "outputs": [
    {
     "data": {
      "text/plain": [
       "True"
      ]
     },
     "execution_count": 38,
     "metadata": {},
     "output_type": "execute_result"
    }
   ],
   "source": [
    "# double check we have obs for each drug \n",
    "siginfo2.pert_id.unique().shape[0] == len(drug_space)"
   ]
  },
  {
   "cell_type": "code",
   "execution_count": 39,
   "metadata": {},
   "outputs": [
    {
     "data": {
      "text/plain": [
       "True"
      ]
     },
     "execution_count": 39,
     "metadata": {},
     "output_type": "execute_result"
    }
   ],
   "source": [
    "# double check we have obs for each cell line \n",
    "siginfo2.cell_iname.unique().shape[0] == len(cell_space)"
   ]
  },
  {
   "cell_type": "code",
   "execution_count": 40,
   "metadata": {},
   "outputs": [
    {
     "data": {
      "text/html": [
       "<div>\n",
       "<style scoped>\n",
       "    .dataframe tbody tr th:only-of-type {\n",
       "        vertical-align: middle;\n",
       "    }\n",
       "\n",
       "    .dataframe tbody tr th {\n",
       "        vertical-align: top;\n",
       "    }\n",
       "\n",
       "    .dataframe thead th {\n",
       "        text-align: right;\n",
       "    }\n",
       "</style>\n",
       "<table border=\"1\" class=\"dataframe\">\n",
       "  <thead>\n",
       "    <tr style=\"text-align: right;\">\n",
       "      <th></th>\n",
       "      <th>sig_id</th>\n",
       "    </tr>\n",
       "    <tr>\n",
       "      <th>pert_type</th>\n",
       "      <th></th>\n",
       "    </tr>\n",
       "  </thead>\n",
       "  <tbody>\n",
       "    <tr>\n",
       "      <th>trt_cp</th>\n",
       "      <td>25654</td>\n",
       "    </tr>\n",
       "  </tbody>\n",
       "</table>\n",
       "</div>"
      ],
      "text/plain": [
       "           sig_id\n",
       "pert_type        \n",
       "trt_cp      25654"
      ]
     },
     "execution_count": 40,
     "metadata": {},
     "output_type": "execute_result"
    }
   ],
   "source": [
    "siginfo2[['pert_type', 'sig_id']].groupby('pert_type').count()"
   ]
  },
  {
   "cell_type": "code",
   "execution_count": 42,
   "metadata": {},
   "outputs": [],
   "source": [
    "def row2obs(row, dataset, dataset_row, uni2dataset_rowidx, sigid2idx, data, node2idx, meta): \n",
    "    ''' \n",
    "\n",
    "    Args: \n",
    "        row         (pandas.Series)             obs data \n",
    "        dataset     (h5py Dataset object)       contains lincs level 5 expression signatures \n",
    "        N           (int)                       # of nodes in graph (input + output + function) \n",
    "\n",
    "    Returns: \n",
    "        dict                                    one observation data \n",
    "    '''\n",
    "    #A = time.time() \n",
    "\n",
    "    lincs_nodes, drug_nodes, expr_nodes, N, input_nodes, output_nodes, func_nodes = meta\n",
    "\n",
    "    obs = {}\n",
    "\n",
    "    obs['pert_type']    = row.pert_type\n",
    "    obs['conc_um']      = row.pert_dose\n",
    "    obs['time_hr']      = row.pert_time \n",
    "    obs['sig_id']       = row.sig_id \n",
    "    obs['cell_iname']   = row.cell_iname\n",
    "    obs['pert_id']      = row.pert_id \n",
    "    obs['y_idx']        = sigid2idx[row.sig_id]\n",
    "\n",
    "    #B = time.time() \n",
    "\n",
    "    # only input nodes should be nonzero \n",
    "    # shape: (num_nodes, 1)\n",
    "    x_dict = {**{n:[0.] for n in func_nodes}, **{n:[0.] for n in drug_nodes}, **{n:[0.] for n in lincs_nodes}}\n",
    "\n",
    "    x_dict['DRUG__' + obs['pert_id']] = [np.log10(obs['conc_um'] + 1)]\n",
    "\n",
    "    # add expr inputs \n",
    "    for node in expr_nodes: \n",
    "        val = expr.loc[obs['cell_iname'], node.split('__')[1]]\n",
    "        x_dict[node] = [val]\n",
    "\n",
    "    x_df = pd.DataFrame(x_dict)\n",
    "    \n",
    "    #obs['x_dataframe'] = x_df\n",
    "    obs['x'] = torch.tensor(x_df[data.node_names].values, dtype=torch.float32).reshape(-1,1)\n",
    "\n",
    "    #C = time.time() \n",
    "\n",
    "    # only output nodes should be nonzero \n",
    "    # shape: (num_nodes, 1)\n",
    "    y_dict = {**{n:[0.] for n in func_nodes}, **{n:[0.] for n in drug_nodes}, **{n:[0.] for n in expr_nodes}}\n",
    "    # torch.tensor(dataset[obs['y_idx'], :][geneid_idxs], dtype=torch.float16) \n",
    "\n",
    "    y_lincs = dataset[obs['y_idx'], :]\n",
    "\n",
    "    for lincs_node in lincs_nodes: \n",
    "        uniprot = lincs_node.split('__')[1]\n",
    "        dataset_rowidx = uni2dataset_rowidx[uniprot]\n",
    "        \n",
    "        y_dict[lincs_node] = float(y_lincs[dataset_rowidx])\n",
    "        \n",
    "    y_df = pd.DataFrame(y_dict)\n",
    "    #obs['y_dataframe'] = y_df\n",
    "    obs['y'] = torch.tensor(y_df[data.node_names].values, dtype=torch.float32).reshape(-1,1)\n",
    "\n",
    "    if (~torch.isfinite(obs['y'])).any(): \n",
    "        print(f'WARNING: non-finite value in lincs expr signature; converting non-finite value to 0 [sig_id={row.sig_id }]')\n",
    "        obs['y'][~torch.isfinite(obs['y'])] = 0.\n",
    "        obs['y'] = obs['y'].detach()\n",
    "\n",
    "    #D = time.time() \n",
    "\n",
    "    #print(B-A,C-B,D-C)#; 3/0\n",
    "        \n",
    "    return obs \n"
   ]
  },
  {
   "cell_type": "code",
   "execution_count": 43,
   "metadata": {},
   "outputs": [],
   "source": [
    "hdf_cp            = h5py.File(__DATA__ + '/level5_beta_trt_cp_n720216x12328.gctx')\n",
    "dataset_cp        = hdf_cp['0']['DATA']['0']['matrix']\n",
    "col_cp            = np.array(hdf_cp['0']['META']['COL']['id'][...].astype('str'))       # lincs sample ids \n",
    "row_cp            = hdf_cp['0']['META']['ROW']['id'][...].astype(int)                   # gene ids "
   ]
  },
  {
   "cell_type": "code",
   "execution_count": 44,
   "metadata": {},
   "outputs": [],
   "source": [
    "uni2id_dict = uni2id[lambda x: x.gene_id.isin(row_cp)].set_index('uniprot').to_dict()['gene_id']\n",
    "uni2dataset_rowidx = {}\n",
    "row_cp = row_cp.tolist()\n",
    "for uniprot in [x.split('__')[1] for x in data.node_names if 'LINCS__' in x]: \n",
    "\n",
    "    gene_id = uni2id_dict[uniprot]\n",
    "    uni2dataset_rowidx[uniprot] = row_cp.index(gene_id)"
   ]
  },
  {
   "cell_type": "code",
   "execution_count": 45,
   "metadata": {},
   "outputs": [
    {
     "name": "stdout",
     "output_type": "stream",
     "text": [
      "deleting current /obs/ folder...\n"
     ]
    }
   ],
   "source": [
    "if not os.path.exists(f'{__OUT_DIR__}'): \n",
    "    os.mkdir(f'{__OUT_DIR__}')\n",
    "\n",
    "if os.path.exists(f'{__OUT_DIR__}/obs/'): \n",
    "    print('deleting current /obs/ folder...')\n",
    "    shutil.rmtree(f'{__OUT_DIR__}/obs/')\n",
    "\n",
    "os.mkdir(f'{__OUT_DIR__}/obs/')"
   ]
  },
  {
   "cell_type": "code",
   "execution_count": 46,
   "metadata": {},
   "outputs": [
    {
     "name": "stdout",
     "output_type": "stream",
     "text": [
      "progress: 25650/25654\r"
     ]
    }
   ],
   "source": [
    "sigid2idx_cp    = {sid:i for i,sid in enumerate(col_cp)}\n",
    "\n",
    "lincs_nodes = [nn for nn in data.node_names if 'LINCS__' in nn]\n",
    "drug_nodes = [nn for nn in data.node_names if ('DRUG__' in nn) & ((nn in data.node_names[data.input_node_mask.view(-1).detach().numpy()]))]\n",
    "expr_nodes = [nn for nn in data.node_names if ('EXPR__' in nn) & ((nn in data.node_names[data.input_node_mask.view(-1).detach().numpy()]))]\n",
    "N = len(data.node_names)\n",
    "\n",
    "input_nodes = data.node_names[data.input_node_mask]\n",
    "output_nodes = data.node_names[data.output_node_mask]\n",
    "func_nodes =  data.node_names[~(data.output_node_mask | data.input_node_mask)]\n",
    "\n",
    "meta = [lincs_nodes, drug_nodes, expr_nodes, N, input_nodes, output_nodes, func_nodes]\n",
    "\n",
    "# create obs\n",
    "for i,row in siginfo2.reset_index().iterrows(): \n",
    "    if (i%10)==0: \n",
    "        print(f'progress: {i}/{len(siginfo2)}', end='\\r')\n",
    "        #n_dict = {'trt_cp':0, 'trt_sh':0, 'trt_xpr':0, 'trt_oe':0}\n",
    "\n",
    "    obs = row2obs(row=row, \n",
    "                  dataset=dataset_cp, \n",
    "                  dataset_row=row_cp, \n",
    "                  uni2dataset_rowidx=uni2dataset_rowidx, \n",
    "                  sigid2idx=sigid2idx_cp, \n",
    "                  data=data, \n",
    "                  node2idx=node2idx,\n",
    "                  meta=meta)\n",
    "\n",
    "    torch.save(obs, f'{__OUT_DIR__}/obs/{obs[\"sig_id\"]}.pt')"
   ]
  },
  {
   "attachments": {},
   "cell_type": "markdown",
   "metadata": {},
   "source": [
    "# Create Train/Test/Val splits "
   ]
  },
  {
   "cell_type": "code",
   "execution_count": 49,
   "metadata": {},
   "outputs": [
    {
     "name": "stdout",
     "output_type": "stream",
     "text": [
      "# train cell lines: 73\n",
      "# test cell lines: 17\n",
      "# of test cell line obs 8265\n"
     ]
    }
   ],
   "source": [
    "# hold-out cell lines \n",
    "data.cellspace = cell_space\n",
    "\n",
    "mask = np.ones((len(data.cellspace),), dtype=bool)\n",
    "test_ixs = np.random.choice(np.arange(len(data.cellspace)), size=int(len(data.cellspace)*__TEST_PROP__))\n",
    "mask[test_ixs] = False \n",
    "\n",
    "train_cell_idxs = mask.nonzero()\n",
    "train_cells = data.cellspace[train_cell_idxs]\n",
    "test_cell_idxs = (~mask).nonzero()\n",
    "test_cells = data.cellspace[test_cell_idxs]\n",
    "\n",
    "print('# train cell lines:', len(train_cells))\n",
    "print('# test cell lines:', len(test_cells))\n",
    "\n",
    "test_obs = siginfo2[lambda x: x.cell_iname.isin(test_cells)].sig_id.values\n",
    "\n",
    "print('# of test cell line obs', len(test_obs))\n",
    "\n",
    "# remove from training obs \n",
    "siginfo2 = siginfo2[lambda x: ~x.cell_iname.isin(test_cells)]\n",
    "train_obs = siginfo2.sig_id.values"
   ]
  },
  {
   "cell_type": "code",
   "execution_count": 50,
   "metadata": {},
   "outputs": [],
   "source": [
    "np.save(f'{__OUT_DIR__}/test_obs', test_obs)\n",
    "np.save(f'{__OUT_DIR__}/train_obs', train_obs)\n"
   ]
  },
  {
   "attachments": {},
   "cell_type": "markdown",
   "metadata": {},
   "source": [
    "# save data object"
   ]
  },
  {
   "cell_type": "code",
   "execution_count": 51,
   "metadata": {},
   "outputs": [],
   "source": [
    "# save data obj to disk\n",
    "torch.save(data, f'{__OUT_DIR__}/Data.pt')"
   ]
  },
  {
   "cell_type": "code",
   "execution_count": null,
   "metadata": {},
   "outputs": [],
   "source": []
  },
  {
   "cell_type": "code",
   "execution_count": null,
   "metadata": {},
   "outputs": [],
   "source": []
  },
  {
   "attachments": {},
   "cell_type": "markdown",
   "metadata": {},
   "source": [
    "# Create PRISM data"
   ]
  },
  {
   "cell_type": "code",
   "execution_count": 50,
   "metadata": {},
   "outputs": [
    {
     "data": {
      "text/html": [
       "<div>\n",
       "<style scoped>\n",
       "    .dataframe tbody tr th:only-of-type {\n",
       "        vertical-align: middle;\n",
       "    }\n",
       "\n",
       "    .dataframe tbody tr th {\n",
       "        vertical-align: top;\n",
       "    }\n",
       "\n",
       "    .dataframe thead th {\n",
       "        text-align: right;\n",
       "    }\n",
       "</style>\n",
       "<table border=\"1\" class=\"dataframe\">\n",
       "  <thead>\n",
       "    <tr style=\"text-align: right;\">\n",
       "      <th></th>\n",
       "      <th>pert_id</th>\n",
       "      <th>depmap_id</th>\n",
       "      <th>cell_iname</th>\n",
       "      <th>conc_um</th>\n",
       "      <th>log_fold_change</th>\n",
       "      <th>screen_id</th>\n",
       "      <th>num_repl</th>\n",
       "      <th>sig_id</th>\n",
       "      <th>cell_viab</th>\n",
       "    </tr>\n",
       "  </thead>\n",
       "  <tbody>\n",
       "    <tr>\n",
       "      <th>0</th>\n",
       "      <td>BRD-A00055058</td>\n",
       "      <td>ACH-000012</td>\n",
       "      <td>HCC827</td>\n",
       "      <td>2.325889319</td>\n",
       "      <td>-0.302195</td>\n",
       "      <td>[primary]</td>\n",
       "      <td>1</td>\n",
       "      <td>HCC827::BRD-A00055058::2.325889319</td>\n",
       "      <td>0.811017</td>\n",
       "    </tr>\n",
       "    <tr>\n",
       "      <th>1</th>\n",
       "      <td>BRD-A00055058</td>\n",
       "      <td>ACH-000019</td>\n",
       "      <td>MCF7</td>\n",
       "      <td>2.325889319</td>\n",
       "      <td>-0.172896</td>\n",
       "      <td>[primary]</td>\n",
       "      <td>1</td>\n",
       "      <td>MCF7::BRD-A00055058::2.325889319</td>\n",
       "      <td>0.887060</td>\n",
       "    </tr>\n",
       "    <tr>\n",
       "      <th>2</th>\n",
       "      <td>BRD-A00055058</td>\n",
       "      <td>ACH-000048</td>\n",
       "      <td>TOV112D</td>\n",
       "      <td>2.325889319</td>\n",
       "      <td>-0.464282</td>\n",
       "      <td>[primary]</td>\n",
       "      <td>1</td>\n",
       "      <td>TOV112D::BRD-A00055058::2.325889319</td>\n",
       "      <td>0.724832</td>\n",
       "    </tr>\n",
       "    <tr>\n",
       "      <th>3</th>\n",
       "      <td>BRD-A00055058</td>\n",
       "      <td>ACH-000052</td>\n",
       "      <td>A673</td>\n",
       "      <td>2.325889319</td>\n",
       "      <td>0.241151</td>\n",
       "      <td>[primary]</td>\n",
       "      <td>1</td>\n",
       "      <td>A673::BRD-A00055058::2.325889319</td>\n",
       "      <td>1.181935</td>\n",
       "    </tr>\n",
       "    <tr>\n",
       "      <th>4</th>\n",
       "      <td>BRD-A00055058</td>\n",
       "      <td>ACH-000087</td>\n",
       "      <td>SKES1</td>\n",
       "      <td>2.325889319</td>\n",
       "      <td>0.371372</td>\n",
       "      <td>[primary]</td>\n",
       "      <td>1</td>\n",
       "      <td>SKES1::BRD-A00055058::2.325889319</td>\n",
       "      <td>1.293583</td>\n",
       "    </tr>\n",
       "  </tbody>\n",
       "</table>\n",
       "</div>"
      ],
      "text/plain": [
       "         pert_id   depmap_id cell_iname      conc_um  log_fold_change  \\\n",
       "0  BRD-A00055058  ACH-000012     HCC827  2.325889319        -0.302195   \n",
       "1  BRD-A00055058  ACH-000019       MCF7  2.325889319        -0.172896   \n",
       "2  BRD-A00055058  ACH-000048    TOV112D  2.325889319        -0.464282   \n",
       "3  BRD-A00055058  ACH-000052       A673  2.325889319         0.241151   \n",
       "4  BRD-A00055058  ACH-000087      SKES1  2.325889319         0.371372   \n",
       "\n",
       "   screen_id  num_repl                               sig_id  cell_viab  \n",
       "0  [primary]         1   HCC827::BRD-A00055058::2.325889319   0.811017  \n",
       "1  [primary]         1     MCF7::BRD-A00055058::2.325889319   0.887060  \n",
       "2  [primary]         1  TOV112D::BRD-A00055058::2.325889319   0.724832  \n",
       "3  [primary]         1     A673::BRD-A00055058::2.325889319   1.181935  \n",
       "4  [primary]         1    SKES1::BRD-A00055058::2.325889319   1.293583  "
      ]
     },
     "execution_count": 50,
     "metadata": {},
     "output_type": "execute_result"
    }
   ],
   "source": [
    "prism = load_prism(__DATA__)\n",
    "prism.head()"
   ]
  },
  {
   "cell_type": "code",
   "execution_count": 51,
   "metadata": {},
   "outputs": [
    {
     "name": "stdout",
     "output_type": "stream",
     "text": [
      "# obs: (248566, 9)\n",
      "# cell inames 62\n",
      "# pert ids 1034\n"
     ]
    },
    {
     "data": {
      "text/html": [
       "<div>\n",
       "<style scoped>\n",
       "    .dataframe tbody tr th:only-of-type {\n",
       "        vertical-align: middle;\n",
       "    }\n",
       "\n",
       "    .dataframe tbody tr th {\n",
       "        vertical-align: top;\n",
       "    }\n",
       "\n",
       "    .dataframe thead th {\n",
       "        text-align: right;\n",
       "    }\n",
       "</style>\n",
       "<table border=\"1\" class=\"dataframe\">\n",
       "  <thead>\n",
       "    <tr style=\"text-align: right;\">\n",
       "      <th></th>\n",
       "      <th>pert_id</th>\n",
       "      <th>depmap_id</th>\n",
       "      <th>cell_iname</th>\n",
       "      <th>conc_um</th>\n",
       "      <th>log_fold_change</th>\n",
       "      <th>screen_id</th>\n",
       "      <th>num_repl</th>\n",
       "      <th>sig_id</th>\n",
       "      <th>cell_viab</th>\n",
       "    </tr>\n",
       "  </thead>\n",
       "  <tbody>\n",
       "    <tr>\n",
       "      <th>104</th>\n",
       "      <td>BRD-A00077618</td>\n",
       "      <td>ACH-000019</td>\n",
       "      <td>MCF7</td>\n",
       "      <td>0.00061034</td>\n",
       "      <td>-0.014680</td>\n",
       "      <td>[secondary]</td>\n",
       "      <td>1</td>\n",
       "      <td>MCF7::BRD-A00077618::0.00061034</td>\n",
       "      <td>0.989876</td>\n",
       "    </tr>\n",
       "    <tr>\n",
       "      <th>105</th>\n",
       "      <td>BRD-A00077618</td>\n",
       "      <td>ACH-000019</td>\n",
       "      <td>MCF7</td>\n",
       "      <td>0.0024414</td>\n",
       "      <td>0.139121</td>\n",
       "      <td>[secondary]</td>\n",
       "      <td>1</td>\n",
       "      <td>MCF7::BRD-A00077618::0.0024414</td>\n",
       "      <td>1.101234</td>\n",
       "    </tr>\n",
       "    <tr>\n",
       "      <th>106</th>\n",
       "      <td>BRD-A00077618</td>\n",
       "      <td>ACH-000019</td>\n",
       "      <td>MCF7</td>\n",
       "      <td>0.00976562</td>\n",
       "      <td>0.275380</td>\n",
       "      <td>[secondary]</td>\n",
       "      <td>1</td>\n",
       "      <td>MCF7::BRD-A00077618::0.00976562</td>\n",
       "      <td>1.210313</td>\n",
       "    </tr>\n",
       "    <tr>\n",
       "      <th>107</th>\n",
       "      <td>BRD-A00077618</td>\n",
       "      <td>ACH-000019</td>\n",
       "      <td>MCF7</td>\n",
       "      <td>0.0390625</td>\n",
       "      <td>0.285509</td>\n",
       "      <td>[secondary]</td>\n",
       "      <td>1</td>\n",
       "      <td>MCF7::BRD-A00077618::0.0390625</td>\n",
       "      <td>1.218841</td>\n",
       "    </tr>\n",
       "    <tr>\n",
       "      <th>108</th>\n",
       "      <td>BRD-A00077618</td>\n",
       "      <td>ACH-000019</td>\n",
       "      <td>MCF7</td>\n",
       "      <td>0.15625</td>\n",
       "      <td>0.755286</td>\n",
       "      <td>[secondary]</td>\n",
       "      <td>1</td>\n",
       "      <td>MCF7::BRD-A00077618::0.15625</td>\n",
       "      <td>1.687966</td>\n",
       "    </tr>\n",
       "  </tbody>\n",
       "</table>\n",
       "</div>"
      ],
      "text/plain": [
       "           pert_id   depmap_id cell_iname     conc_um  log_fold_change  \\\n",
       "104  BRD-A00077618  ACH-000019       MCF7  0.00061034        -0.014680   \n",
       "105  BRD-A00077618  ACH-000019       MCF7   0.0024414         0.139121   \n",
       "106  BRD-A00077618  ACH-000019       MCF7  0.00976562         0.275380   \n",
       "107  BRD-A00077618  ACH-000019       MCF7   0.0390625         0.285509   \n",
       "108  BRD-A00077618  ACH-000019       MCF7     0.15625         0.755286   \n",
       "\n",
       "       screen_id  num_repl                           sig_id  cell_viab  \n",
       "104  [secondary]         1  MCF7::BRD-A00077618::0.00061034   0.989876  \n",
       "105  [secondary]         1   MCF7::BRD-A00077618::0.0024414   1.101234  \n",
       "106  [secondary]         1  MCF7::BRD-A00077618::0.00976562   1.210313  \n",
       "107  [secondary]         1   MCF7::BRD-A00077618::0.0390625   1.218841  \n",
       "108  [secondary]         1     MCF7::BRD-A00077618::0.15625   1.687966  "
      ]
     },
     "execution_count": 51,
     "metadata": {},
     "output_type": "execute_result"
    }
   ],
   "source": [
    "# filter to drug/cell space \n",
    "prism = prism[lambda x: x.pert_id.isin(data['drug'].node_names)]\n",
    "prism = prism[lambda x: x.cell_iname.isin(data['meta']['cellspace'])]\n",
    "\n",
    "print('# obs:', prism.shape)\n",
    "print('# cell inames', prism.cell_iname.unique().shape[0])\n",
    "print('# pert ids', prism.pert_id.unique().shape[0])\n",
    "prism.head()"
   ]
  },
  {
   "cell_type": "code",
   "execution_count": 52,
   "metadata": {},
   "outputs": [],
   "source": [
    "assert not prism.log_fold_change.isna().any(), 'na in `log_fold_change`'\n",
    "assert not prism.conc_um.isna().any(), 'na in `conc_um`'\n",
    "assert not prism.cell_iname.isna().any(), 'na in `cell_iname`'\n",
    "assert not prism.pert_id.isna().any(), 'na in `pert_id`'"
   ]
  },
  {
   "cell_type": "code",
   "execution_count": 53,
   "metadata": {},
   "outputs": [],
   "source": [
    "prism.to_csv(f'{__OUT_DIR__}/prism.csv')"
   ]
  },
  {
   "cell_type": "code",
   "execution_count": 57,
   "metadata": {},
   "outputs": [
    {
     "data": {
      "text/html": [
       "<div>\n",
       "<style scoped>\n",
       "    .dataframe tbody tr th:only-of-type {\n",
       "        vertical-align: middle;\n",
       "    }\n",
       "\n",
       "    .dataframe tbody tr th {\n",
       "        vertical-align: top;\n",
       "    }\n",
       "\n",
       "    .dataframe thead th {\n",
       "        text-align: right;\n",
       "    }\n",
       "</style>\n",
       "<table border=\"1\" class=\"dataframe\">\n",
       "  <thead>\n",
       "    <tr style=\"text-align: right;\">\n",
       "      <th></th>\n",
       "      <th>pert_id</th>\n",
       "      <th>depmap_id</th>\n",
       "      <th>cell_iname</th>\n",
       "      <th>conc_um</th>\n",
       "      <th>log_fold_change</th>\n",
       "      <th>screen_id</th>\n",
       "      <th>num_repl</th>\n",
       "      <th>sig_id</th>\n",
       "      <th>cell_viab</th>\n",
       "    </tr>\n",
       "  </thead>\n",
       "  <tbody>\n",
       "    <tr>\n",
       "      <th>104</th>\n",
       "      <td>BRD-A00077618</td>\n",
       "      <td>ACH-000019</td>\n",
       "      <td>MCF7</td>\n",
       "      <td>0.00061034</td>\n",
       "      <td>-0.014680</td>\n",
       "      <td>[secondary]</td>\n",
       "      <td>1</td>\n",
       "      <td>MCF7::BRD-A00077618::0.00061034</td>\n",
       "      <td>0.989876</td>\n",
       "    </tr>\n",
       "    <tr>\n",
       "      <th>105</th>\n",
       "      <td>BRD-A00077618</td>\n",
       "      <td>ACH-000019</td>\n",
       "      <td>MCF7</td>\n",
       "      <td>0.0024414</td>\n",
       "      <td>0.139121</td>\n",
       "      <td>[secondary]</td>\n",
       "      <td>1</td>\n",
       "      <td>MCF7::BRD-A00077618::0.0024414</td>\n",
       "      <td>1.101234</td>\n",
       "    </tr>\n",
       "    <tr>\n",
       "      <th>106</th>\n",
       "      <td>BRD-A00077618</td>\n",
       "      <td>ACH-000019</td>\n",
       "      <td>MCF7</td>\n",
       "      <td>0.00976562</td>\n",
       "      <td>0.275380</td>\n",
       "      <td>[secondary]</td>\n",
       "      <td>1</td>\n",
       "      <td>MCF7::BRD-A00077618::0.00976562</td>\n",
       "      <td>1.210313</td>\n",
       "    </tr>\n",
       "    <tr>\n",
       "      <th>107</th>\n",
       "      <td>BRD-A00077618</td>\n",
       "      <td>ACH-000019</td>\n",
       "      <td>MCF7</td>\n",
       "      <td>0.0390625</td>\n",
       "      <td>0.285509</td>\n",
       "      <td>[secondary]</td>\n",
       "      <td>1</td>\n",
       "      <td>MCF7::BRD-A00077618::0.0390625</td>\n",
       "      <td>1.218841</td>\n",
       "    </tr>\n",
       "    <tr>\n",
       "      <th>108</th>\n",
       "      <td>BRD-A00077618</td>\n",
       "      <td>ACH-000019</td>\n",
       "      <td>MCF7</td>\n",
       "      <td>0.15625</td>\n",
       "      <td>0.755286</td>\n",
       "      <td>[secondary]</td>\n",
       "      <td>1</td>\n",
       "      <td>MCF7::BRD-A00077618::0.15625</td>\n",
       "      <td>1.687966</td>\n",
       "    </tr>\n",
       "  </tbody>\n",
       "</table>\n",
       "</div>"
      ],
      "text/plain": [
       "           pert_id   depmap_id cell_iname     conc_um  log_fold_change  \\\n",
       "104  BRD-A00077618  ACH-000019       MCF7  0.00061034        -0.014680   \n",
       "105  BRD-A00077618  ACH-000019       MCF7   0.0024414         0.139121   \n",
       "106  BRD-A00077618  ACH-000019       MCF7  0.00976562         0.275380   \n",
       "107  BRD-A00077618  ACH-000019       MCF7   0.0390625         0.285509   \n",
       "108  BRD-A00077618  ACH-000019       MCF7     0.15625         0.755286   \n",
       "\n",
       "       screen_id  num_repl                           sig_id  cell_viab  \n",
       "104  [secondary]         1  MCF7::BRD-A00077618::0.00061034   0.989876  \n",
       "105  [secondary]         1   MCF7::BRD-A00077618::0.0024414   1.101234  \n",
       "106  [secondary]         1  MCF7::BRD-A00077618::0.00976562   1.210313  \n",
       "107  [secondary]         1   MCF7::BRD-A00077618::0.0390625   1.218841  \n",
       "108  [secondary]         1     MCF7::BRD-A00077618::0.15625   1.687966  "
      ]
     },
     "execution_count": 57,
     "metadata": {},
     "output_type": "execute_result"
    }
   ],
   "source": [
    "prism.head()"
   ]
  },
  {
   "cell_type": "code",
   "execution_count": 58,
   "metadata": {},
   "outputs": [
    {
     "name": "stdout",
     "output_type": "stream",
     "text": [
      "# train obs: 204155\n",
      "# test obs: 44411\n"
     ]
    }
   ],
   "source": [
    "test_obs2 = prism[lambda x: x.cell_iname.isin(test_cells)].sig_id.values\n",
    "train_obs2 = prism[lambda x: x.cell_iname.isin(train_cells)].sig_id.values\n",
    "\n",
    "print('# train obs:', len(train_obs2))\n",
    "print('# test obs:', len(test_obs2))"
   ]
  },
  {
   "cell_type": "code",
   "execution_count": 59,
   "metadata": {},
   "outputs": [],
   "source": [
    "np.save(f'{__OUT_DIR__}/prism_train_obs', train_obs2)\n",
    "np.save(f'{__OUT_DIR__}/prism_test_obs', test_obs2)\n",
    "#np.save(f'{__OUT_DIR__}/prism_val_obs', val_obs2)"
   ]
  },
  {
   "cell_type": "code",
   "execution_count": null,
   "metadata": {},
   "outputs": [],
   "source": []
  },
  {
   "cell_type": "code",
   "execution_count": null,
   "metadata": {},
   "outputs": [],
   "source": []
  },
  {
   "cell_type": "code",
   "execution_count": null,
   "metadata": {},
   "outputs": [],
   "source": []
  },
  {
   "cell_type": "code",
   "execution_count": null,
   "metadata": {},
   "outputs": [],
   "source": []
  },
  {
   "cell_type": "code",
   "execution_count": null,
   "metadata": {},
   "outputs": [],
   "source": []
  }
 ],
 "metadata": {
  "kernelspec": {
   "display_name": "kcdr",
   "language": "python",
   "name": "python3"
  },
  "language_info": {
   "codemirror_mode": {
    "name": "ipython",
    "version": 3
   },
   "file_extension": ".py",
   "mimetype": "text/x-python",
   "name": "python",
   "nbconvert_exporter": "python",
   "pygments_lexer": "ipython3",
   "version": "3.10.11"
  },
  "orig_nbformat": 4,
  "vscode": {
   "interpreter": {
    "hash": "33750f63235a5b550b10980428c4b4cc290435fa56f3e469dbe2a019bacd182a"
   }
  }
 },
 "nbformat": 4,
 "nbformat_minor": 2
}
