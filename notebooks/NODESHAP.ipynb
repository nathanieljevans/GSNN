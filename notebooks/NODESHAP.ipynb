{
 "cells": [
  {
   "cell_type": "code",
   "execution_count": 1,
   "metadata": {},
   "outputs": [
    {
     "name": "stderr",
     "output_type": "stream",
     "text": [
      "/home/teddy/miniconda3/envs/grcp/lib/python3.10/site-packages/tqdm/auto.py:21: TqdmWarning: IProgress not found. Please update jupyter and ipywidgets. See https://ipywidgets.readthedocs.io/en/stable/user_install.html\n",
      "  from .autonotebook import tqdm as notebook_tqdm\n"
     ]
    }
   ],
   "source": [
    "import shap \n",
    "import torch \n",
    "import numpy as np \n",
    "from matplotlib import pyplot as plt \n",
    "import pandas as pd \n",
    "\n",
    "import sys \n",
    "sys.path.append('../')\n",
    "import src.models.utils as utils"
   ]
  },
  {
   "cell_type": "code",
   "execution_count": 2,
   "metadata": {},
   "outputs": [],
   "source": [
    "model = torch.load('../output/exp1/0d5d60ef-b896-4557-8620-8522bcfca888/model.pt').cpu()"
   ]
  },
  {
   "cell_type": "code",
   "execution_count": 3,
   "metadata": {},
   "outputs": [],
   "source": [
    "data = torch.load('../output/exp1/proc/Data.pt')"
   ]
  },
  {
   "cell_type": "code",
   "execution_count": 4,
   "metadata": {},
   "outputs": [
    {
     "data": {
      "text/plain": [
       "array(['DRUG__BRD-A00758722', 'DRUG__BRD-A00938334',\n",
       "       'DRUG__BRD-A03249105', ..., 'RNA__Q9Y6Q9', 'RNA__Q9Y6R4',\n",
       "       'RNA__Q9Y6W5'], dtype='<U19')"
      ]
     },
     "execution_count": 4,
     "metadata": {},
     "output_type": "execute_result"
    }
   ],
   "source": [
    "data.node_names"
   ]
  },
  {
   "cell_type": "code",
   "execution_count": 5,
   "metadata": {},
   "outputs": [
    {
     "data": {
      "text/plain": [
       "torch.Size([100, 3282])"
      ]
     },
     "execution_count": 5,
     "metadata": {},
     "output_type": "execute_result"
    }
   ],
   "source": [
    "B = 100 \n",
    "\n",
    "x = torch.randn((B, data.node_names.shape[0]))\n",
    "\n",
    "x.size()"
   ]
  },
  {
   "cell_type": "code",
   "execution_count": 21,
   "metadata": {},
   "outputs": [
    {
     "ename": "TypeError",
     "evalue": "'int' object is not callable",
     "output_type": "error",
     "traceback": [
      "\u001b[0;31m---------------------------------------------------------------------------\u001b[0m",
      "\u001b[0;31mTypeError\u001b[0m                                 Traceback (most recent call last)",
      "Cell \u001b[0;32mIn[21], line 4\u001b[0m\n\u001b[1;32m      2\u001b[0m f \u001b[39m=\u001b[39m \u001b[39mlambda\u001b[39;00m ex: model\u001b[39m.\u001b[39medge_update(x\u001b[39m=\u001b[39mtorch\u001b[39m.\u001b[39mtensor(ex), x0\u001b[39m=\u001b[39m\u001b[39mNone\u001b[39;00m, x_last\u001b[39m=\u001b[39mtorch\u001b[39m.\u001b[39mzeros_like(torch\u001b[39m.\u001b[39mtensor(ex))\u001b[39m.\u001b[39munsqueeze(\u001b[39m-\u001b[39m\u001b[39m1\u001b[39m), layer\u001b[39m=\u001b[39m\u001b[39m0\u001b[39m)[\u001b[39m0\u001b[39m]\u001b[39m.\u001b[39mdetach()\u001b[39m.\u001b[39mnumpy()\n\u001b[1;32m      3\u001b[0m ey \u001b[39m=\u001b[39m f(ex\u001b[39m.\u001b[39mdetach()\u001b[39m.\u001b[39mnumpy())\n\u001b[0;32m----> 4\u001b[0m y \u001b[39m=\u001b[39m utils\u001b[39m.\u001b[39;49medge2node(ey, model\u001b[39m.\u001b[39;49medge_index, output_node_mask\u001b[39m=\u001b[39;49mmodel\u001b[39m.\u001b[39;49moutput_node_mask)\n",
      "File \u001b[0;32m~/local/GSNN/notebooks/../src/models/utils.py:170\u001b[0m, in \u001b[0;36medge2node\u001b[0;34m(x, edge_index, output_node_mask)\u001b[0m\n\u001b[1;32m    167\u001b[0m src, dst \u001b[39m=\u001b[39m edge_index \n\u001b[1;32m    168\u001b[0m output_edge_mask \u001b[39m=\u001b[39m torch\u001b[39m.\u001b[39misin(dst, output_nodes)\n\u001b[0;32m--> 170\u001b[0m B \u001b[39m=\u001b[39m x\u001b[39m.\u001b[39;49msize(\u001b[39m0\u001b[39;49m)\n\u001b[1;32m    171\u001b[0m out \u001b[39m=\u001b[39m torch\u001b[39m.\u001b[39mzeros(B, output_node_mask\u001b[39m.\u001b[39msize(\u001b[39m0\u001b[39m), dtype\u001b[39m=\u001b[39mtorch\u001b[39m.\u001b[39mfloat32, device\u001b[39m=\u001b[39mx\u001b[39m.\u001b[39mdevice)\n\u001b[1;32m    172\u001b[0m out[:, dst[output_edge_mask]\u001b[39m.\u001b[39mview(\u001b[39m-\u001b[39m\u001b[39m1\u001b[39m)] \u001b[39m=\u001b[39m x[:, output_edge_mask]\u001b[39m.\u001b[39mview(B, \u001b[39m-\u001b[39m\u001b[39m1\u001b[39m)\n",
      "\u001b[0;31mTypeError\u001b[0m: 'int' object is not callable"
     ]
    }
   ],
   "source": [
    "\n",
    "\n",
    "ex = utils.node2edge(x, model.edge_index)\n",
    "f = lambda ex: model.edge_update(x=torch.tensor(ex), x0=None, x_last=torch.zeros_like(torch.tensor(ex)).unsqueeze(-1), layer=0)[0].detach().numpy()\n",
    "ey = f(ex.detach().numpy())\n",
    "y = utils.edge2node(ey, model.edge_index, output_node_mask=model.output_node_mask)"
   ]
  },
  {
   "cell_type": "code",
   "execution_count": 26,
   "metadata": {},
   "outputs": [
    {
     "ename": "ValueError",
     "evalue": "max_evals=500 is too low for the Permutation explainer, it must be at least 2 * num_features + 1 = 28711!",
     "output_type": "error",
     "traceback": [
      "\u001b[0;31m---------------------------------------------------------------------------\u001b[0m",
      "\u001b[0;31mValueError\u001b[0m                                Traceback (most recent call last)",
      "Cell \u001b[0;32mIn[26], line 2\u001b[0m\n\u001b[1;32m      1\u001b[0m explainer \u001b[39m=\u001b[39m shap\u001b[39m.\u001b[39mExplainer(f, ex[:\u001b[39m25\u001b[39m, :]\u001b[39m.\u001b[39mdetach()\u001b[39m.\u001b[39mnumpy())\n\u001b[0;32m----> 2\u001b[0m shap_values \u001b[39m=\u001b[39m explainer(ex[\u001b[39m25\u001b[39;49m:, :]\u001b[39m.\u001b[39;49mdetach()\u001b[39m.\u001b[39;49mnumpy())\n",
      "File \u001b[0;32m~/miniconda3/envs/grcp/lib/python3.10/site-packages/shap/explainers/_permutation.py:82\u001b[0m, in \u001b[0;36mPermutation.__call__\u001b[0;34m(self, max_evals, main_effects, error_bounds, batch_size, outputs, silent, *args)\u001b[0m\n\u001b[1;32m     78\u001b[0m \u001b[39mdef\u001b[39;00m \u001b[39m__call__\u001b[39m(\u001b[39mself\u001b[39m, \u001b[39m*\u001b[39margs, max_evals\u001b[39m=\u001b[39m\u001b[39m500\u001b[39m, main_effects\u001b[39m=\u001b[39m\u001b[39mFalse\u001b[39;00m, error_bounds\u001b[39m=\u001b[39m\u001b[39mFalse\u001b[39;00m, batch_size\u001b[39m=\u001b[39m\u001b[39m\"\u001b[39m\u001b[39mauto\u001b[39m\u001b[39m\"\u001b[39m,\n\u001b[1;32m     79\u001b[0m              outputs\u001b[39m=\u001b[39m\u001b[39mNone\u001b[39;00m, silent\u001b[39m=\u001b[39m\u001b[39mFalse\u001b[39;00m):\n\u001b[1;32m     80\u001b[0m \u001b[39m    \u001b[39m\u001b[39m\"\"\" Explain the output of the model on the given arguments.\u001b[39;00m\n\u001b[1;32m     81\u001b[0m \u001b[39m    \"\"\"\u001b[39;00m\n\u001b[0;32m---> 82\u001b[0m     \u001b[39mreturn\u001b[39;00m \u001b[39msuper\u001b[39;49m()\u001b[39m.\u001b[39;49m\u001b[39m__call__\u001b[39;49m(\n\u001b[1;32m     83\u001b[0m         \u001b[39m*\u001b[39;49margs, max_evals\u001b[39m=\u001b[39;49mmax_evals, main_effects\u001b[39m=\u001b[39;49mmain_effects, error_bounds\u001b[39m=\u001b[39;49merror_bounds, batch_size\u001b[39m=\u001b[39;49mbatch_size,\n\u001b[1;32m     84\u001b[0m         outputs\u001b[39m=\u001b[39;49moutputs, silent\u001b[39m=\u001b[39;49msilent\n\u001b[1;32m     85\u001b[0m     )\n",
      "File \u001b[0;32m~/miniconda3/envs/grcp/lib/python3.10/site-packages/shap/explainers/_explainer.py:266\u001b[0m, in \u001b[0;36mExplainer.__call__\u001b[0;34m(self, max_evals, main_effects, error_bounds, batch_size, outputs, silent, *args, **kwargs)\u001b[0m\n\u001b[1;32m    264\u001b[0m     feature_names \u001b[39m=\u001b[39m [[] \u001b[39mfor\u001b[39;00m _ \u001b[39min\u001b[39;00m \u001b[39mrange\u001b[39m(\u001b[39mlen\u001b[39m(args))]\n\u001b[1;32m    265\u001b[0m \u001b[39mfor\u001b[39;00m row_args \u001b[39min\u001b[39;00m show_progress(\u001b[39mzip\u001b[39m(\u001b[39m*\u001b[39margs), num_rows, \u001b[39mself\u001b[39m\u001b[39m.\u001b[39m\u001b[39m__class__\u001b[39m\u001b[39m.\u001b[39m\u001b[39m__name__\u001b[39m\u001b[39m+\u001b[39m\u001b[39m\"\u001b[39m\u001b[39m explainer\u001b[39m\u001b[39m\"\u001b[39m, silent):\n\u001b[0;32m--> 266\u001b[0m     row_result \u001b[39m=\u001b[39m \u001b[39mself\u001b[39;49m\u001b[39m.\u001b[39;49mexplain_row(\n\u001b[1;32m    267\u001b[0m         \u001b[39m*\u001b[39;49mrow_args, max_evals\u001b[39m=\u001b[39;49mmax_evals, main_effects\u001b[39m=\u001b[39;49mmain_effects, error_bounds\u001b[39m=\u001b[39;49merror_bounds,\n\u001b[1;32m    268\u001b[0m         batch_size\u001b[39m=\u001b[39;49mbatch_size, outputs\u001b[39m=\u001b[39;49moutputs, silent\u001b[39m=\u001b[39;49msilent, \u001b[39m*\u001b[39;49m\u001b[39m*\u001b[39;49mkwargs\n\u001b[1;32m    269\u001b[0m     )\n\u001b[1;32m    270\u001b[0m     values\u001b[39m.\u001b[39mappend(row_result\u001b[39m.\u001b[39mget(\u001b[39m\"\u001b[39m\u001b[39mvalues\u001b[39m\u001b[39m\"\u001b[39m, \u001b[39mNone\u001b[39;00m))\n\u001b[1;32m    271\u001b[0m     output_indices\u001b[39m.\u001b[39mappend(row_result\u001b[39m.\u001b[39mget(\u001b[39m\"\u001b[39m\u001b[39moutput_indices\u001b[39m\u001b[39m\"\u001b[39m, \u001b[39mNone\u001b[39;00m))\n",
      "File \u001b[0;32m~/miniconda3/envs/grcp/lib/python3.10/site-packages/shap/explainers/_permutation.py:164\u001b[0m, in \u001b[0;36mPermutation.explain_row\u001b[0;34m(self, max_evals, main_effects, error_bounds, batch_size, outputs, silent, *row_args)\u001b[0m\n\u001b[1;32m    161\u001b[0m     history_pos \u001b[39m+\u001b[39m\u001b[39m=\u001b[39m \u001b[39m1\u001b[39m\n\u001b[1;32m    163\u001b[0m \u001b[39mif\u001b[39;00m npermutations \u001b[39m==\u001b[39m \u001b[39m0\u001b[39m:\n\u001b[0;32m--> 164\u001b[0m     \u001b[39mraise\u001b[39;00m \u001b[39mValueError\u001b[39;00m(\u001b[39mf\u001b[39m\u001b[39m\"\u001b[39m\u001b[39mmax_evals=\u001b[39m\u001b[39m{\u001b[39;00mmax_evals\u001b[39m}\u001b[39;00m\u001b[39m is too low for the Permutation explainer, it must be at least 2 * num_features + 1 = \u001b[39m\u001b[39m{\u001b[39;00m\u001b[39m2\u001b[39m\u001b[39m \u001b[39m\u001b[39m*\u001b[39m\u001b[39m \u001b[39m\u001b[39mlen\u001b[39m(inds)\u001b[39m \u001b[39m\u001b[39m+\u001b[39m\u001b[39m \u001b[39m\u001b[39m1\u001b[39m\u001b[39m}\u001b[39;00m\u001b[39m!\u001b[39m\u001b[39m\"\u001b[39m)\n\u001b[1;32m    166\u001b[0m expected_value \u001b[39m=\u001b[39m outputs[\u001b[39m0\u001b[39m]\n\u001b[1;32m    168\u001b[0m \u001b[39m# compute the main effects if we need to\u001b[39;00m\n",
      "\u001b[0;31mValueError\u001b[0m: max_evals=500 is too low for the Permutation explainer, it must be at least 2 * num_features + 1 = 28711!"
     ]
    }
   ],
   "source": [
    "explainer = shap.Explainer(f, ex[:25, :].detach().numpy())\n",
    "shap_values = explainer(ex[25:, :].detach().numpy())"
   ]
  },
  {
   "cell_type": "code",
   "execution_count": null,
   "metadata": {},
   "outputs": [],
   "source": []
  },
  {
   "cell_type": "code",
   "execution_count": 27,
   "metadata": {},
   "outputs": [],
   "source": [
    "def extract_function(node, model, data): \n",
    "    '''\n",
    "    extract a single node function from the GSNN model and return the neural network. \n",
    "    '''\n",
    "    C = 3 #model.channels\n",
    "    node_idx = list(data.node_names).index(node)\n",
    "\n",
    "    # get first layer weights \n",
    "    src, dst = model.lin1.indices\n",
    "    node_idxs = torch.arange(node_idx*C, node_idx*C + C)\n",
    "    edge_mask = torch.isin(dst, node_idxs)\n",
    "\n",
    "    lin1 = copy.deepcopy(model.lin1)\n",
    "    \n",
    "    W1 = model.lin1.values[edge_mask]\n",
    "    B1 = model.lin1.bias[node_idxs] \n",
    "\n",
    "    input_names = data.node_names[src[edge_mask]]\n",
    "\n",
    "    print(input_names)\n",
    "    print(W1)\n",
    "    print(B1)\n",
    "\n",
    "    "
   ]
  },
  {
   "cell_type": "code",
   "execution_count": 28,
   "metadata": {},
   "outputs": [
    {
     "ename": "IndexError",
     "evalue": "index 12386 is out of bounds for axis 0 with size 3282",
     "output_type": "error",
     "traceback": [
      "\u001b[0;31m---------------------------------------------------------------------------\u001b[0m",
      "\u001b[0;31mIndexError\u001b[0m                                Traceback (most recent call last)",
      "Cell \u001b[0;32mIn[28], line 1\u001b[0m\n\u001b[0;32m----> 1\u001b[0m extract_function(node\u001b[39m=\u001b[39;49m\u001b[39m'\u001b[39;49m\u001b[39mPROTEIN__P26045\u001b[39;49m\u001b[39m'\u001b[39;49m, model\u001b[39m=\u001b[39;49mmodel, data\u001b[39m=\u001b[39;49mdata)\n",
      "Cell \u001b[0;32mIn[27], line 16\u001b[0m, in \u001b[0;36mextract_function\u001b[0;34m(node, model, data)\u001b[0m\n\u001b[1;32m     13\u001b[0m W1 \u001b[39m=\u001b[39m model\u001b[39m.\u001b[39mlin1\u001b[39m.\u001b[39mvalues[edge_mask]\n\u001b[1;32m     14\u001b[0m B1 \u001b[39m=\u001b[39m model\u001b[39m.\u001b[39mlin1\u001b[39m.\u001b[39mbias[node_idxs] \n\u001b[0;32m---> 16\u001b[0m input_names \u001b[39m=\u001b[39m data\u001b[39m.\u001b[39;49mnode_names[src[edge_mask]]\n\u001b[1;32m     18\u001b[0m \u001b[39mprint\u001b[39m(input_names)\n\u001b[1;32m     19\u001b[0m \u001b[39mprint\u001b[39m(W1)\n",
      "\u001b[0;31mIndexError\u001b[0m: index 12386 is out of bounds for axis 0 with size 3282"
     ]
    }
   ],
   "source": [
    "extract_function(node='PROTEIN__P26045', model=model, data=data)"
   ]
  },
  {
   "cell_type": "code",
   "execution_count": 21,
   "metadata": {},
   "outputs": [
    {
     "data": {
      "text/plain": [
       "True"
      ]
     },
     "execution_count": 21,
     "metadata": {},
     "output_type": "execute_result"
    }
   ],
   "source": [
    "'PROTEIN__P26045' in data.node_names.tolist() "
   ]
  },
  {
   "cell_type": "code",
   "execution_count": null,
   "metadata": {},
   "outputs": [],
   "source": []
  }
 ],
 "metadata": {
  "kernelspec": {
   "display_name": "grcp",
   "language": "python",
   "name": "python3"
  },
  "language_info": {
   "codemirror_mode": {
    "name": "ipython",
    "version": 3
   },
   "file_extension": ".py",
   "mimetype": "text/x-python",
   "name": "python",
   "nbconvert_exporter": "python",
   "pygments_lexer": "ipython3",
   "version": "3.10.11"
  },
  "orig_nbformat": 4
 },
 "nbformat": 4,
 "nbformat_minor": 2
}
